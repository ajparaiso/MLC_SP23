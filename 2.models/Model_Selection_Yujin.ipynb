{
 "cells": [
  {
   "cell_type": "code",
   "execution_count": 1,
   "id": "572340ff",
   "metadata": {},
   "outputs": [],
   "source": [
    "import pandas as pd\n",
    "import numpy as np\n",
    "df = pd.read_csv(\"./MLC_SP23/clean_data/regression_data.csv\", low_memory=False, index_col=[0])"
   ]
  },
  {
   "cell_type": "code",
   "execution_count": 2,
   "id": "92f0e880",
   "metadata": {},
   "outputs": [
    {
     "data": {
      "text/html": [
       "<div>\n",
       "<style scoped>\n",
       "    .dataframe tbody tr th:only-of-type {\n",
       "        vertical-align: middle;\n",
       "    }\n",
       "\n",
       "    .dataframe tbody tr th {\n",
       "        vertical-align: top;\n",
       "    }\n",
       "\n",
       "    .dataframe thead th {\n",
       "        text-align: right;\n",
       "    }\n",
       "</style>\n",
       "<table border=\"1\" class=\"dataframe\">\n",
       "  <thead>\n",
       "    <tr style=\"text-align: right;\">\n",
       "      <th></th>\n",
       "      <th>bbl</th>\n",
       "      <th>rs_share_diff</th>\n",
       "      <th>total_units_19</th>\n",
       "      <th>year_built</th>\n",
       "      <th>ejectment_count</th>\n",
       "      <th>possession_count</th>\n",
       "      <th>eviction_count</th>\n",
       "      <th>aleration_count</th>\n",
       "      <th>altered_lessthan5yrs</th>\n",
       "      <th>altered_morethan5yrs</th>\n",
       "      <th>...</th>\n",
       "      <th>pop_race_div_idx_19</th>\n",
       "      <th>boro_2</th>\n",
       "      <th>boro_3</th>\n",
       "      <th>boro_4</th>\n",
       "      <th>boro_5</th>\n",
       "      <th>hh_inc_avg_19_log1</th>\n",
       "      <th>pop_race_asian_pct_19_log1</th>\n",
       "      <th>pop_race_black_pct_19_log1</th>\n",
       "      <th>pop16_unemp_pct_19_log1</th>\n",
       "      <th>pop_mobile1_diff_state_pct_19_log1</th>\n",
       "    </tr>\n",
       "  </thead>\n",
       "  <tbody>\n",
       "    <tr>\n",
       "      <th>0</th>\n",
       "      <td>1000780047</td>\n",
       "      <td>0.0000</td>\n",
       "      <td>483</td>\n",
       "      <td>2016</td>\n",
       "      <td>0.0</td>\n",
       "      <td>0.0</td>\n",
       "      <td>0.0</td>\n",
       "      <td>0.0</td>\n",
       "      <td>0.0</td>\n",
       "      <td>0.0</td>\n",
       "      <td>...</td>\n",
       "      <td>0.450691</td>\n",
       "      <td>0</td>\n",
       "      <td>0</td>\n",
       "      <td>0</td>\n",
       "      <td>0</td>\n",
       "      <td>12.276639</td>\n",
       "      <td>0.150551</td>\n",
       "      <td>0.018246</td>\n",
       "      <td>0.035008</td>\n",
       "      <td>0.074674</td>\n",
       "    </tr>\n",
       "    <tr>\n",
       "      <th>1</th>\n",
       "      <td>1001350019</td>\n",
       "      <td>0.0000</td>\n",
       "      <td>4</td>\n",
       "      <td>1915</td>\n",
       "      <td>0.0</td>\n",
       "      <td>0.0</td>\n",
       "      <td>0.0</td>\n",
       "      <td>0.0</td>\n",
       "      <td>0.0</td>\n",
       "      <td>0.0</td>\n",
       "      <td>...</td>\n",
       "      <td>0.457072</td>\n",
       "      <td>0</td>\n",
       "      <td>0</td>\n",
       "      <td>0</td>\n",
       "      <td>0</td>\n",
       "      <td>12.897523</td>\n",
       "      <td>0.096864</td>\n",
       "      <td>0.055298</td>\n",
       "      <td>0.002253</td>\n",
       "      <td>0.014341</td>\n",
       "    </tr>\n",
       "    <tr>\n",
       "      <th>2</th>\n",
       "      <td>1001620013</td>\n",
       "      <td>-0.0500</td>\n",
       "      <td>20</td>\n",
       "      <td>1915</td>\n",
       "      <td>0.0</td>\n",
       "      <td>0.0</td>\n",
       "      <td>0.0</td>\n",
       "      <td>0.0</td>\n",
       "      <td>0.0</td>\n",
       "      <td>0.0</td>\n",
       "      <td>...</td>\n",
       "      <td>0.612518</td>\n",
       "      <td>0</td>\n",
       "      <td>0</td>\n",
       "      <td>0</td>\n",
       "      <td>0</td>\n",
       "      <td>10.973689</td>\n",
       "      <td>0.461379</td>\n",
       "      <td>0.096629</td>\n",
       "      <td>0.037102</td>\n",
       "      <td>0.008935</td>\n",
       "    </tr>\n",
       "    <tr>\n",
       "      <th>3</th>\n",
       "      <td>1001630024</td>\n",
       "      <td>0.1875</td>\n",
       "      <td>16</td>\n",
       "      <td>1915</td>\n",
       "      <td>0.0</td>\n",
       "      <td>0.0</td>\n",
       "      <td>0.0</td>\n",
       "      <td>0.0</td>\n",
       "      <td>0.0</td>\n",
       "      <td>0.0</td>\n",
       "      <td>...</td>\n",
       "      <td>0.612518</td>\n",
       "      <td>0</td>\n",
       "      <td>0</td>\n",
       "      <td>0</td>\n",
       "      <td>0</td>\n",
       "      <td>10.973689</td>\n",
       "      <td>0.461379</td>\n",
       "      <td>0.096629</td>\n",
       "      <td>0.037102</td>\n",
       "      <td>0.008935</td>\n",
       "    </tr>\n",
       "    <tr>\n",
       "      <th>4</th>\n",
       "      <td>1001630033</td>\n",
       "      <td>0.0000</td>\n",
       "      <td>11</td>\n",
       "      <td>1915</td>\n",
       "      <td>0.0</td>\n",
       "      <td>0.0</td>\n",
       "      <td>0.0</td>\n",
       "      <td>1.0</td>\n",
       "      <td>0.0</td>\n",
       "      <td>1.0</td>\n",
       "      <td>...</td>\n",
       "      <td>0.612518</td>\n",
       "      <td>0</td>\n",
       "      <td>0</td>\n",
       "      <td>0</td>\n",
       "      <td>0</td>\n",
       "      <td>10.973689</td>\n",
       "      <td>0.461379</td>\n",
       "      <td>0.096629</td>\n",
       "      <td>0.037102</td>\n",
       "      <td>0.008935</td>\n",
       "    </tr>\n",
       "  </tbody>\n",
       "</table>\n",
       "<p>5 rows × 77 columns</p>\n",
       "</div>"
      ],
      "text/plain": [
       "          bbl  rs_share_diff  total_units_19  year_built  ejectment_count  \\\n",
       "0  1000780047         0.0000             483        2016              0.0   \n",
       "1  1001350019         0.0000               4        1915              0.0   \n",
       "2  1001620013        -0.0500              20        1915              0.0   \n",
       "3  1001630024         0.1875              16        1915              0.0   \n",
       "4  1001630033         0.0000              11        1915              0.0   \n",
       "\n",
       "   possession_count  eviction_count  aleration_count  altered_lessthan5yrs  \\\n",
       "0               0.0             0.0              0.0                   0.0   \n",
       "1               0.0             0.0              0.0                   0.0   \n",
       "2               0.0             0.0              0.0                   0.0   \n",
       "3               0.0             0.0              0.0                   0.0   \n",
       "4               0.0             0.0              1.0                   0.0   \n",
       "\n",
       "   altered_morethan5yrs  ...  pop_race_div_idx_19  boro_2  boro_3  boro_4  \\\n",
       "0                   0.0  ...             0.450691       0       0       0   \n",
       "1                   0.0  ...             0.457072       0       0       0   \n",
       "2                   0.0  ...             0.612518       0       0       0   \n",
       "3                   0.0  ...             0.612518       0       0       0   \n",
       "4                   1.0  ...             0.612518       0       0       0   \n",
       "\n",
       "   boro_5  hh_inc_avg_19_log1  pop_race_asian_pct_19_log1  \\\n",
       "0       0           12.276639                    0.150551   \n",
       "1       0           12.897523                    0.096864   \n",
       "2       0           10.973689                    0.461379   \n",
       "3       0           10.973689                    0.461379   \n",
       "4       0           10.973689                    0.461379   \n",
       "\n",
       "   pop_race_black_pct_19_log1  pop16_unemp_pct_19_log1  \\\n",
       "0                    0.018246                 0.035008   \n",
       "1                    0.055298                 0.002253   \n",
       "2                    0.096629                 0.037102   \n",
       "3                    0.096629                 0.037102   \n",
       "4                    0.096629                 0.037102   \n",
       "\n",
       "   pop_mobile1_diff_state_pct_19_log1  \n",
       "0                            0.074674  \n",
       "1                            0.014341  \n",
       "2                            0.008935  \n",
       "3                            0.008935  \n",
       "4                            0.008935  \n",
       "\n",
       "[5 rows x 77 columns]"
      ]
     },
     "execution_count": 2,
     "metadata": {},
     "output_type": "execute_result"
    }
   ],
   "source": [
    "df.head()"
   ]
  },
  {
   "cell_type": "code",
   "execution_count": 3,
   "id": "0abd379d",
   "metadata": {},
   "outputs": [],
   "source": [
    "import matplotlib\n",
    "import matplotlib.pyplot as plt\n",
    "from matplotlib.pyplot import cm\n",
    "\n",
    "%matplotlib inline "
   ]
  },
  {
   "cell_type": "code",
   "execution_count": 4,
   "id": "fc6e743c",
   "metadata": {},
   "outputs": [],
   "source": [
    "# df['total_units_19'].quantile([0.1,0.2,0.3,0.4,0.5])"
   ]
  },
  {
   "cell_type": "code",
   "execution_count": 5,
   "id": "4c7e3a15",
   "metadata": {},
   "outputs": [],
   "source": [
    "# df['unit_bin'] = pd.cut(df['total_units_19'], \n",
    "#                           bins=df['total_units_19'].quantile(np.arange(0,1.05,0.05)).values, \n",
    "#                           include_lowest=True,\n",
    "#                           duplicates='drop') "
   ]
  },
  {
   "cell_type": "code",
   "execution_count": 6,
   "id": "1695aeb8",
   "metadata": {},
   "outputs": [],
   "source": [
    "# df.loc[df['total_units_19'] <= 6.0, ['rs_share_diff']]"
   ]
  },
  {
   "cell_type": "code",
   "execution_count": 7,
   "id": "7c9fbfc9",
   "metadata": {},
   "outputs": [],
   "source": [
    "# df.groupby(['unit_bin'])['total_units_19','rs_share_diff'].mean()"
   ]
  },
  {
   "cell_type": "markdown",
   "id": "4c9a6383",
   "metadata": {},
   "source": [
    "### 1. Gradient Boosting Regressor - all buildings"
   ]
  },
  {
   "cell_type": "code",
   "execution_count": 8,
   "id": "d28de632",
   "metadata": {},
   "outputs": [],
   "source": [
    "X = df.drop(['rs_share_diff','bbl'], axis = 1)\n",
    "y = df['rs_share_diff']"
   ]
  },
  {
   "cell_type": "code",
   "execution_count": 9,
   "id": "c3357634",
   "metadata": {},
   "outputs": [],
   "source": [
    "from sklearn.model_selection import train_test_split\n",
    "X_train, X_test, y_train, y_test = train_test_split(X, y, test_size=0.25, random_state=1)"
   ]
  },
  {
   "cell_type": "code",
   "execution_count": 10,
   "id": "8bbf0704",
   "metadata": {},
   "outputs": [],
   "source": [
    "from sklearn.ensemble import GradientBoostingRegressor\n",
    "from sklearn.model_selection import GridSearchCV\n"
   ]
  },
  {
   "cell_type": "code",
   "execution_count": 11,
   "id": "27399406",
   "metadata": {},
   "outputs": [
    {
     "name": "stdout",
     "output_type": "stream",
     "text": [
      "GradientBoostingRegressor(max_depth=4, n_estimators=200)\n"
     ]
    }
   ],
   "source": [
    "# Fit model\n",
    "\n",
    "gbr_params = {'n_estimators' : [200],\n",
    "            'max_depth'    : [4,5],\n",
    "             }\n",
    "\n",
    "model_gb = GradientBoostingRegressor()\n",
    "gr_gb = GridSearchCV(model_gb, param_grid = gbr_params, cv = 4)\n",
    "fit_gb = gr_gb.fit(X_train, y_train)\n",
    "print(fit_gb.best_estimator_)"
   ]
  },
  {
   "cell_type": "code",
   "execution_count": 12,
   "id": "42bd6c3f",
   "metadata": {},
   "outputs": [
    {
     "name": "stdout",
     "output_type": "stream",
     "text": [
      "RMSE:  0.3207014200782403\n"
     ]
    }
   ],
   "source": [
    "# Test set prediction\n",
    "\n",
    "from sklearn.metrics import mean_squared_error\n",
    "\n",
    "y_hat_gb_test = fit_gb.predict(X_test)\n",
    "rmse = mean_squared_error(y_test, y_hat_gb_test, squared=False)\n",
    "\n",
    "print(\"RMSE: \", rmse)"
   ]
  },
  {
   "cell_type": "code",
   "execution_count": 13,
   "id": "047671bb",
   "metadata": {},
   "outputs": [
    {
     "name": "stdout",
     "output_type": "stream",
     "text": [
      "Computing partial dependence plots...\n"
     ]
    },
    {
     "name": "stderr",
     "output_type": "stream",
     "text": [
      "/Users/yujinlee/opt/anaconda3/lib/python3.9/site-packages/sklearn/utils/deprecation.py:87: FutureWarning: Function plot_partial_dependence is deprecated; Function `plot_partial_dependence` is deprecated in 1.0 and will be removed in 1.2. Use PartialDependenceDisplay.from_estimator instead\n",
      "  warnings.warn(msg, category=FutureWarning)\n"
     ]
    },
    {
     "data": {
      "image/png": "[encoded data removed]",
      "text/plain": [
       "<Figure size 432x288 with 2 Axes>"
      ]
     },
     "metadata": {
      "needs_background": "light"
     },
     "output_type": "display_data"
    }
   ],
   "source": [
    "# Path Dependency\n",
    "\n",
    "from sklearn.inspection import partial_dependence\n",
    "from sklearn.inspection import plot_partial_dependence\n",
    "\n",
    "print('Computing partial dependence plots...')\n",
    "features = ['total_units_19']\n",
    "plot_partial_dependence(fit_gb, X_train, features,\n",
    "                        n_jobs=3, grid_resolution=20)\n",
    "\n",
    "fig = plt.gcf()"
   ]
  },
  {
   "cell_type": "code",
   "execution_count": 14,
   "id": "442d3a37",
   "metadata": {},
   "outputs": [
    {
     "data": {
      "image/png": "[encoded data removed]",
      "text/plain": [
       "<Figure size 360x720 with 1 Axes>"
      ]
     },
     "metadata": {
      "needs_background": "light"
     },
     "output_type": "display_data"
    }
   ],
   "source": [
    "# Get Feature importance data using feature_importances_attribute\n",
    "\n",
    "plt.figure(figsize=(5,10))\n",
    "importances = pd.Series(fit_gb.best_estimator_.feature_importances_, X_train.columns)\n",
    "importances.sort_values().tail(10).plot.barh(color = '#6a79f7')\n",
    "plt.title('Feature Importance in the Gradient Boosting Regressor Model for All Buildings',fontsize=15)\n",
    "plt.xlabel('Feature Importance',fontsize = 15)\n",
    "plt.ylabel('Features',fontsize = 15)\n",
    "plt.show()\n"
   ]
  },
  {
   "cell_type": "markdown",
   "id": "dd7b70ba",
   "metadata": {},
   "source": [
    "### 2. Gradient Boosting Regressor - buildings <= 6 units"
   ]
  },
  {
   "cell_type": "code",
   "execution_count": 15,
   "id": "61fd5619",
   "metadata": {},
   "outputs": [],
   "source": [
    "df_small = df[df['total_units_19'] <= 6].reset_index(drop=True)"
   ]
  },
  {
   "cell_type": "code",
   "execution_count": 16,
   "id": "e94ee237",
   "metadata": {},
   "outputs": [],
   "source": [
    "X = df_small.drop(['rs_share_diff','bbl'], axis = 1)\n",
    "y = df_small['rs_share_diff']"
   ]
  },
  {
   "cell_type": "code",
   "execution_count": 17,
   "id": "967fde6e",
   "metadata": {},
   "outputs": [],
   "source": [
    "from sklearn.model_selection import train_test_split\n",
    "X_train, X_test, y_train, y_test = train_test_split(X, y, test_size=0.25, random_state=1)"
   ]
  },
  {
   "cell_type": "code",
   "execution_count": 18,
   "id": "9de2a343",
   "metadata": {},
   "outputs": [
    {
     "name": "stdout",
     "output_type": "stream",
     "text": [
      "GradientBoostingRegressor(max_depth=4, n_estimators=200)\n"
     ]
    }
   ],
   "source": [
    "# Fit model\n",
    "\n",
    "gbr_params = {'n_estimators' : [200],\n",
    "            'max_depth'    : [4,5],\n",
    "             }\n",
    "\n",
    "model_gb = GradientBoostingRegressor()\n",
    "gr_gb = GridSearchCV(model_gb, param_grid = gbr_params, cv = 4)\n",
    "fit_gb_small = gr_gb.fit(X_train, y_train)\n",
    "print(fit_gb.best_estimator_)"
   ]
  },
  {
   "cell_type": "code",
   "execution_count": 19,
   "id": "9aa479ef",
   "metadata": {},
   "outputs": [
    {
     "name": "stdout",
     "output_type": "stream",
     "text": [
      "RMSE_small:  0.32055959795183303\n"
     ]
    }
   ],
   "source": [
    "# Test set prediction\n",
    "\n",
    "from sklearn.metrics import mean_squared_error\n",
    "\n",
    "y_hat_gb_test = fit_gb_small.predict(X_test)\n",
    "rmse = mean_squared_error(y_test, y_hat_gb_test, squared=False)\n",
    "\n",
    "print(\"RMSE_small: \", rmse)"
   ]
  },
  {
   "cell_type": "code",
   "execution_count": 20,
   "id": "273e8ba6",
   "metadata": {},
   "outputs": [
    {
     "name": "stderr",
     "output_type": "stream",
     "text": [
      "/Users/yujinlee/opt/anaconda3/lib/python3.9/site-packages/sklearn/utils/deprecation.py:87: FutureWarning: Function plot_partial_dependence is deprecated; Function `plot_partial_dependence` is deprecated in 1.0 and will be removed in 1.2. Use PartialDependenceDisplay.from_estimator instead\n",
      "  warnings.warn(msg, category=FutureWarning)\n"
     ]
    },
    {
     "data": {
      "image/png": "[encoded data removed]",
      "text/plain": [
       "<Figure size 432x288 with 2 Axes>"
      ]
     },
     "metadata": {
      "needs_background": "light"
     },
     "output_type": "display_data"
    }
   ],
   "source": [
    "# Path Dependency\n",
    "\n",
    "from sklearn.inspection import partial_dependence\n",
    "from sklearn.inspection import plot_partial_dependence\n",
    "\n",
    "features = ['total_units_19']\n",
    "plot_partial_dependence(fit_gb_small, X_train, features,\n",
    "                        n_jobs=3, grid_resolution=20)\n",
    "\n",
    "fig = plt.gcf()\n"
   ]
  },
  {
   "cell_type": "code",
   "execution_count": 21,
   "id": "2fe663e4",
   "metadata": {},
   "outputs": [
    {
     "data": {
      "image/png": "[encoded data removed]",
      "text/plain": [
       "<Figure size 360x720 with 1 Axes>"
      ]
     },
     "metadata": {
      "needs_background": "light"
     },
     "output_type": "display_data"
    }
   ],
   "source": [
    "# Get Feature importance data using feature_importances_attribute\n",
    "\n",
    "plt.figure(figsize=(5,10))\n",
    "importances = pd.Series(fit_gb_small.best_estimator_.feature_importances_, X_train.columns)\n",
    "importances.sort_values().tail(10).plot.barh(color = '#6a79f7')\n",
    "plt.title('Feature Importance in the Gradient Boosting Regressor Model for Small Buildings',fontsize=15)\n",
    "plt.xlabel('Feature Importance',fontsize = 15)\n",
    "plt.ylabel('Features',fontsize = 15)\n",
    "plt.show()\n"
   ]
  },
  {
   "cell_type": "markdown",
   "id": "aaaba4b3",
   "metadata": {},
   "source": [
    "### 3. Gradient Boosting Regressor - buildings > 6 units"
   ]
  },
  {
   "cell_type": "code",
   "execution_count": 22,
   "id": "b80368c3",
   "metadata": {},
   "outputs": [],
   "source": [
    "df_big = df[df['total_units_19'] > 6].reset_index(drop=True)"
   ]
  },
  {
   "cell_type": "code",
   "execution_count": 23,
   "id": "10359707",
   "metadata": {},
   "outputs": [],
   "source": [
    "X = df_big.drop(['rs_share_diff','bbl'], axis = 1)\n",
    "y = df_big['rs_share_diff']"
   ]
  },
  {
   "cell_type": "code",
   "execution_count": 24,
   "id": "a34b9637",
   "metadata": {},
   "outputs": [],
   "source": [
    "X_train, X_test, y_train, y_test = train_test_split(X, y, test_size=0.25, random_state=1)"
   ]
  },
  {
   "cell_type": "code",
   "execution_count": 25,
   "id": "56327363",
   "metadata": {},
   "outputs": [
    {
     "name": "stdout",
     "output_type": "stream",
     "text": [
      "GradientBoostingRegressor(max_depth=4, n_estimators=200)\n"
     ]
    }
   ],
   "source": [
    "# Fit model\n",
    "\n",
    "gbr_params = {'n_estimators' : [200],\n",
    "            'max_depth'    : [4,5],\n",
    "             }\n",
    "\n",
    "model_gb = GradientBoostingRegressor()\n",
    "gr_gb = GridSearchCV(model_gb, param_grid = gbr_params, cv = 4)\n",
    "fit_gb_big = gr_gb.fit(X_train, y_train)\n",
    "print(fit_gb.best_estimator_)"
   ]
  },
  {
   "cell_type": "code",
   "execution_count": 26,
   "id": "904a5e26",
   "metadata": {},
   "outputs": [
    {
     "name": "stdout",
     "output_type": "stream",
     "text": [
      "RMSE_big:  0.3270265730989778\n"
     ]
    }
   ],
   "source": [
    "# Test set prediction\n",
    "\n",
    "y_hat_gb_test = fit_gb_big.predict(X_test)\n",
    "rmse_big = mean_squared_error(y_test, y_hat_gb_test, squared=False)\n",
    "\n",
    "print(\"RMSE_big: \", rmse_big)"
   ]
  },
  {
   "cell_type": "code",
   "execution_count": 27,
   "id": "5742bb8a",
   "metadata": {},
   "outputs": [
    {
     "name": "stderr",
     "output_type": "stream",
     "text": [
      "/Users/yujinlee/opt/anaconda3/lib/python3.9/site-packages/sklearn/utils/deprecation.py:87: FutureWarning: Function plot_partial_dependence is deprecated; Function `plot_partial_dependence` is deprecated in 1.0 and will be removed in 1.2. Use PartialDependenceDisplay.from_estimator instead\n",
      "  warnings.warn(msg, category=FutureWarning)\n"
     ]
    },
    {
     "data": {
      "image/png": "[encoded data removed]",
      "text/plain": [
       "<Figure size 432x288 with 2 Axes>"
      ]
     },
     "metadata": {
      "needs_background": "light"
     },
     "output_type": "display_data"
    }
   ],
   "source": [
    "# Path Dependency\n",
    "\n",
    "features = ['total_units_19']\n",
    "plot_partial_dependence(fit_gb_big, X_train, features,\n",
    "                        n_jobs=3, grid_resolution=20)\n",
    "\n",
    "fig = plt.gcf()\n"
   ]
  },
  {
   "cell_type": "code",
   "execution_count": 28,
   "id": "9144b737",
   "metadata": {},
   "outputs": [
    {
     "data": {
      "image/png": "[encoded data removed]",
      "text/plain": [
       "<Figure size 360x720 with 1 Axes>"
      ]
     },
     "metadata": {
      "needs_background": "light"
     },
     "output_type": "display_data"
    }
   ],
   "source": [
    "# Get Feature importance data using feature_importances_attribute\n",
    "import matplotlib.pyplot as plt\n",
    "from matplotlib.pyplot import cm\n",
    "\n",
    "plt.figure(figsize=(5,10))\n",
    "importances = pd.Series(fit_gb_big.best_estimator_.feature_importances_, X_train.columns)\n",
    "importances.sort_values().tail(10).plot.barh(color = '#6a79f7')\n",
    "plt.title('Feature Importance in the Gradient Boosting Regressor Model for Big Buildings',fontsize=15)\n",
    "plt.xlabel('Feature Importance',fontsize = 15)\n",
    "plt.ylabel('Features',fontsize = 15)\n",
    "plt.show()\n"
   ]
  }
 ],
 "metadata": {
  "kernelspec": {
   "display_name": "Python 3 (ipykernel)",
   "language": "python",
   "name": "python3"
  },
  "language_info": {
   "codemirror_mode": {
    "name": "ipython",
    "version": 3
   },
   "file_extension": ".py",
   "mimetype": "text/x-python",
   "name": "python",
   "nbconvert_exporter": "python",
   "pygments_lexer": "ipython3",
   "version": "3.9.12"
  }
 },
 "nbformat": 4,
 "nbformat_minor": 5
}
