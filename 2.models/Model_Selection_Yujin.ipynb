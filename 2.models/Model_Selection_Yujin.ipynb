{
 "cells": [
  {
   "cell_type": "code",
   "execution_count": 22,
   "id": "572340ff",
   "metadata": {},
   "outputs": [],
   "source": [
    "import pandas as pd\n",
    "import numpy as np\n",
    "df = pd.read_csv(\"../clean_data/merged_data_v3.csv\", low_memory=False, index_col=[0])"
   ]
  },
  {
   "cell_type": "markdown",
   "id": "cf836e53",
   "metadata": {},
   "source": [
    "## Train - Test Split"
   ]
  },
  {
   "cell_type": "code",
   "execution_count": 23,
   "id": "92f0e880",
   "metadata": {},
   "outputs": [
    {
     "data": {
      "text/html": [
       "<div>\n",
       "<style scoped>\n",
       "    .dataframe tbody tr th:only-of-type {\n",
       "        vertical-align: middle;\n",
       "    }\n",
       "\n",
       "    .dataframe tbody tr th {\n",
       "        vertical-align: top;\n",
       "    }\n",
       "\n",
       "    .dataframe thead th {\n",
       "        text-align: right;\n",
       "    }\n",
       "</style>\n",
       "<table border=\"1\" class=\"dataframe\">\n",
       "  <thead>\n",
       "    <tr style=\"text-align: right;\">\n",
       "      <th></th>\n",
       "      <th>bbl</th>\n",
       "      <th>total_units_19</th>\n",
       "      <th>year_built</th>\n",
       "      <th>ejectment_count</th>\n",
       "      <th>possession_count</th>\n",
       "      <th>eviction_count</th>\n",
       "      <th>aleration_count</th>\n",
       "      <th>altered_lessthan5yrs</th>\n",
       "      <th>altered_morethan5yrs</th>\n",
       "      <th>classanet_avg</th>\n",
       "      <th>...</th>\n",
       "      <th>boro_3</th>\n",
       "      <th>boro_4</th>\n",
       "      <th>boro_5</th>\n",
       "      <th>rs_share_diff_new</th>\n",
       "      <th>hpd_call_2017_19</th>\n",
       "      <th>hh_inc_avg_19_log1</th>\n",
       "      <th>pop_race_asian_pct_19_log1</th>\n",
       "      <th>pop_race_black_pct_19_log1</th>\n",
       "      <th>pop16_unemp_pct_19_log1</th>\n",
       "      <th>pop_mobile1_diff_state_pct_19_log1</th>\n",
       "    </tr>\n",
       "  </thead>\n",
       "  <tbody>\n",
       "    <tr>\n",
       "      <th>0</th>\n",
       "      <td>1000780047</td>\n",
       "      <td>483</td>\n",
       "      <td>2016</td>\n",
       "      <td>0.0</td>\n",
       "      <td>0.0</td>\n",
       "      <td>0.0</td>\n",
       "      <td>0.0</td>\n",
       "      <td>0.0</td>\n",
       "      <td>0.0</td>\n",
       "      <td>0.0</td>\n",
       "      <td>...</td>\n",
       "      <td>0</td>\n",
       "      <td>0</td>\n",
       "      <td>0</td>\n",
       "      <td>0.0</td>\n",
       "      <td>4.0</td>\n",
       "      <td>12.276639</td>\n",
       "      <td>0.150551</td>\n",
       "      <td>0.018246</td>\n",
       "      <td>0.035008</td>\n",
       "      <td>0.074674</td>\n",
       "    </tr>\n",
       "    <tr>\n",
       "      <th>1</th>\n",
       "      <td>1001350019</td>\n",
       "      <td>4</td>\n",
       "      <td>1915</td>\n",
       "      <td>0.0</td>\n",
       "      <td>0.0</td>\n",
       "      <td>0.0</td>\n",
       "      <td>0.0</td>\n",
       "      <td>0.0</td>\n",
       "      <td>0.0</td>\n",
       "      <td>0.0</td>\n",
       "      <td>...</td>\n",
       "      <td>0</td>\n",
       "      <td>0</td>\n",
       "      <td>0</td>\n",
       "      <td>0.0</td>\n",
       "      <td>0.0</td>\n",
       "      <td>12.897523</td>\n",
       "      <td>0.096864</td>\n",
       "      <td>0.055298</td>\n",
       "      <td>0.002253</td>\n",
       "      <td>0.014341</td>\n",
       "    </tr>\n",
       "    <tr>\n",
       "      <th>2</th>\n",
       "      <td>1001620013</td>\n",
       "      <td>20</td>\n",
       "      <td>1915</td>\n",
       "      <td>0.0</td>\n",
       "      <td>0.0</td>\n",
       "      <td>0.0</td>\n",
       "      <td>0.0</td>\n",
       "      <td>0.0</td>\n",
       "      <td>0.0</td>\n",
       "      <td>0.0</td>\n",
       "      <td>...</td>\n",
       "      <td>0</td>\n",
       "      <td>0</td>\n",
       "      <td>0</td>\n",
       "      <td>1.0</td>\n",
       "      <td>2.0</td>\n",
       "      <td>10.973689</td>\n",
       "      <td>0.461379</td>\n",
       "      <td>0.096629</td>\n",
       "      <td>0.037102</td>\n",
       "      <td>0.008935</td>\n",
       "    </tr>\n",
       "    <tr>\n",
       "      <th>3</th>\n",
       "      <td>1001630024</td>\n",
       "      <td>16</td>\n",
       "      <td>1915</td>\n",
       "      <td>0.0</td>\n",
       "      <td>0.0</td>\n",
       "      <td>0.0</td>\n",
       "      <td>0.0</td>\n",
       "      <td>0.0</td>\n",
       "      <td>0.0</td>\n",
       "      <td>0.0</td>\n",
       "      <td>...</td>\n",
       "      <td>0</td>\n",
       "      <td>0</td>\n",
       "      <td>0</td>\n",
       "      <td>0.0</td>\n",
       "      <td>1.0</td>\n",
       "      <td>10.973689</td>\n",
       "      <td>0.461379</td>\n",
       "      <td>0.096629</td>\n",
       "      <td>0.037102</td>\n",
       "      <td>0.008935</td>\n",
       "    </tr>\n",
       "    <tr>\n",
       "      <th>4</th>\n",
       "      <td>1001630033</td>\n",
       "      <td>11</td>\n",
       "      <td>1915</td>\n",
       "      <td>0.0</td>\n",
       "      <td>0.0</td>\n",
       "      <td>0.0</td>\n",
       "      <td>1.0</td>\n",
       "      <td>0.0</td>\n",
       "      <td>1.0</td>\n",
       "      <td>0.0</td>\n",
       "      <td>...</td>\n",
       "      <td>0</td>\n",
       "      <td>0</td>\n",
       "      <td>0</td>\n",
       "      <td>0.0</td>\n",
       "      <td>0.0</td>\n",
       "      <td>10.973689</td>\n",
       "      <td>0.461379</td>\n",
       "      <td>0.096629</td>\n",
       "      <td>0.037102</td>\n",
       "      <td>0.008935</td>\n",
       "    </tr>\n",
       "  </tbody>\n",
       "</table>\n",
       "<p>5 rows × 75 columns</p>\n",
       "</div>"
      ],
      "text/plain": [
       "          bbl  total_units_19  year_built  ejectment_count  possession_count  \\\n",
       "0  1000780047             483        2016              0.0               0.0   \n",
       "1  1001350019               4        1915              0.0               0.0   \n",
       "2  1001620013              20        1915              0.0               0.0   \n",
       "3  1001630024              16        1915              0.0               0.0   \n",
       "4  1001630033              11        1915              0.0               0.0   \n",
       "\n",
       "   eviction_count  aleration_count  altered_lessthan5yrs  \\\n",
       "0             0.0              0.0                   0.0   \n",
       "1             0.0              0.0                   0.0   \n",
       "2             0.0              0.0                   0.0   \n",
       "3             0.0              0.0                   0.0   \n",
       "4             0.0              1.0                   0.0   \n",
       "\n",
       "   altered_morethan5yrs  classanet_avg  ...  boro_3  boro_4  boro_5  \\\n",
       "0                   0.0            0.0  ...       0       0       0   \n",
       "1                   0.0            0.0  ...       0       0       0   \n",
       "2                   0.0            0.0  ...       0       0       0   \n",
       "3                   0.0            0.0  ...       0       0       0   \n",
       "4                   1.0            0.0  ...       0       0       0   \n",
       "\n",
       "   rs_share_diff_new  hpd_call_2017_19  hh_inc_avg_19_log1  \\\n",
       "0                0.0               4.0           12.276639   \n",
       "1                0.0               0.0           12.897523   \n",
       "2                1.0               2.0           10.973689   \n",
       "3                0.0               1.0           10.973689   \n",
       "4                0.0               0.0           10.973689   \n",
       "\n",
       "   pop_race_asian_pct_19_log1  pop_race_black_pct_19_log1  \\\n",
       "0                    0.150551                    0.018246   \n",
       "1                    0.096864                    0.055298   \n",
       "2                    0.461379                    0.096629   \n",
       "3                    0.461379                    0.096629   \n",
       "4                    0.461379                    0.096629   \n",
       "\n",
       "   pop16_unemp_pct_19_log1  pop_mobile1_diff_state_pct_19_log1  \n",
       "0                 0.035008                            0.074674  \n",
       "1                 0.002253                            0.014341  \n",
       "2                 0.037102                            0.008935  \n",
       "3                 0.037102                            0.008935  \n",
       "4                 0.037102                            0.008935  \n",
       "\n",
       "[5 rows x 75 columns]"
      ]
     },
     "execution_count": 23,
     "metadata": {},
     "output_type": "execute_result"
    }
   ],
   "source": [
    "df.head()"
   ]
  },
  {
   "cell_type": "code",
   "execution_count": 33,
   "id": "89700fbb",
   "metadata": {},
   "outputs": [],
   "source": [
    "X = df.drop(['rs_share_diff_new','bbl'], axis = 1)\n",
    "y = df['rs_share_diff_new']"
   ]
  },
  {
   "cell_type": "code",
   "execution_count": 25,
   "id": "c3357634",
   "metadata": {},
   "outputs": [],
   "source": [
    "from sklearn.model_selection import train_test_split\n",
    "X_train, X_test, y_train, y_test = train_test_split(X, y, test_size=0.25, random_state=1)"
   ]
  },
  {
   "cell_type": "markdown",
   "id": "aec2a8a6",
   "metadata": {},
   "source": [
    "## Model Selection and Validation - Draft"
   ]
  },
  {
   "cell_type": "markdown",
   "id": "a86b0f8f",
   "metadata": {},
   "source": [
    "### 1. Gradient Boosting Classifier"
   ]
  },
  {
   "cell_type": "code",
   "execution_count": 26,
   "id": "8bbf0704",
   "metadata": {},
   "outputs": [],
   "source": [
    "from sklearn.ensemble import GradientBoostingClassifier\n",
    "from sklearn.model_selection import GridSearchCV\n"
   ]
  },
  {
   "cell_type": "code",
   "execution_count": 34,
   "id": "47412826",
   "metadata": {},
   "outputs": [
    {
     "name": "stdout",
     "output_type": "stream",
     "text": [
      "GradientBoostingClassifier(max_depth=4, n_estimators=200, subsample=0.8)\n"
     ]
    }
   ],
   "source": [
    "# Fit model\n",
    "\n",
    "gbr_params = {'n_estimators' : [200,225],\n",
    "            'max_depth'    : [2,4],\n",
    "             }\n",
    "\n",
    "model_gb = GradientBoostingClassifier()\n",
    "gr_gb = GridSearchCV(model_gb, param_grid = gbr_params, cv = 3)\n",
    "fit_gb = gr_gb.fit(X_train, y_train)\n",
    "print(fit_gb.best_estimator_)"
   ]
  },
  {
   "cell_type": "code",
   "execution_count": 35,
   "id": "42bd6c3f",
   "metadata": {},
   "outputs": [
    {
     "name": "stdout",
     "output_type": "stream",
     "text": [
      "Out of sample ROC-AUC:  0.7628578041952999\n",
      "Out of sample accuracy:  0.8280640525559433\n",
      "Out of sample F1: 0.6875582913635516\n",
      "Out of sample precision: 0.8742884250474383\n"
     ]
    }
   ],
   "source": [
    "# Test set prediction\n",
    "\n",
    "from sklearn import metrics\n",
    "\n",
    "y_hat_gb_test = fit_gb.predict(X_test)\n",
    "roc_auc_test_gb = metrics.roc_auc_score(y_test, y_hat_gb_test)\n",
    "accuracy_test_gb = metrics.accuracy_score(y_test, y_hat_gb_test)\n",
    "precision_test_gb = metrics.precision_score(y_test, y_hat_gb_test)\n",
    "recall_test_gb = metrics.recall_score(y_test, y_hat_gb_test)\n",
    "f1_test_gb = metrics.f1_score(y_test, y_hat_gb_test)\n",
    "\n",
    "print(\"Out of sample ROC-AUC: \", roc_auc_test_gb)\n",
    "print(\"Out of sample accuracy: \", accuracy_test_gb)\n",
    "print(\"Out of sample F1:\", f1_test_gb)\n",
    "print(\"Out of sample precision:\", precision_test_gb)"
   ]
  },
  {
   "cell_type": "markdown",
   "id": "86e9ba08",
   "metadata": {},
   "source": [
    "### 4. XG Boost"
   ]
  },
  {
   "cell_type": "code",
   "execution_count": null,
   "id": "0ec1be76",
   "metadata": {},
   "outputs": [],
   "source": []
  },
  {
   "cell_type": "code",
   "execution_count": 13,
   "id": "c5780f9e",
   "metadata": {},
   "outputs": [
    {
     "name": "stdout",
     "output_type": "stream",
     "text": [
      "Collecting xgboost\n",
      "  Downloading xgboost-1.7.5-py3-none-macosx_10_15_x86_64.macosx_11_0_x86_64.macosx_12_0_x86_64.whl (1.8 MB)\n",
      "\u001b[K     |████████████████████████████████| 1.8 MB 6.4 MB/s eta 0:00:01\n",
      "\u001b[?25hRequirement already satisfied: numpy in /Users/yujinlee/opt/anaconda3/lib/python3.9/site-packages (from xgboost) (1.21.5)\n",
      "Requirement already satisfied: scipy in /Users/yujinlee/opt/anaconda3/lib/python3.9/site-packages (from xgboost) (1.7.3)\n",
      "Installing collected packages: xgboost\n",
      "Successfully installed xgboost-1.7.5\n"
     ]
    }
   ],
   "source": [
    "!pip install xgboost\n",
    "import xgboost as xgb\n",
    "xgb_classifier = xgb.XGBClassifier()"
   ]
  },
  {
   "cell_type": "code",
   "execution_count": 14,
   "id": "6153b49f",
   "metadata": {},
   "outputs": [
    {
     "data": {
      "text/plain": [
       "0.7614784925109376"
      ]
     },
     "execution_count": 14,
     "metadata": {},
     "output_type": "execute_result"
    }
   ],
   "source": [
    "fit_xgb = xgb_classifier.fit(X_train,y_train)\n",
    "y_hat_xgb_test = fit_gb.predict(X_test)\n",
    "roc_auc_test_gb = metrics.roc_auc_score(y_test, y_hat_xgb_test)\n",
    "roc_auc_test_gb"
   ]
  },
  {
   "cell_type": "markdown",
   "id": "8d275905",
   "metadata": {},
   "source": [
    "## Feature Importance"
   ]
  },
  {
   "cell_type": "code",
   "execution_count": 32,
   "id": "9144b737",
   "metadata": {},
   "outputs": [
    {
     "data": {
      "image/png": "[encoded data removed]",
      "text/plain": [
       "<Figure size 360x720 with 1 Axes>"
      ]
     },
     "metadata": {
      "needs_background": "light"
     },
     "output_type": "display_data"
    }
   ],
   "source": [
    "# Get Feature importance data using feature_importances_attribute\n",
    "import matplotlib.pyplot as plt\n",
    "from matplotlib.pyplot import cm\n",
    "\n",
    "plt.figure(figsize=(5,10))\n",
    "importances = pd.Series(fit_gb.best_estimator_.feature_importances_, X_train.columns)\n",
    "importances.sort_values().tail(10).plot.barh(color = '#6a79f7')\n",
    "plt.title('Feature Importance in the Gradient Boosting Regressor Model',fontsize=15)\n",
    "plt.xlabel('Feature Importance',fontsize = 15)\n",
    "plt.ylabel('Features',fontsize = 15)\n",
    "plt.show()\n"
   ]
  },
  {
   "cell_type": "code",
   "execution_count": null,
   "id": "f72595ae",
   "metadata": {},
   "outputs": [],
   "source": []
  }
 ],
 "metadata": {
  "kernelspec": {
   "display_name": "Python 3 (ipykernel)",
   "language": "python",
   "name": "python3"
  },
  "language_info": {
   "codemirror_mode": {
    "name": "ipython",
    "version": 3
   },
   "file_extension": ".py",
   "mimetype": "text/x-python",
   "name": "python",
   "nbconvert_exporter": "python",
   "pygments_lexer": "ipython3",
   "version": "3.9.13"
  }
 },
 "nbformat": 4,
 "nbformat_minor": 5
}
