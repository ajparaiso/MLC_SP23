{
 "cells": [
  {
   "cell_type": "code",
   "execution_count": 7,
   "id": "b9dbf71f",
   "metadata": {},
   "outputs": [
    {
     "data": {
      "text/html": [
       "<div>\n",
       "<style scoped>\n",
       "    .dataframe tbody tr th:only-of-type {\n",
       "        vertical-align: middle;\n",
       "    }\n",
       "\n",
       "    .dataframe tbody tr th {\n",
       "        vertical-align: top;\n",
       "    }\n",
       "\n",
       "    .dataframe thead th {\n",
       "        text-align: right;\n",
       "    }\n",
       "</style>\n",
       "<table border=\"1\" class=\"dataframe\">\n",
       "  <thead>\n",
       "    <tr style=\"text-align: right;\">\n",
       "      <th></th>\n",
       "      <th>bbl</th>\n",
       "      <th>rs_share_diff</th>\n",
       "      <th>total_units_19</th>\n",
       "      <th>year_built</th>\n",
       "      <th>ejectment_count</th>\n",
       "      <th>possession_count</th>\n",
       "      <th>eviction_count</th>\n",
       "      <th>aleration_count</th>\n",
       "      <th>altered_lessthan5yrs</th>\n",
       "      <th>altered_morethan5yrs</th>\n",
       "      <th>...</th>\n",
       "      <th>pop_race_div_idx_19</th>\n",
       "      <th>boro_2</th>\n",
       "      <th>boro_3</th>\n",
       "      <th>boro_4</th>\n",
       "      <th>boro_5</th>\n",
       "      <th>hh_inc_avg_19_log1</th>\n",
       "      <th>pop_race_asian_pct_19_log1</th>\n",
       "      <th>pop_race_black_pct_19_log1</th>\n",
       "      <th>pop16_unemp_pct_19_log1</th>\n",
       "      <th>pop_mobile1_diff_state_pct_19_log1</th>\n",
       "    </tr>\n",
       "  </thead>\n",
       "  <tbody>\n",
       "    <tr>\n",
       "      <th>0</th>\n",
       "      <td>1000780047</td>\n",
       "      <td>0.0000</td>\n",
       "      <td>483</td>\n",
       "      <td>2016</td>\n",
       "      <td>0.0</td>\n",
       "      <td>0.0</td>\n",
       "      <td>0.0</td>\n",
       "      <td>0.0</td>\n",
       "      <td>0.0</td>\n",
       "      <td>0.0</td>\n",
       "      <td>...</td>\n",
       "      <td>0.450691</td>\n",
       "      <td>0</td>\n",
       "      <td>0</td>\n",
       "      <td>0</td>\n",
       "      <td>0</td>\n",
       "      <td>12.276639</td>\n",
       "      <td>0.150551</td>\n",
       "      <td>0.018246</td>\n",
       "      <td>0.035008</td>\n",
       "      <td>0.074674</td>\n",
       "    </tr>\n",
       "    <tr>\n",
       "      <th>1</th>\n",
       "      <td>1001350019</td>\n",
       "      <td>0.0000</td>\n",
       "      <td>4</td>\n",
       "      <td>1915</td>\n",
       "      <td>0.0</td>\n",
       "      <td>0.0</td>\n",
       "      <td>0.0</td>\n",
       "      <td>0.0</td>\n",
       "      <td>0.0</td>\n",
       "      <td>0.0</td>\n",
       "      <td>...</td>\n",
       "      <td>0.457072</td>\n",
       "      <td>0</td>\n",
       "      <td>0</td>\n",
       "      <td>0</td>\n",
       "      <td>0</td>\n",
       "      <td>12.897523</td>\n",
       "      <td>0.096864</td>\n",
       "      <td>0.055298</td>\n",
       "      <td>0.002253</td>\n",
       "      <td>0.014341</td>\n",
       "    </tr>\n",
       "    <tr>\n",
       "      <th>2</th>\n",
       "      <td>1001620013</td>\n",
       "      <td>-0.0500</td>\n",
       "      <td>20</td>\n",
       "      <td>1915</td>\n",
       "      <td>0.0</td>\n",
       "      <td>0.0</td>\n",
       "      <td>0.0</td>\n",
       "      <td>0.0</td>\n",
       "      <td>0.0</td>\n",
       "      <td>0.0</td>\n",
       "      <td>...</td>\n",
       "      <td>0.612518</td>\n",
       "      <td>0</td>\n",
       "      <td>0</td>\n",
       "      <td>0</td>\n",
       "      <td>0</td>\n",
       "      <td>10.973689</td>\n",
       "      <td>0.461379</td>\n",
       "      <td>0.096629</td>\n",
       "      <td>0.037102</td>\n",
       "      <td>0.008935</td>\n",
       "    </tr>\n",
       "    <tr>\n",
       "      <th>3</th>\n",
       "      <td>1001630024</td>\n",
       "      <td>0.1875</td>\n",
       "      <td>16</td>\n",
       "      <td>1915</td>\n",
       "      <td>0.0</td>\n",
       "      <td>0.0</td>\n",
       "      <td>0.0</td>\n",
       "      <td>0.0</td>\n",
       "      <td>0.0</td>\n",
       "      <td>0.0</td>\n",
       "      <td>...</td>\n",
       "      <td>0.612518</td>\n",
       "      <td>0</td>\n",
       "      <td>0</td>\n",
       "      <td>0</td>\n",
       "      <td>0</td>\n",
       "      <td>10.973689</td>\n",
       "      <td>0.461379</td>\n",
       "      <td>0.096629</td>\n",
       "      <td>0.037102</td>\n",
       "      <td>0.008935</td>\n",
       "    </tr>\n",
       "    <tr>\n",
       "      <th>4</th>\n",
       "      <td>1001630033</td>\n",
       "      <td>0.0000</td>\n",
       "      <td>11</td>\n",
       "      <td>1915</td>\n",
       "      <td>0.0</td>\n",
       "      <td>0.0</td>\n",
       "      <td>0.0</td>\n",
       "      <td>1.0</td>\n",
       "      <td>0.0</td>\n",
       "      <td>1.0</td>\n",
       "      <td>...</td>\n",
       "      <td>0.612518</td>\n",
       "      <td>0</td>\n",
       "      <td>0</td>\n",
       "      <td>0</td>\n",
       "      <td>0</td>\n",
       "      <td>10.973689</td>\n",
       "      <td>0.461379</td>\n",
       "      <td>0.096629</td>\n",
       "      <td>0.037102</td>\n",
       "      <td>0.008935</td>\n",
       "    </tr>\n",
       "  </tbody>\n",
       "</table>\n",
       "<p>5 rows × 77 columns</p>\n",
       "</div>"
      ],
      "text/plain": [
       "          bbl  rs_share_diff  total_units_19  year_built  ejectment_count  \\\n",
       "0  1000780047         0.0000             483        2016              0.0   \n",
       "1  1001350019         0.0000               4        1915              0.0   \n",
       "2  1001620013        -0.0500              20        1915              0.0   \n",
       "3  1001630024         0.1875              16        1915              0.0   \n",
       "4  1001630033         0.0000              11        1915              0.0   \n",
       "\n",
       "   possession_count  eviction_count  aleration_count  altered_lessthan5yrs  \\\n",
       "0               0.0             0.0              0.0                   0.0   \n",
       "1               0.0             0.0              0.0                   0.0   \n",
       "2               0.0             0.0              0.0                   0.0   \n",
       "3               0.0             0.0              0.0                   0.0   \n",
       "4               0.0             0.0              1.0                   0.0   \n",
       "\n",
       "   altered_morethan5yrs  ...  pop_race_div_idx_19  boro_2  boro_3  boro_4  \\\n",
       "0                   0.0  ...             0.450691       0       0       0   \n",
       "1                   0.0  ...             0.457072       0       0       0   \n",
       "2                   0.0  ...             0.612518       0       0       0   \n",
       "3                   0.0  ...             0.612518       0       0       0   \n",
       "4                   1.0  ...             0.612518       0       0       0   \n",
       "\n",
       "   boro_5  hh_inc_avg_19_log1  pop_race_asian_pct_19_log1  \\\n",
       "0       0           12.276639                    0.150551   \n",
       "1       0           12.897523                    0.096864   \n",
       "2       0           10.973689                    0.461379   \n",
       "3       0           10.973689                    0.461379   \n",
       "4       0           10.973689                    0.461379   \n",
       "\n",
       "   pop_race_black_pct_19_log1  pop16_unemp_pct_19_log1  \\\n",
       "0                    0.018246                 0.035008   \n",
       "1                    0.055298                 0.002253   \n",
       "2                    0.096629                 0.037102   \n",
       "3                    0.096629                 0.037102   \n",
       "4                    0.096629                 0.037102   \n",
       "\n",
       "   pop_mobile1_diff_state_pct_19_log1  \n",
       "0                            0.074674  \n",
       "1                            0.014341  \n",
       "2                            0.008935  \n",
       "3                            0.008935  \n",
       "4                            0.008935  \n",
       "\n",
       "[5 rows x 77 columns]"
      ]
     },
     "execution_count": 7,
     "metadata": {},
     "output_type": "execute_result"
    }
   ],
   "source": [
    "# Read data\n",
    "import pandas as pd\n",
    "import numpy as np\n",
    "df = pd.read_csv(\"./MLC_SP23/clean_data/regression_data.csv\", low_memory=False, index_col=[0])\n",
    "df.head()"
   ]
  },
  {
   "cell_type": "code",
   "execution_count": 8,
   "id": "525dbbdc",
   "metadata": {},
   "outputs": [
    {
     "data": {
      "text/plain": [
       "Index(['bbl', 'rs_share_diff', 'total_units_19', 'year_built',\n",
       "       'ejectment_count', 'possession_count', 'eviction_count',\n",
       "       'aleration_count', 'altered_lessthan5yrs', 'altered_morethan5yrs',\n",
       "       'classanet_avg', 'enlargement_count', 'hpd_calls_2017',\n",
       "       'hpd_calls_2018', 'hpd_calls_2019', 'dob_calls_2017', 'dob_calls_2018',\n",
       "       'dob_calls_2019', 'b_violations_2017', 'b_violations_2018',\n",
       "       'b_violations_2019', 'c_violations_2017', 'c_violations_2018',\n",
       "       'c_violations_2019', 'cases_2017', 'cases_2018', 'cases_2019',\n",
       "       'Heat and Hot Water_2017', 'Heat and Hot Water_2018',\n",
       "       'Heat and Hot Water_2019', 'Tenant Action_2017', 'Tenant Action_2018',\n",
       "       'Tenant Action_2019', 'CONH_2017', 'CONH_2018', 'CONH_2019',\n",
       "       'Tenant Action/Harrassment_2017', 'Tenant Action/Harrassment_2018',\n",
       "       'Tenant Action/Harrassment_2019', 'hh_inc_own_med_19',\n",
       "       'own_cost_mort_med_19', 'own_burden_mort_med_19',\n",
       "       'rent_contract_med_19', 'rent_burden_med_19', 'pop_65p_pct_19',\n",
       "       'pop_rent_pct_19', 'pop_race_white_pct_19', 'pop_lim_eng_pct_19',\n",
       "       'pop_pov_pct_19', 'pop_edu_hs_pct_19', 'pop_edu_collp_pct_19',\n",
       "       'pop_mobile1_same_home_pct_19', 'pop_mobile1_same_county_pct_19',\n",
       "       'pop_mobile1_abroad_pct_19', 'hh_family_pct_19', 'hh_alone_pct_19',\n",
       "       'hh_inc_wage_pct_19', 'hh_inc_ssi_pct_19', 'hh_inc_pubasst_snap_pct_19',\n",
       "       'hh_inc_retirement_pct_19', 'unit_vac_pct_19', 'unit_vac_rent_pct_19',\n",
       "       'unit_occ_rent_crowd_pct_19', 'unit_occ_rent_child_pct_19',\n",
       "       'unit_rent_cash_mod_high_pct_19', 'unit_rent_cash_high_pct_19',\n",
       "       'rent_burden_pct_19', 'pop_race_div_idx_19', 'boro_2', 'boro_3',\n",
       "       'boro_4', 'boro_5', 'hh_inc_avg_19_log1', 'pop_race_asian_pct_19_log1',\n",
       "       'pop_race_black_pct_19_log1', 'pop16_unemp_pct_19_log1',\n",
       "       'pop_mobile1_diff_state_pct_19_log1'],\n",
       "      dtype='object')"
      ]
     },
     "execution_count": 8,
     "metadata": {},
     "output_type": "execute_result"
    }
   ],
   "source": [
    "df.columns"
   ]
  },
  {
   "cell_type": "markdown",
   "id": "dcf3b7e2",
   "metadata": {},
   "source": [
    "# Train-test split"
   ]
  },
  {
   "cell_type": "code",
   "execution_count": 9,
   "id": "3479c1af",
   "metadata": {},
   "outputs": [],
   "source": [
    "X = df.drop(['rs_share_diff', 'bbl'], axis = 1)\n",
    "y = df['rs_share_diff']"
   ]
  },
  {
   "cell_type": "code",
   "execution_count": 10,
   "id": "4fcfd1ba",
   "metadata": {},
   "outputs": [],
   "source": [
    "from sklearn.model_selection import train_test_split\n",
    "X_train, X_test, y_train, y_test = train_test_split(X, y, test_size=0.25, random_state=1)"
   ]
  },
  {
   "cell_type": "code",
   "execution_count": 30,
   "id": "10a4d42a",
   "metadata": {},
   "outputs": [
    {
     "data": {
      "text/plain": [
       "-0.18852586470668642"
      ]
     },
     "execution_count": 30,
     "metadata": {},
     "output_type": "execute_result"
    }
   ],
   "source": [
    "# Mean change in rs share\n",
    "df['rs_share_diff'].mean()"
   ]
  },
  {
   "cell_type": "code",
   "execution_count": 29,
   "id": "784f6cfc",
   "metadata": {},
   "outputs": [
    {
     "data": {
      "text/plain": [
       "-0.04442327408607823"
      ]
     },
     "execution_count": 29,
     "metadata": {},
     "output_type": "execute_result"
    }
   ],
   "source": [
    "# Mean change for large bldgs\n",
    "df[df['total_units_19'] >= 7]['rs_share_diff'].mean()"
   ]
  },
  {
   "cell_type": "code",
   "execution_count": 31,
   "id": "a8b62a73",
   "metadata": {},
   "outputs": [
    {
     "data": {
      "text/plain": [
       "-0.737278916844144"
      ]
     },
     "execution_count": 31,
     "metadata": {},
     "output_type": "execute_result"
    }
   ],
   "source": [
    "# Mean change for small bldgs\n",
    "df[df['total_units_19'] < 7]['rs_share_diff'].mean()"
   ]
  },
  {
   "cell_type": "markdown",
   "id": "f2009289",
   "metadata": {},
   "source": [
    "# Random forest classifier"
   ]
  },
  {
   "cell_type": "code",
   "execution_count": 12,
   "id": "c7c2506e",
   "metadata": {},
   "outputs": [
    {
     "name": "stdout",
     "output_type": "stream",
     "text": [
      "Running grid search took 617.0811688899994 seconds\n",
      "\n",
      "{'max_depth': 6, 'n_estimators': 100}\n",
      "-0.11243602252260058\n"
     ]
    }
   ],
   "source": [
    "# Fit model\n",
    "from sklearn.ensemble import RandomForestRegressor\n",
    "from sklearn.model_selection import GridSearchCV\n",
    "import time\n",
    "\n",
    "scoring = {'r2':'r2',\n",
    "           'mse':'neg_mean_squared_error'\n",
    "}\n",
    "\n",
    "param_grid = {'max_depth':[2, 4, 6],\n",
    "              'n_estimators': [100, 200, 300]\n",
    "}\n",
    "\n",
    "start = time.time()\n",
    "\n",
    "rf = RandomForestRegressor(random_state = 1)\n",
    "gr = GridSearchCV(rf, param_grid = param_grid, scoring = scoring, refit = \"mse\", cv = 4)\n",
    "fit = gr.fit(X_train, y_train)\n",
    "\n",
    "end = time.time()\n",
    "\n",
    "print(\"Running grid search took\", end - start, \"seconds\") # time in seconds to run grid search\n",
    "print()\n",
    "print(fit.best_params_)\n",
    "print(fit.best_score_)"
   ]
  },
  {
   "cell_type": "code",
   "execution_count": 26,
   "id": "0ecb7c1a",
   "metadata": {},
   "outputs": [
    {
     "name": "stdout",
     "output_type": "stream",
     "text": [
      "Best model mse: -0.11247297926487126\n",
      "Best model R-squared: 0.44856397187915137\n"
     ]
    }
   ],
   "source": [
    "best_params_index = fit.cv_results_['rank_test_mse'][0] - 1\n",
    "best_params_index\n",
    "print(\"Best model mse:\", fit.cv_results_['mean_test_mse'][best_params_index])\n",
    "print(\"Best model R-squared:\", fit.cv_results_['mean_test_r2'][best_params_index])"
   ]
  },
  {
   "cell_type": "code",
   "execution_count": 27,
   "id": "e6c98dc5",
   "metadata": {},
   "outputs": [
    {
     "data": {
      "image/png": "[encoded data removed]",
      "text/plain": [
       "<Figure size 360x720 with 1 Axes>"
      ]
     },
     "metadata": {
      "needs_background": "light"
     },
     "output_type": "display_data"
    }
   ],
   "source": [
    "# get feature importance\n",
    "from matplotlib import pyplot as plt\n",
    "from matplotlib.pyplot import cm\n",
    "\n",
    "plt.figure(figsize=(5,10))\n",
    "importances = pd.Series(fit.best_estimator_.feature_importances_, X_train.columns)\n",
    "importances.sort_values().tail(10).plot.barh(color = '#6a79f7')\n",
    "plt.title('Feature Importance in the Random Forest Model',fontsize=15)\n",
    "plt.xlabel('Feature Importance',fontsize = 15)\n",
    "plt.ylabel('Features',fontsize = 15)\n",
    "plt.show()"
   ]
  },
  {
   "cell_type": "code",
   "execution_count": null,
   "id": "ff7354cd",
   "metadata": {},
   "outputs": [],
   "source": [
    "# next steps:\n",
    "# score on rmse\n",
    "# make 'per 100 unit' columns - see Random Forest large bldgs only script\n",
    "# try separate models by bldg size (or create flag and model on that)\n",
    "# more grid searches?\n",
    "# look at predictions by bldg size- how does it translate to total losses of rs units?"
   ]
  }
 ],
 "metadata": {
  "kernelspec": {
   "display_name": "Python 3 (ipykernel)",
   "language": "python",
   "name": "python3"
  },
  "language_info": {
   "codemirror_mode": {
    "name": "ipython",
    "version": 3
   },
   "file_extension": ".py",
   "mimetype": "text/x-python",
   "name": "python",
   "nbconvert_exporter": "python",
   "pygments_lexer": "ipython3",
   "version": "3.9.12"
  }
 },
 "nbformat": 4,
 "nbformat_minor": 5
}
