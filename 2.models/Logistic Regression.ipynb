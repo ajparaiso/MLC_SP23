{
 "cells": [
  {
   "cell_type": "code",
   "execution_count": 5,
   "id": "fb53b8ea",
   "metadata": {},
   "outputs": [
    {
     "data": {
      "text/html": [
       "<div>\n",
       "<style scoped>\n",
       "    .dataframe tbody tr th:only-of-type {\n",
       "        vertical-align: middle;\n",
       "    }\n",
       "\n",
       "    .dataframe tbody tr th {\n",
       "        vertical-align: top;\n",
       "    }\n",
       "\n",
       "    .dataframe thead th {\n",
       "        text-align: right;\n",
       "    }\n",
       "</style>\n",
       "<table border=\"1\" class=\"dataframe\">\n",
       "  <thead>\n",
       "    <tr style=\"text-align: right;\">\n",
       "      <th></th>\n",
       "      <th>bbl</th>\n",
       "      <th>total_units_19</th>\n",
       "      <th>year_built</th>\n",
       "      <th>ejectment_count</th>\n",
       "      <th>possession_count</th>\n",
       "      <th>eviction_count</th>\n",
       "      <th>aleration_count</th>\n",
       "      <th>altered_lessthan5yrs</th>\n",
       "      <th>altered_morethan5yrs</th>\n",
       "      <th>classanet_avg</th>\n",
       "      <th>...</th>\n",
       "      <th>boro_3</th>\n",
       "      <th>boro_4</th>\n",
       "      <th>boro_5</th>\n",
       "      <th>rs_share_diff_new</th>\n",
       "      <th>hpd_call_2017_19</th>\n",
       "      <th>hh_inc_avg_19_log1</th>\n",
       "      <th>pop_race_asian_pct_19_log1</th>\n",
       "      <th>pop_race_black_pct_19_log1</th>\n",
       "      <th>pop16_unemp_pct_19_log1</th>\n",
       "      <th>pop_mobile1_diff_state_pct_19_log1</th>\n",
       "    </tr>\n",
       "  </thead>\n",
       "  <tbody>\n",
       "    <tr>\n",
       "      <th>0</th>\n",
       "      <td>1000780047</td>\n",
       "      <td>483</td>\n",
       "      <td>2016</td>\n",
       "      <td>0.0</td>\n",
       "      <td>0.0</td>\n",
       "      <td>0.0</td>\n",
       "      <td>0.0</td>\n",
       "      <td>0.0</td>\n",
       "      <td>0.0</td>\n",
       "      <td>0.0</td>\n",
       "      <td>...</td>\n",
       "      <td>0</td>\n",
       "      <td>0</td>\n",
       "      <td>0</td>\n",
       "      <td>0.0</td>\n",
       "      <td>4.0</td>\n",
       "      <td>12.276639</td>\n",
       "      <td>0.150551</td>\n",
       "      <td>0.018246</td>\n",
       "      <td>0.035008</td>\n",
       "      <td>0.074674</td>\n",
       "    </tr>\n",
       "    <tr>\n",
       "      <th>1</th>\n",
       "      <td>1001350019</td>\n",
       "      <td>4</td>\n",
       "      <td>1915</td>\n",
       "      <td>0.0</td>\n",
       "      <td>0.0</td>\n",
       "      <td>0.0</td>\n",
       "      <td>0.0</td>\n",
       "      <td>0.0</td>\n",
       "      <td>0.0</td>\n",
       "      <td>0.0</td>\n",
       "      <td>...</td>\n",
       "      <td>0</td>\n",
       "      <td>0</td>\n",
       "      <td>0</td>\n",
       "      <td>0.0</td>\n",
       "      <td>0.0</td>\n",
       "      <td>12.897523</td>\n",
       "      <td>0.096864</td>\n",
       "      <td>0.055298</td>\n",
       "      <td>0.002253</td>\n",
       "      <td>0.014341</td>\n",
       "    </tr>\n",
       "    <tr>\n",
       "      <th>2</th>\n",
       "      <td>1001620013</td>\n",
       "      <td>20</td>\n",
       "      <td>1915</td>\n",
       "      <td>0.0</td>\n",
       "      <td>0.0</td>\n",
       "      <td>0.0</td>\n",
       "      <td>0.0</td>\n",
       "      <td>0.0</td>\n",
       "      <td>0.0</td>\n",
       "      <td>0.0</td>\n",
       "      <td>...</td>\n",
       "      <td>0</td>\n",
       "      <td>0</td>\n",
       "      <td>0</td>\n",
       "      <td>1.0</td>\n",
       "      <td>2.0</td>\n",
       "      <td>10.973689</td>\n",
       "      <td>0.461379</td>\n",
       "      <td>0.096629</td>\n",
       "      <td>0.037102</td>\n",
       "      <td>0.008935</td>\n",
       "    </tr>\n",
       "    <tr>\n",
       "      <th>3</th>\n",
       "      <td>1001630024</td>\n",
       "      <td>16</td>\n",
       "      <td>1915</td>\n",
       "      <td>0.0</td>\n",
       "      <td>0.0</td>\n",
       "      <td>0.0</td>\n",
       "      <td>0.0</td>\n",
       "      <td>0.0</td>\n",
       "      <td>0.0</td>\n",
       "      <td>0.0</td>\n",
       "      <td>...</td>\n",
       "      <td>0</td>\n",
       "      <td>0</td>\n",
       "      <td>0</td>\n",
       "      <td>0.0</td>\n",
       "      <td>1.0</td>\n",
       "      <td>10.973689</td>\n",
       "      <td>0.461379</td>\n",
       "      <td>0.096629</td>\n",
       "      <td>0.037102</td>\n",
       "      <td>0.008935</td>\n",
       "    </tr>\n",
       "    <tr>\n",
       "      <th>4</th>\n",
       "      <td>1001630033</td>\n",
       "      <td>11</td>\n",
       "      <td>1915</td>\n",
       "      <td>0.0</td>\n",
       "      <td>0.0</td>\n",
       "      <td>0.0</td>\n",
       "      <td>1.0</td>\n",
       "      <td>0.0</td>\n",
       "      <td>1.0</td>\n",
       "      <td>0.0</td>\n",
       "      <td>...</td>\n",
       "      <td>0</td>\n",
       "      <td>0</td>\n",
       "      <td>0</td>\n",
       "      <td>0.0</td>\n",
       "      <td>0.0</td>\n",
       "      <td>10.973689</td>\n",
       "      <td>0.461379</td>\n",
       "      <td>0.096629</td>\n",
       "      <td>0.037102</td>\n",
       "      <td>0.008935</td>\n",
       "    </tr>\n",
       "  </tbody>\n",
       "</table>\n",
       "<p>5 rows × 75 columns</p>\n",
       "</div>"
      ],
      "text/plain": [
       "          bbl  total_units_19  year_built  ejectment_count  possession_count  \\\n",
       "0  1000780047             483        2016              0.0               0.0   \n",
       "1  1001350019               4        1915              0.0               0.0   \n",
       "2  1001620013              20        1915              0.0               0.0   \n",
       "3  1001630024              16        1915              0.0               0.0   \n",
       "4  1001630033              11        1915              0.0               0.0   \n",
       "\n",
       "   eviction_count  aleration_count  altered_lessthan5yrs  \\\n",
       "0             0.0              0.0                   0.0   \n",
       "1             0.0              0.0                   0.0   \n",
       "2             0.0              0.0                   0.0   \n",
       "3             0.0              0.0                   0.0   \n",
       "4             0.0              1.0                   0.0   \n",
       "\n",
       "   altered_morethan5yrs  classanet_avg  ...  boro_3  boro_4  boro_5  \\\n",
       "0                   0.0            0.0  ...       0       0       0   \n",
       "1                   0.0            0.0  ...       0       0       0   \n",
       "2                   0.0            0.0  ...       0       0       0   \n",
       "3                   0.0            0.0  ...       0       0       0   \n",
       "4                   1.0            0.0  ...       0       0       0   \n",
       "\n",
       "   rs_share_diff_new  hpd_call_2017_19  hh_inc_avg_19_log1  \\\n",
       "0                0.0               4.0           12.276639   \n",
       "1                0.0               0.0           12.897523   \n",
       "2                1.0               2.0           10.973689   \n",
       "3                0.0               1.0           10.973689   \n",
       "4                0.0               0.0           10.973689   \n",
       "\n",
       "   pop_race_asian_pct_19_log1  pop_race_black_pct_19_log1  \\\n",
       "0                    0.150551                    0.018246   \n",
       "1                    0.096864                    0.055298   \n",
       "2                    0.461379                    0.096629   \n",
       "3                    0.461379                    0.096629   \n",
       "4                    0.461379                    0.096629   \n",
       "\n",
       "   pop16_unemp_pct_19_log1  pop_mobile1_diff_state_pct_19_log1  \n",
       "0                 0.035008                            0.074674  \n",
       "1                 0.002253                            0.014341  \n",
       "2                 0.037102                            0.008935  \n",
       "3                 0.037102                            0.008935  \n",
       "4                 0.037102                            0.008935  \n",
       "\n",
       "[5 rows x 75 columns]"
      ]
     },
     "execution_count": 5,
     "metadata": {},
     "output_type": "execute_result"
    }
   ],
   "source": [
    "import pandas as pd\n",
    "import numpy as np\n",
    "df = pd.read_csv(\"/Users/cpreeldumas/Documents/GitHub/MLC_SP23/clean_data/merged_data_v3.csv\", low_memory=False, index_col=[0])\n",
    "df.head()\n"
   ]
  },
  {
   "cell_type": "code",
   "execution_count": 8,
   "id": "d5856577",
   "metadata": {},
   "outputs": [
    {
     "data": {
      "text/plain": [
       "<AxesSubplot:>"
      ]
     },
     "execution_count": 8,
     "metadata": {},
     "output_type": "execute_result"
    },
    {
     "data": {
      "image/png": "[encoded data removed]",
      "text/plain": [
       "<Figure size 640x480 with 1 Axes>"
      ]
     },
     "metadata": {},
     "output_type": "display_data"
    }
   ],
   "source": [
    "df.query(\"`total_units_19` < 6 and rs_share_diff_new == 1\").loc[:,'year_built'].hist()"
   ]
  },
  {
   "cell_type": "markdown",
   "id": "e9254501",
   "metadata": {},
   "source": [
    "# Plain Logistic Regression, statsmodel"
   ]
  },
  {
   "cell_type": "markdown",
   "id": "aa149c16",
   "metadata": {},
   "source": [
    "### Feature-importance variables"
   ]
  },
  {
   "cell_type": "code",
   "execution_count": 9,
   "id": "652afd96",
   "metadata": {},
   "outputs": [
    {
     "name": "stdout",
     "output_type": "stream",
     "text": [
      "Optimization terminated successfully.\n",
      "         Current function value: 0.603454\n",
      "         Iterations 6\n",
      "                           Logit Regression Results                           \n",
      "==============================================================================\n",
      "Dep. Variable:      rs_share_diff_new   No. Observations:                38955\n",
      "Model:                          Logit   Df Residuals:                    38940\n",
      "Method:                           MLE   Df Model:                           14\n",
      "Date:                Sat, 29 Apr 2023   Pseudo R-squ.:                 0.05770\n",
      "Time:                        15:22:13   Log-Likelihood:                -23508.\n",
      "converged:                       True   LL-Null:                       -24947.\n",
      "Covariance Type:            nonrobust   LLR p-value:                     0.000\n",
      "==================================================================================================\n",
      "                                     coef    std err          z      P>|z|      [0.025      0.975]\n",
      "--------------------------------------------------------------------------------------------------\n",
      "total_units_19                    -0.0028      0.000     -9.031      0.000      -0.003      -0.002\n",
      "year_built                        -0.0004      0.000     -1.390      0.164      -0.001       0.000\n",
      "hpd_call_2017_19                  -0.0019      0.000     -7.790      0.000      -0.002      -0.001\n",
      "pop_race_black_pct_19_log1        -0.3507      0.093     -3.769      0.000      -0.533      -0.168\n",
      "hh_alone_pct_19                   -1.9964      0.134    -14.951      0.000      -2.258      -1.735\n",
      "rent_contract_med_19           -7.964e-05   4.65e-05     -1.714      0.086      -0.000    1.14e-05\n",
      "pop_edu_hs_pct_19                  1.5578      0.251      6.216      0.000       1.067       2.049\n",
      "hh_inc_avg_19_log1                 0.0938      0.047      2.012      0.044       0.002       0.185\n",
      "unit_rent_cash_mod_high_pct_19     1.1192      0.121      9.268      0.000       0.882       1.356\n",
      "hh_inc_pubasst_snap_pct_19        -3.1427      0.152    -20.670      0.000      -3.441      -2.845\n",
      "pop_edu_collp_pct_19              -1.3697      0.208     -6.575      0.000      -1.778      -0.961\n",
      "pop_rent_pct_19                    0.5020      0.083      6.052      0.000       0.339       0.665\n",
      "dob_calls_2018                     0.0101      0.006      1.721      0.085      -0.001       0.022\n",
      "dob_calls_2019                    -0.0019      0.006     -0.336      0.737      -0.013       0.009\n",
      "pop_race_white_pct_19              0.7035      0.090      7.857      0.000       0.528       0.879\n",
      "==================================================================================================\n"
     ]
    }
   ],
   "source": [
    "import statsmodels.api as sm\n",
    "import pandas as pd\n",
    "from sklearn.model_selection import train_test_split\n",
    "\n",
    "X = df[[\"total_units_19\",\"year_built\",\"hpd_call_2017_19\", \"pop_race_black_pct_19_log1\", \"hh_alone_pct_19\", \"rent_contract_med_19\", \"pop_edu_hs_pct_19\", \"hh_inc_avg_19_log1\", \"unit_rent_cash_mod_high_pct_19\", \"hh_inc_pubasst_snap_pct_19\", \"pop_edu_collp_pct_19\", \"pop_rent_pct_19\", \"dob_calls_2018\", \"dob_calls_2019\", \"pop_race_white_pct_19\"]]\n",
    "y = df['rs_share_diff_new']\n",
    "\n",
    "\n",
    "logreg = sm.Logit(y, X).fit()\n",
    "print(logreg.summary())"
   ]
  },
  {
   "cell_type": "markdown",
   "id": "b8ccd39d",
   "metadata": {},
   "source": [
    "### All Variables"
   ]
  },
  {
   "cell_type": "code",
   "execution_count": 10,
   "id": "b4162de5",
   "metadata": {},
   "outputs": [
    {
     "name": "stdout",
     "output_type": "stream",
     "text": [
      "Warning: Maximum number of iterations has been exceeded.\n",
      "         Current function value: 0.579756\n",
      "         Iterations: 35\n",
      "                           Logit Regression Results                           \n",
      "==============================================================================\n",
      "Dep. Variable:      rs_share_diff_new   No. Observations:                38955\n",
      "Model:                          Logit   Df Residuals:                    38882\n",
      "Method:                           MLE   Df Model:                           72\n",
      "Date:                Sat, 29 Apr 2023   Pseudo R-squ.:                 0.09471\n",
      "Time:                        15:22:19   Log-Likelihood:                -22584.\n",
      "converged:                      False   LL-Null:                       -24947.\n",
      "Covariance Type:            nonrobust   LLR p-value:                     0.000\n",
      "======================================================================================================\n",
      "                                         coef    std err          z      P>|z|      [0.025      0.975]\n",
      "------------------------------------------------------------------------------------------------------\n",
      "total_units_19                         0.0001      0.000      0.456      0.649      -0.000       0.001\n",
      "year_built                            -0.0024      0.000     -6.581      0.000      -0.003      -0.002\n",
      "ejectment_count                       10.4478     74.589      0.140      0.889    -135.744     156.639\n",
      "possession_count                      -0.1094      0.023     -4.664      0.000      -0.155      -0.063\n",
      "eviction_count                       -15.0770   4139.558     -0.004      0.997   -8128.462    8098.308\n",
      "aleration_count                       -0.0009      0.199     -0.005      0.996      -0.391       0.389\n",
      "altered_lessthan5yrs                   0.0164      0.239      0.068      0.946      -0.453       0.486\n",
      "altered_morethan5yrs                   0.0548      0.219      0.250      0.802      -0.374       0.484\n",
      "classanet_avg                         -0.0055      0.005     -1.043      0.297      -0.016       0.005\n",
      "enlargement_count                     -0.6040      0.330     -1.830      0.067      -1.251       0.043\n",
      "dob_calls_2017                         0.0065      0.005      1.245      0.213      -0.004       0.017\n",
      "dob_calls_2018                         0.0057      0.006      0.955      0.340      -0.006       0.017\n",
      "dob_calls_2019                         0.0022      0.005      0.422      0.673      -0.008       0.012\n",
      "b_violations_2017                     -0.2036      0.036     -5.669      0.000      -0.274      -0.133\n",
      "b_violations_2018                     -0.2093      0.036     -5.762      0.000      -0.281      -0.138\n",
      "b_violations_2019                     -0.1449      0.039     -3.696      0.000      -0.222      -0.068\n",
      "c_violations_2017                     -0.0532      0.038     -1.385      0.166      -0.128       0.022\n",
      "c_violations_2018                     -0.0037      0.038     -0.098      0.922      -0.078       0.071\n",
      "c_violations_2019                     -0.0862      0.040     -2.162      0.031      -0.164      -0.008\n",
      "cases_2017                             0.1089      0.048      2.257      0.024       0.014       0.203\n",
      "cases_2018                             0.0770      0.055      1.392      0.164      -0.031       0.185\n",
      "cases_2019                             0.1410      0.055      2.582      0.010       0.034       0.248\n",
      "Heat and Hot Water_2017               -0.0180      0.077     -0.234      0.815      -0.169       0.133\n",
      "Heat and Hot Water_2018               -0.0752      0.080     -0.945      0.345      -0.231       0.081\n",
      "Heat and Hot Water_2019               -0.0762      0.090     -0.847      0.397      -0.253       0.100\n",
      "Tenant Action_2017                    -0.0852      0.067     -1.274      0.203      -0.216       0.046\n",
      "Tenant Action_2018                     0.0105      0.071      0.147      0.883      -0.130       0.151\n",
      "Tenant Action_2019                    -0.1356      0.072     -1.884      0.060      -0.277       0.005\n",
      "CONH_2017                              0.5356      0.559      0.957      0.338      -0.561       1.632\n",
      "CONH_2018                             -0.1694      0.424     -0.400      0.689      -0.999       0.661\n",
      "CONH_2019                              0.7004      0.353      1.983      0.047       0.008       1.393\n",
      "Tenant Action/Harrassment_2017        -0.1975      0.122     -1.618      0.106      -0.437       0.042\n",
      "Tenant Action/Harrassment_2018        -0.1561      0.115     -1.360      0.174      -0.381       0.069\n",
      "Tenant Action/Harrassment_2019        -0.1393      0.104     -1.343      0.179      -0.343       0.064\n",
      "hh_inc_own_med_19                  -4.428e-07      4e-07     -1.106      0.269   -1.23e-06    3.42e-07\n",
      "own_cost_mort_med_19                6.905e-05   2.17e-05      3.185      0.001    2.66e-05       0.000\n",
      "own_burden_mort_med_19                 0.0089      0.001      5.992      0.000       0.006       0.012\n",
      "rent_contract_med_19                  -0.0002   5.94e-05     -3.855      0.000      -0.000      -0.000\n",
      "rent_burden_med_19                     0.3613      0.487      0.741      0.458      -0.594       1.316\n",
      "pop_65p_pct_19                        -1.8179      0.385     -4.717      0.000      -2.573      -1.063\n",
      "pop_rent_pct_19                       -0.1576      0.118     -1.334      0.182      -0.389       0.074\n",
      "pop_race_white_pct_19                 -0.4599      0.122     -3.784      0.000      -0.698      -0.222\n",
      "pop_lim_eng_pct_19                    -1.0645      0.208     -5.118      0.000      -1.472      -0.657\n",
      "pop_pov_pct_19                         0.4162      0.242      1.720      0.085      -0.058       0.890\n",
      "pop_edu_hs_pct_19                      0.4445      0.274      1.619      0.105      -0.093       0.983\n",
      "pop_edu_collp_pct_19                  -2.5916      0.241    -10.772      0.000      -3.063      -2.120\n",
      "pop_mobile1_same_home_pct_19           3.6192      0.613      5.902      0.000       2.417       4.821\n",
      "pop_mobile1_same_county_pct_19         3.0134      0.746      4.038      0.000       1.551       4.476\n",
      "pop_mobile1_abroad_pct_19              5.9197      1.168      5.069      0.000       3.631       8.209\n",
      "hh_family_pct_19                      -2.8233      0.311     -9.080      0.000      -3.433      -2.214\n",
      "hh_alone_pct_19                       -2.5506      0.284     -8.994      0.000      -3.106      -1.995\n",
      "hh_inc_wage_pct_19                    -0.9003      0.292     -3.082      0.002      -1.473      -0.328\n",
      "hh_inc_ssi_pct_19                     -1.0810      0.421     -2.569      0.010      -1.906      -0.256\n",
      "hh_inc_pubasst_snap_pct_19            -1.3012      0.241     -5.407      0.000      -1.773      -0.829\n",
      "hh_inc_retirement_pct_19               0.7649      0.363      2.104      0.035       0.053       1.477\n",
      "unit_vac_pct_19                        0.8308      0.267      3.117      0.002       0.308       1.353\n",
      "unit_vac_rent_pct_19                   0.1806      0.398      0.454      0.650      -0.599       0.960\n",
      "unit_occ_rent_crowd_pct_19            -1.6806      0.235     -7.157      0.000      -2.141      -1.220\n",
      "unit_occ_rent_child_pct_19             0.6305      0.234      2.689      0.007       0.171       1.090\n",
      "unit_rent_cash_mod_high_pct_19         0.9570      0.143      6.672      0.000       0.676       1.238\n",
      "unit_rent_cash_high_pct_19            -0.0585      0.194     -0.301      0.763      -0.439       0.322\n",
      "rent_burden_pct_19                     0.0301      0.291      0.104      0.917      -0.540       0.600\n",
      "pop_race_div_idx_19                    0.1455      0.113      1.285      0.199      -0.076       0.367\n",
      "boro_2                                -0.3948      0.058     -6.764      0.000      -0.509      -0.280\n",
      "boro_3                                 0.6391      0.046     13.872      0.000       0.549       0.729\n",
      "boro_4                                 0.5615      0.059      9.485      0.000       0.445       0.677\n",
      "boro_5                                -0.6310      0.179     -3.526      0.000      -0.982      -0.280\n",
      "hpd_call_2017_19                      -0.0001      0.000     -0.611      0.541      -0.000       0.000\n",
      "hh_inc_avg_19_log1                     0.4685      0.065      7.241      0.000       0.342       0.595\n",
      "pop_race_asian_pct_19_log1            -0.5331      0.174     -3.063      0.002      -0.874      -0.192\n",
      "pop_race_black_pct_19_log1            -2.2691      0.165    -13.718      0.000      -2.593      -1.945\n",
      "pop16_unemp_pct_19_log1               -1.4345      0.477     -3.007      0.003      -2.370      -0.499\n",
      "pop_mobile1_diff_state_pct_19_log1     1.7708      0.968      1.830      0.067      -0.126       3.667\n",
      "======================================================================================================\n"
     ]
    },
    {
     "name": "stderr",
     "output_type": "stream",
     "text": [
      "/Users/cpreeldumas/opt/anaconda3/envs/pgmpy2/lib/python3.7/site-packages/statsmodels/base/model.py:606: ConvergenceWarning: Maximum Likelihood optimization failed to converge. Check mle_retvals\n",
      "  ConvergenceWarning)\n"
     ]
    }
   ],
   "source": [
    "import statsmodels.api as sm\n",
    "import pandas as pd\n",
    "from sklearn.model_selection import train_test_split\n",
    "\n",
    "X = df.drop(['rs_share_diff_new', 'bbl'], axis = 1)\n",
    "y = df['rs_share_diff_new']\n",
    "\n",
    "logreg = sm.Logit(y, X).fit()\n",
    "print(logreg.summary())"
   ]
  },
  {
   "cell_type": "markdown",
   "id": "8ab1191e",
   "metadata": {},
   "source": [
    "# Train-test split"
   ]
  },
  {
   "cell_type": "code",
   "execution_count": 11,
   "id": "a84ba8d7",
   "metadata": {},
   "outputs": [],
   "source": [
    "from sklearn.model_selection import train_test_split\n",
    "\n",
    "X = df.drop(['rs_share_diff_new', 'bbl'], axis = 1)\n",
    "y = df['rs_share_diff_new']\n",
    "\n",
    "X_train, X_test, y_train, y_test = train_test_split(X, y, test_size=0.25, random_state=1)"
   ]
  },
  {
   "cell_type": "markdown",
   "id": "1cfaa0f5",
   "metadata": {},
   "source": [
    "# Scaling"
   ]
  },
  {
   "cell_type": "code",
   "execution_count": 14,
   "id": "d90cd9fa",
   "metadata": {},
   "outputs": [],
   "source": [
    "# scaling to have mean = 0 and std = 1\n",
    "from sklearn import preprocessing\n",
    "scaler = preprocessing.StandardScaler()\n",
    "X_train = scaler.fit_transform(X_train)\n",
    "X_test = scaler.fit_transform(X_test)"
   ]
  },
  {
   "cell_type": "markdown",
   "id": "511ce052",
   "metadata": {},
   "source": [
    "# Plain Logistic Regression, sklearn"
   ]
  },
  {
   "cell_type": "code",
   "execution_count": 15,
   "id": "a9d1b2bd",
   "metadata": {},
   "outputs": [
    {
     "name": "stdout",
     "output_type": "stream",
     "text": [
      "Accuracy is 0.7173221069925043\n",
      "AUC is 0.6963758656443391\n"
     ]
    }
   ],
   "source": [
    "from sklearn.linear_model import LogisticRegression \n",
    "from sklearn.metrics import confusion_matrix, accuracy_score \n",
    "from sklearn import metrics\n",
    "\n",
    "logreg = LogisticRegression()\n",
    "\n",
    "# Training\n",
    "logreg.fit(X_train, y_train)\n",
    "\n",
    "# Predict\n",
    "y_pred = logreg.predict(X_test)\n",
    "\n",
    "# Accuracy\n",
    "accuracy = accuracy_score(y_test,y_pred)\n",
    "\n",
    "# AUC\n",
    "y_pred_proba = logreg.predict_proba(X_test)[:,1]\n",
    "auc = metrics.roc_auc_score(y_test, y_pred_proba)\n",
    "\n",
    "# Printing the results\n",
    "print(\"Accuracy is\",accuracy)\n",
    "print(\"AUC is\", auc)"
   ]
  },
  {
   "cell_type": "markdown",
   "id": "08c84424",
   "metadata": {},
   "source": [
    "# GridSearchCV with Ridge & Lasso"
   ]
  },
  {
   "cell_type": "code",
   "execution_count": 16,
   "id": "06c290d6",
   "metadata": {},
   "outputs": [
    {
     "name": "stdout",
     "output_type": "stream",
     "text": [
      "Tuned Hyperparameters : {'C': 0.01, 'penalty': 'l2'}\n",
      "Best Score : 0.6998792534264195\n"
     ]
    }
   ],
   "source": [
    "from sklearn.linear_model import LogisticRegression\n",
    "from sklearn.model_selection import GridSearchCV\n",
    "import warnings\n",
    "warnings.filterwarnings('ignore')\n",
    "\n",
    "scoring = {'Accuracy':'accuracy',\n",
    "           'F1 Score':'f1',\n",
    "           'Precision':'precision',\n",
    "           'Recall':'recall',\n",
    "           'AUC':'roc_auc'}\n",
    "\n",
    "# l1 = lasso l2 = ridge\n",
    "parameters = {'penalty':['l1','l2'],\n",
    "              'C':[0.001, 0.01, 0.1, 1, 10, 100]}\n",
    "\n",
    "logreg = LogisticRegression()\n",
    "clf = GridSearchCV(logreg,                   \n",
    "                   param_grid = parameters,  \n",
    "                   scoring= scoring,  \n",
    "                   refit = \"AUC\",\n",
    "                   cv=5)                    \n",
    "\n",
    "\n",
    "# Training\n",
    "fit = clf.fit(X_train,y_train)\n",
    "\n",
    "print(\"Tuned Hyperparameters :\", clf.best_params_) # why is there no best param for penalty? \n",
    "print(\"Best Score :\", clf.best_score_)"
   ]
  },
  {
   "cell_type": "code",
   "execution_count": 17,
   "id": "abb8094c",
   "metadata": {},
   "outputs": [
    {
     "name": "stdout",
     "output_type": "stream",
     "text": [
      "Best model AUC: nan\n",
      "Best model accuracy: nan\n",
      "Best model F1 score: nan\n",
      "Best model precision: nan\n",
      "Best model recall: nan\n"
     ]
    }
   ],
   "source": [
    "# All CV metrics for best model\n",
    "\n",
    "best_params_index = fit.cv_results_['rank_test_AUC'][0] - 1\n",
    "print(\"Best model AUC:\", fit.cv_results_['mean_test_AUC'][best_params_index])\n",
    "print(\"Best model accuracy:\", fit.cv_results_['mean_test_Accuracy'][best_params_index])\n",
    "print(\"Best model F1 score:\", fit.cv_results_['mean_test_F1 Score'][best_params_index])\n",
    "print(\"Best model precision:\", fit.cv_results_['mean_test_Precision'][best_params_index])\n",
    "print(\"Best model recall:\", fit.cv_results_['mean_test_Recall'][best_params_index])"
   ]
  },
  {
   "cell_type": "code",
   "execution_count": 18,
   "id": "340ffa88",
   "metadata": {},
   "outputs": [
    {
     "name": "stdout",
     "output_type": "stream",
     "text": [
      "Out of sample AUC is: 0.6335037869206441\n",
      "Out of sample accuracy is: 0.7186569462983879\n",
      "Out of sample F1 score is: 0.47185813415574396\n",
      "Out of sample precision is: 0.6378322042730589\n",
      "Out of sample recall is: 0.3744264301009483\n"
     ]
    }
   ],
   "source": [
    "# test set\n",
    "from sklearn import metrics\n",
    "\n",
    "y_hat_test = fit.predict(X_test) \n",
    "auc = metrics.roc_auc_score(y_test, y_hat_test)\n",
    "acc = metrics.accuracy_score(y_test, y_hat_test)\n",
    "f1 = metrics.f1_score(y_test, y_hat_test)\n",
    "prec = metrics.precision_score(y_test, y_hat_test)\n",
    "rec = metrics.recall_score(y_test, y_hat_test)\n",
    "\n",
    "print(\"Out of sample AUC is:\", auc)\n",
    "print(\"Out of sample accuracy is:\", acc)\n",
    "print(\"Out of sample F1 score is:\", f1)\n",
    "print(\"Out of sample precision is:\", prec)\n",
    "print(\"Out of sample recall is:\", rec)"
   ]
  },
  {
   "cell_type": "code",
   "execution_count": 26,
   "id": "022cac6b",
   "metadata": {},
   "outputs": [
    {
     "name": "stdout",
     "output_type": "stream",
     "text": [
      "Feature: 0, Score: 0.01666\n",
      "Feature: 1, Score: -0.14621\n",
      "Feature: 2, Score: 0.04408\n",
      "Feature: 3, Score: -0.06769\n",
      "Feature: 4, Score: -0.03381\n",
      "Feature: 5, Score: -0.02879\n",
      "Feature: 6, Score: 0.02461\n",
      "Feature: 7, Score: 0.04456\n",
      "Feature: 8, Score: -0.03643\n",
      "Feature: 9, Score: -0.02155\n",
      "Feature: 10, Score: 0.02369\n",
      "Feature: 11, Score: 0.02964\n",
      "Feature: 12, Score: 0.00147\n",
      "Feature: 13, Score: -0.10423\n",
      "Feature: 14, Score: -0.10777\n",
      "Feature: 15, Score: -0.06129\n",
      "Feature: 16, Score: -0.01161\n",
      "Feature: 17, Score: -0.00444\n",
      "Feature: 18, Score: -0.05078\n",
      "Feature: 19, Score: 0.04500\n",
      "Feature: 20, Score: 0.03208\n",
      "Feature: 21, Score: 0.06908\n",
      "Feature: 22, Score: 0.00116\n",
      "Feature: 23, Score: -0.02450\n",
      "Feature: 24, Score: -0.01640\n",
      "Feature: 25, Score: -0.04238\n",
      "Feature: 26, Score: 0.02131\n",
      "Feature: 27, Score: -0.03270\n",
      "Feature: 28, Score: 0.01444\n",
      "Feature: 29, Score: 0.00091\n",
      "Feature: 30, Score: 0.02859\n",
      "Feature: 31, Score: -0.01201\n",
      "Feature: 32, Score: -0.02030\n",
      "Feature: 33, Score: -0.01988\n",
      "Feature: 34, Score: 0.01780\n",
      "Feature: 35, Score: 0.06070\n",
      "Feature: 36, Score: 0.08423\n",
      "Feature: 37, Score: -0.06548\n",
      "Feature: 38, Score: -0.02990\n",
      "Feature: 39, Score: -0.12616\n",
      "Feature: 40, Score: -0.14116\n",
      "Feature: 41, Score: -0.15244\n",
      "Feature: 42, Score: -0.20197\n",
      "Feature: 43, Score: -0.00714\n",
      "Feature: 44, Score: 0.01178\n",
      "Feature: 45, Score: -0.61286\n",
      "Feature: 46, Score: 0.08859\n",
      "Feature: 47, Score: 0.01388\n",
      "Feature: 48, Score: 0.04127\n",
      "Feature: 49, Score: -0.49748\n",
      "Feature: 50, Score: -0.38572\n",
      "Feature: 51, Score: -0.10721\n",
      "Feature: 52, Score: -0.10151\n",
      "Feature: 53, Score: -0.23003\n",
      "Feature: 54, Score: 0.02459\n",
      "Feature: 55, Score: 0.06700\n",
      "Feature: 56, Score: -0.00171\n",
      "Feature: 57, Score: -0.10787\n",
      "Feature: 58, Score: 0.09127\n",
      "Feature: 59, Score: 0.11418\n",
      "Feature: 60, Score: -0.01480\n",
      "Feature: 61, Score: 0.01743\n",
      "Feature: 62, Score: 0.00935\n",
      "Feature: 63, Score: -0.19441\n",
      "Feature: 64, Score: 0.26636\n",
      "Feature: 65, Score: 0.15657\n",
      "Feature: 66, Score: -0.05033\n",
      "Feature: 67, Score: -0.01984\n",
      "Feature: 68, Score: -0.11155\n",
      "Feature: 69, Score: -0.06696\n",
      "Feature: 70, Score: -0.41632\n",
      "Feature: 71, Score: -0.05989\n",
      "Feature: 72, Score: -0.02891\n"
     ]
    },
    {
     "data": {
      "image/png": "[encoded data removed]",
      "text/plain": [
       "<Figure size 640x480 with 1 Axes>"
      ]
     },
     "metadata": {},
     "output_type": "display_data"
    }
   ],
   "source": [
    "from matplotlib import pyplot as plt\n",
    "\n",
    "# get importance\n",
    "logreg.coef_[0]\n",
    "# summarize feature importance\n",
    "for i,v in enumerate(importance):\n",
    " print('Feature: %0d, Score: %.5f' % (i,v))\n",
    "# plot feature importance\n",
    "plt.bar([x for x in range(len(importance))], importance)\n",
    "plt.show()"
   ]
  },
  {
   "cell_type": "markdown",
   "id": "d4995073",
   "metadata": {},
   "source": [
    "# Tuning History"
   ]
  },
  {
   "cell_type": "code",
   "execution_count": null,
   "id": "4ba0c8ac",
   "metadata": {},
   "outputs": [],
   "source": [
    "# Without scaling, same parameters\n",
    "\n",
    "# Out of sample AUC is: 0.5\n",
    "# Out of sample accuracy is: 0.6660849928146171\n",
    "# Out of sample F1 score is: 0.0\n",
    "# Out of sample precision is: 0.0\n",
    "# Out of sample recall is: 0.0"
   ]
  },
  {
   "cell_type": "markdown",
   "id": "79955f30",
   "metadata": {},
   "source": [
    "# V2.1 Only buildings < 6"
   ]
  },
  {
   "cell_type": "code",
   "execution_count": 41,
   "id": "a2549225",
   "metadata": {},
   "outputs": [],
   "source": [
    "from sklearn.model_selection import train_test_split\n",
    "\n",
    "X = df.drop(['rs_share_diff_new', 'bbl'], axis = 1).loc[df['total_units_19'] < 6]\n",
    "y = df['rs_share_diff_new'].loc[df['total_units_19'] < 6]\n",
    "\n",
    "X_train, X_test, y_train, y_test = train_test_split(X, y, test_size=0.25, random_state=1)\n",
    "\n",
    "# scaling to have mean = 0 and std = 1\n",
    "from sklearn import preprocessing\n",
    "scaler = preprocessing.StandardScaler()\n",
    "X_train = scaler.fit_transform(X_train)\n",
    "X_test = scaler.fit_transform(X_test)"
   ]
  },
  {
   "cell_type": "code",
   "execution_count": 42,
   "id": "4762b66e",
   "metadata": {},
   "outputs": [
    {
     "name": "stdout",
     "output_type": "stream",
     "text": [
      "Tuned Hyperparameters : {'C': 0.01, 'penalty': 'l2'}\n",
      "Best Score : 0.8282203883686936\n"
     ]
    }
   ],
   "source": [
    "from sklearn.linear_model import LogisticRegression\n",
    "from sklearn.model_selection import GridSearchCV\n",
    "import warnings\n",
    "warnings.filterwarnings('ignore')\n",
    "\n",
    "scoring = {'Accuracy':'accuracy',\n",
    "           'F1 Score':'f1',\n",
    "           'Precision':'precision',\n",
    "           'Recall':'recall',\n",
    "           'AUC':'roc_auc'}\n",
    "\n",
    "# l1 = lasso l2 = ridge\n",
    "parameters = {'penalty':['l1','l2'],\n",
    "              'C':[0.001, 0.01, 0.1, 1, 10, 100]}\n",
    "\n",
    "logreg = LogisticRegression()\n",
    "clf = GridSearchCV(logreg,                   \n",
    "                   param_grid = parameters,  \n",
    "                   scoring= scoring,  \n",
    "                   refit = \"AUC\",\n",
    "                   cv=5)                    \n",
    "\n",
    "\n",
    "# Training\n",
    "fit = clf.fit(X_train,y_train)\n",
    "\n",
    "print(\"Tuned Hyperparameters :\", clf.best_params_) # why is there no best param for penalty? \n",
    "print(\"Best Score :\", clf.best_score_)"
   ]
  },
  {
   "cell_type": "code",
   "execution_count": 44,
   "id": "0bd934f5",
   "metadata": {},
   "outputs": [
    {
     "name": "stdout",
     "output_type": "stream",
     "text": [
      "Out of sample AUC is: 0.6191327375041377\n",
      "Out of sample accuracy is: 0.8757396449704142\n",
      "Out of sample F1 score is: 0.930921052631579\n",
      "Out of sample precision is: 0.8761609907120743\n",
      "Out of sample recall is: 0.9929824561403509\n"
     ]
    }
   ],
   "source": [
    "# test set\n",
    "from sklearn import metrics\n",
    "\n",
    "y_hat_test = fit.predict(X_test) \n",
    "auc = metrics.roc_auc_score(y_test, y_hat_test)\n",
    "acc = metrics.accuracy_score(y_test, y_hat_test)\n",
    "f1 = metrics.f1_score(y_test, y_hat_test)\n",
    "prec = metrics.precision_score(y_test, y_hat_test)\n",
    "rec = metrics.recall_score(y_test, y_hat_test)\n",
    "\n",
    "print(\"Out of sample AUC is:\", auc)\n",
    "print(\"Out of sample accuracy is:\", acc)\n",
    "print(\"Out of sample F1 score is:\", f1)\n",
    "print(\"Out of sample precision is:\", prec)\n",
    "print(\"Out of sample recall is:\", rec)"
   ]
  },
  {
   "cell_type": "markdown",
   "id": "b5da93d9",
   "metadata": {},
   "source": [
    "# V2.1 Only buildings >= 6"
   ]
  },
  {
   "cell_type": "code",
   "execution_count": 51,
   "id": "e61cb258",
   "metadata": {},
   "outputs": [],
   "source": [
    "from sklearn.model_selection import train_test_split\n",
    "\n",
    "X = df.drop(['rs_share_diff_new', 'bbl'], axis = 1).loc[df['total_units_19'] >= 6]\n",
    "y = df['rs_share_diff_new'].loc[df['total_units_19'] >= 6]\n",
    "\n",
    "X_train, X_test, y_train, y_test = train_test_split(X, y, test_size=0.25, random_state=1)\n",
    "\n",
    "# scaling to have mean = 0 and std = 1\n",
    "from sklearn import preprocessing\n",
    "scaler = preprocessing.StandardScaler()\n",
    "X_train = scaler.fit_transform(X_train)\n",
    "X_test = scaler.fit_transform(X_test)"
   ]
  },
  {
   "cell_type": "code",
   "execution_count": 52,
   "id": "f8e789f0",
   "metadata": {},
   "outputs": [
    {
     "name": "stdout",
     "output_type": "stream",
     "text": [
      "Tuned Hyperparameters : {'C': 0.1, 'penalty': 'l2'}\n",
      "Best Score : 0.7007476349898726\n"
     ]
    }
   ],
   "source": [
    "from sklearn.linear_model import LogisticRegression\n",
    "from sklearn.model_selection import GridSearchCV\n",
    "import warnings\n",
    "warnings.filterwarnings('ignore')\n",
    "\n",
    "scoring = {'Accuracy':'accuracy',\n",
    "           'F1 Score':'f1',\n",
    "           'Precision':'precision',\n",
    "           'Recall':'recall',\n",
    "           'AUC':'roc_auc'}\n",
    "\n",
    "# l1 = lasso l2 = ridge\n",
    "parameters = {'penalty':['l1','l2'],\n",
    "              'C':[0.001, 0.01, 0.1, 1, 10, 100]}\n",
    "\n",
    "logreg = LogisticRegression()\n",
    "clf = GridSearchCV(logreg,                   \n",
    "                   param_grid = parameters,  \n",
    "                   scoring= scoring,  \n",
    "                   refit = \"AUC\",\n",
    "                   cv=5)                    \n",
    "\n",
    "\n",
    "# Training\n",
    "fit = clf.fit(X_train,y_train)\n",
    "\n",
    "print(\"Tuned Hyperparameters :\", clf.best_params_) # why is there no best param for penalty? \n",
    "print(\"Best Score :\", clf.best_score_)"
   ]
  },
  {
   "cell_type": "code",
   "execution_count": 53,
   "id": "0456f592",
   "metadata": {},
   "outputs": [
    {
     "name": "stdout",
     "output_type": "stream",
     "text": [
      "Out of sample AUC is: 0.6399660860294091\n",
      "Out of sample accuracy is: 0.7363046484416551\n",
      "Out of sample F1 score is: 0.47467683831320195\n",
      "Out of sample precision is: 0.6553540081919251\n",
      "Out of sample recall is: 0.37209302325581395\n"
     ]
    }
   ],
   "source": [
    "# test set\n",
    "from sklearn import metrics\n",
    "\n",
    "y_hat_test = fit.predict(X_test) \n",
    "auc = metrics.roc_auc_score(y_test, y_hat_test)\n",
    "acc = metrics.accuracy_score(y_test, y_hat_test)\n",
    "f1 = metrics.f1_score(y_test, y_hat_test)\n",
    "prec = metrics.precision_score(y_test, y_hat_test)\n",
    "rec = metrics.recall_score(y_test, y_hat_test)\n",
    "\n",
    "print(\"Out of sample AUC is:\", auc)\n",
    "print(\"Out of sample accuracy is:\", acc)\n",
    "print(\"Out of sample F1 score is:\", f1)\n",
    "print(\"Out of sample precision is:\", prec)\n",
    "print(\"Out of sample recall is:\", rec)"
   ]
  }
 ],
 "metadata": {
  "kernelspec": {
   "display_name": "Python 3 (ipykernel)",
   "language": "python",
   "name": "python3"
  },
  "language_info": {
   "codemirror_mode": {
    "name": "ipython",
    "version": 3
   },
   "file_extension": ".py",
   "mimetype": "text/x-python",
   "name": "python",
   "nbconvert_exporter": "python",
   "pygments_lexer": "ipython3",
   "version": "3.7.16"
  }
 },
 "nbformat": 4,
 "nbformat_minor": 5
}
