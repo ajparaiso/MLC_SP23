{
 "cells": [
  {
   "cell_type": "code",
   "execution_count": 63,
   "id": "fb53b8ea",
   "metadata": {},
   "outputs": [
    {
     "data": {
      "text/html": [
       "<div>\n",
       "<style scoped>\n",
       "    .dataframe tbody tr th:only-of-type {\n",
       "        vertical-align: middle;\n",
       "    }\n",
       "\n",
       "    .dataframe tbody tr th {\n",
       "        vertical-align: top;\n",
       "    }\n",
       "\n",
       "    .dataframe thead th {\n",
       "        text-align: right;\n",
       "    }\n",
       "</style>\n",
       "<table border=\"1\" class=\"dataframe\">\n",
       "  <thead>\n",
       "    <tr style=\"text-align: right;\">\n",
       "      <th></th>\n",
       "      <th>bbl</th>\n",
       "      <th>total_units_19</th>\n",
       "      <th>year_built</th>\n",
       "      <th>ejectment_count</th>\n",
       "      <th>possession_count</th>\n",
       "      <th>eviction_count</th>\n",
       "      <th>aleration_count</th>\n",
       "      <th>altered_lessthan5yrs</th>\n",
       "      <th>altered_morethan5yrs</th>\n",
       "      <th>classanet_avg</th>\n",
       "      <th>...</th>\n",
       "      <th>boro_3</th>\n",
       "      <th>boro_4</th>\n",
       "      <th>boro_5</th>\n",
       "      <th>rs_share_diff_new</th>\n",
       "      <th>hpd_call_2017_19</th>\n",
       "      <th>hh_inc_avg_19_log1</th>\n",
       "      <th>pop_race_asian_pct_19_log1</th>\n",
       "      <th>pop_race_black_pct_19_log1</th>\n",
       "      <th>pop16_unemp_pct_19_log1</th>\n",
       "      <th>pop_mobile1_diff_state_pct_19_log1</th>\n",
       "    </tr>\n",
       "  </thead>\n",
       "  <tbody>\n",
       "    <tr>\n",
       "      <th>0</th>\n",
       "      <td>1000780047</td>\n",
       "      <td>483</td>\n",
       "      <td>2016</td>\n",
       "      <td>0.0</td>\n",
       "      <td>0.0</td>\n",
       "      <td>0.0</td>\n",
       "      <td>0.0</td>\n",
       "      <td>0.0</td>\n",
       "      <td>0.0</td>\n",
       "      <td>0.0</td>\n",
       "      <td>...</td>\n",
       "      <td>0</td>\n",
       "      <td>0</td>\n",
       "      <td>0</td>\n",
       "      <td>0.0</td>\n",
       "      <td>4.0</td>\n",
       "      <td>12.276639</td>\n",
       "      <td>0.150551</td>\n",
       "      <td>0.018246</td>\n",
       "      <td>0.035008</td>\n",
       "      <td>0.074674</td>\n",
       "    </tr>\n",
       "    <tr>\n",
       "      <th>1</th>\n",
       "      <td>1001350019</td>\n",
       "      <td>4</td>\n",
       "      <td>1915</td>\n",
       "      <td>0.0</td>\n",
       "      <td>0.0</td>\n",
       "      <td>0.0</td>\n",
       "      <td>0.0</td>\n",
       "      <td>0.0</td>\n",
       "      <td>0.0</td>\n",
       "      <td>0.0</td>\n",
       "      <td>...</td>\n",
       "      <td>0</td>\n",
       "      <td>0</td>\n",
       "      <td>0</td>\n",
       "      <td>0.0</td>\n",
       "      <td>0.0</td>\n",
       "      <td>12.897523</td>\n",
       "      <td>0.096864</td>\n",
       "      <td>0.055298</td>\n",
       "      <td>0.002253</td>\n",
       "      <td>0.014341</td>\n",
       "    </tr>\n",
       "    <tr>\n",
       "      <th>2</th>\n",
       "      <td>1001620013</td>\n",
       "      <td>20</td>\n",
       "      <td>1915</td>\n",
       "      <td>0.0</td>\n",
       "      <td>0.0</td>\n",
       "      <td>0.0</td>\n",
       "      <td>0.0</td>\n",
       "      <td>0.0</td>\n",
       "      <td>0.0</td>\n",
       "      <td>0.0</td>\n",
       "      <td>...</td>\n",
       "      <td>0</td>\n",
       "      <td>0</td>\n",
       "      <td>0</td>\n",
       "      <td>1.0</td>\n",
       "      <td>2.0</td>\n",
       "      <td>10.973689</td>\n",
       "      <td>0.461379</td>\n",
       "      <td>0.096629</td>\n",
       "      <td>0.037102</td>\n",
       "      <td>0.008935</td>\n",
       "    </tr>\n",
       "    <tr>\n",
       "      <th>3</th>\n",
       "      <td>1001630024</td>\n",
       "      <td>16</td>\n",
       "      <td>1915</td>\n",
       "      <td>0.0</td>\n",
       "      <td>0.0</td>\n",
       "      <td>0.0</td>\n",
       "      <td>0.0</td>\n",
       "      <td>0.0</td>\n",
       "      <td>0.0</td>\n",
       "      <td>0.0</td>\n",
       "      <td>...</td>\n",
       "      <td>0</td>\n",
       "      <td>0</td>\n",
       "      <td>0</td>\n",
       "      <td>0.0</td>\n",
       "      <td>1.0</td>\n",
       "      <td>10.973689</td>\n",
       "      <td>0.461379</td>\n",
       "      <td>0.096629</td>\n",
       "      <td>0.037102</td>\n",
       "      <td>0.008935</td>\n",
       "    </tr>\n",
       "    <tr>\n",
       "      <th>4</th>\n",
       "      <td>1001630033</td>\n",
       "      <td>11</td>\n",
       "      <td>1915</td>\n",
       "      <td>0.0</td>\n",
       "      <td>0.0</td>\n",
       "      <td>0.0</td>\n",
       "      <td>1.0</td>\n",
       "      <td>0.0</td>\n",
       "      <td>1.0</td>\n",
       "      <td>0.0</td>\n",
       "      <td>...</td>\n",
       "      <td>0</td>\n",
       "      <td>0</td>\n",
       "      <td>0</td>\n",
       "      <td>0.0</td>\n",
       "      <td>0.0</td>\n",
       "      <td>10.973689</td>\n",
       "      <td>0.461379</td>\n",
       "      <td>0.096629</td>\n",
       "      <td>0.037102</td>\n",
       "      <td>0.008935</td>\n",
       "    </tr>\n",
       "  </tbody>\n",
       "</table>\n",
       "<p>5 rows × 75 columns</p>\n",
       "</div>"
      ],
      "text/plain": [
       "          bbl  total_units_19  year_built  ejectment_count  possession_count  \\\n",
       "0  1000780047             483        2016              0.0               0.0   \n",
       "1  1001350019               4        1915              0.0               0.0   \n",
       "2  1001620013              20        1915              0.0               0.0   \n",
       "3  1001630024              16        1915              0.0               0.0   \n",
       "4  1001630033              11        1915              0.0               0.0   \n",
       "\n",
       "   eviction_count  aleration_count  altered_lessthan5yrs  \\\n",
       "0             0.0              0.0                   0.0   \n",
       "1             0.0              0.0                   0.0   \n",
       "2             0.0              0.0                   0.0   \n",
       "3             0.0              0.0                   0.0   \n",
       "4             0.0              1.0                   0.0   \n",
       "\n",
       "   altered_morethan5yrs  classanet_avg  ...  boro_3  boro_4  boro_5  \\\n",
       "0                   0.0            0.0  ...       0       0       0   \n",
       "1                   0.0            0.0  ...       0       0       0   \n",
       "2                   0.0            0.0  ...       0       0       0   \n",
       "3                   0.0            0.0  ...       0       0       0   \n",
       "4                   1.0            0.0  ...       0       0       0   \n",
       "\n",
       "   rs_share_diff_new  hpd_call_2017_19  hh_inc_avg_19_log1  \\\n",
       "0                0.0               4.0           12.276639   \n",
       "1                0.0               0.0           12.897523   \n",
       "2                1.0               2.0           10.973689   \n",
       "3                0.0               1.0           10.973689   \n",
       "4                0.0               0.0           10.973689   \n",
       "\n",
       "   pop_race_asian_pct_19_log1  pop_race_black_pct_19_log1  \\\n",
       "0                    0.150551                    0.018246   \n",
       "1                    0.096864                    0.055298   \n",
       "2                    0.461379                    0.096629   \n",
       "3                    0.461379                    0.096629   \n",
       "4                    0.461379                    0.096629   \n",
       "\n",
       "   pop16_unemp_pct_19_log1  pop_mobile1_diff_state_pct_19_log1  \n",
       "0                 0.035008                            0.074674  \n",
       "1                 0.002253                            0.014341  \n",
       "2                 0.037102                            0.008935  \n",
       "3                 0.037102                            0.008935  \n",
       "4                 0.037102                            0.008935  \n",
       "\n",
       "[5 rows x 75 columns]"
      ]
     },
     "execution_count": 63,
     "metadata": {},
     "output_type": "execute_result"
    }
   ],
   "source": [
    "import pandas as pd\n",
    "import numpy as np\n",
    "df = pd.read_csv(\"/Users/cpreeldumas/Documents/GitHub/MLC_SP23/clean_data/merged_data_v3.csv\", low_memory=False, index_col=[0])\n",
    "df.head()\n"
   ]
  },
  {
   "cell_type": "markdown",
   "id": "8ab1191e",
   "metadata": {},
   "source": [
    "# Train-test split"
   ]
  },
  {
   "cell_type": "code",
   "execution_count": 64,
   "id": "a84ba8d7",
   "metadata": {},
   "outputs": [],
   "source": [
    "from sklearn.model_selection import train_test_split\n",
    "\n",
    "X = df.drop(['rs_share_diff_new'], axis = 1)\n",
    "y = df['rs_share_diff_new']\n",
    "\n",
    "X_train, X_test, y_train, y_test = train_test_split(X, y, test_size=0.25, random_state=1)"
   ]
  },
  {
   "cell_type": "markdown",
   "id": "511ce052",
   "metadata": {},
   "source": [
    "# Plain Logistic Regression"
   ]
  },
  {
   "cell_type": "code",
   "execution_count": 54,
   "id": "a9d1b2bd",
   "metadata": {},
   "outputs": [
    {
     "name": "stdout",
     "output_type": "stream",
     "text": [
      "Accuracy is 0.6660849928146171\n",
      "AUC is 0.3570055442024259\n"
     ]
    }
   ],
   "source": [
    "from sklearn.linear_model import LogisticRegression \n",
    "from sklearn.metrics import confusion_matrix, accuracy_score \n",
    "\n",
    "logreg = LogisticRegression()\n",
    "\n",
    "# Training\n",
    "logreg .fit(X_train, y_train)\n",
    "\n",
    "# Predict\n",
    "y_pred = logreg.predict(X_test)\n",
    "\n",
    "# Accuracy\n",
    "accuracy = accuracy_score(y_test,y_pred)\n",
    "\n",
    "# AUC\n",
    "y_pred_proba = logreg.predict_proba(X_test)[:,1]\n",
    "auc = metrics.roc_auc_score(y_test, y_pred_proba)\n",
    "\n",
    "# Printing the results\n",
    "print(\"Accuracy is\",accuracy)\n",
    "print(\"AUC is\", auc)"
   ]
  },
  {
   "cell_type": "markdown",
   "id": "08c84424",
   "metadata": {},
   "source": [
    "# GridSearchCV with Ridge & Lasso"
   ]
  },
  {
   "cell_type": "code",
   "execution_count": 67,
   "id": "d90cd9fa",
   "metadata": {},
   "outputs": [],
   "source": [
    "# scaling to have mean = 0 and std = 1\n",
    "from sklearn import preprocessing\n",
    "scaler = preprocessing.StandardScaler()\n",
    "X_train = scaler.fit_transform(X_train)\n",
    "X_test = scaler.fit_transform(X_test)"
   ]
  },
  {
   "cell_type": "code",
   "execution_count": 68,
   "id": "06c290d6",
   "metadata": {},
   "outputs": [
    {
     "name": "stdout",
     "output_type": "stream",
     "text": [
      "Tuned Hyperparameters : {'C': 0.1}\n",
      "Best Score : 0.7010877084298297\n"
     ]
    }
   ],
   "source": [
    "from sklearn.linear_model import LogisticRegression\n",
    "from sklearn.model_selection import GridSearchCV\n",
    "import warnings\n",
    "warnings.filterwarnings('ignore')\n",
    "\n",
    "scoring = {'Accuracy':'accuracy',\n",
    "           'F1 Score':'f1',\n",
    "           'Precision':'precision',\n",
    "           'Recall':'recall',\n",
    "           'AUC':'roc_auc'}\n",
    "\n",
    "# l1 = lasso l2 = ridge\n",
    "parameters = [{'penalty':['l1','l2']},  \n",
    "              {'C':[0.001, 0.01, 0.1, 1, 10, 100]}]\n",
    "\n",
    "\n",
    "logreg = LogisticRegression()\n",
    "clf = GridSearchCV(logreg,                   \n",
    "                   param_grid = parameters,  \n",
    "                   scoring= scoring,  \n",
    "                   refit = \"AUC\",\n",
    "                   cv=5)                    \n",
    "\n",
    "\n",
    "# Training\n",
    "fit = clf.fit(X_train,y_train)\n",
    "\n",
    "print(\"Tuned Hyperparameters :\", clf.best_params_) # why is there no best param for penalty? \n",
    "print(\"Best Score :\", clf.best_score_)"
   ]
  },
  {
   "cell_type": "code",
   "execution_count": 69,
   "id": "abb8094c",
   "metadata": {},
   "outputs": [
    {
     "name": "stdout",
     "output_type": "stream",
     "text": [
      "Best model AUC: 0.7010179931719092\n",
      "Best model accuracy: 0.7162703165098374\n",
      "Best model F1 score: 0.48292833410845165\n",
      "Best model precision: 0.6372527282144532\n",
      "Best model recall: 0.38889500745321814\n"
     ]
    }
   ],
   "source": [
    "# All CV metrics for best model\n",
    "\n",
    "best_params_index = fit.cv_results_['rank_test_AUC'][0] - 1\n",
    "print(\"Best model AUC:\", fit.cv_results_['mean_test_AUC'][best_params_index])\n",
    "print(\"Best model accuracy:\", fit.cv_results_['mean_test_Accuracy'][best_params_index])\n",
    "print(\"Best model F1 score:\", fit.cv_results_['mean_test_F1 Score'][best_params_index])\n",
    "print(\"Best model precision:\", fit.cv_results_['mean_test_Precision'][best_params_index])\n",
    "print(\"Best model recall:\", fit.cv_results_['mean_test_Recall'][best_params_index])"
   ]
  },
  {
   "cell_type": "code",
   "execution_count": 70,
   "id": "340ffa88",
   "metadata": {},
   "outputs": [
    {
     "name": "stdout",
     "output_type": "stream",
     "text": [
      "Out of sample AUC is: 0.6344172883648022\n",
      "Out of sample accuracy is: 0.7175118045575857\n",
      "Out of sample F1 score is: 0.476009139375476\n",
      "Out of sample precision is: 0.6253126563281641\n",
      "Out of sample recall is: 0.38426068244697204\n"
     ]
    }
   ],
   "source": [
    "# test set\n",
    "from sklearn import metrics\n",
    "\n",
    "y_hat_test = fit.predict(X_test) \n",
    "auc = metrics.roc_auc_score(y_test, y_hat_test)\n",
    "acc = metrics.accuracy_score(y_test, y_hat_test)\n",
    "f1 = metrics.f1_score(y_test, y_hat_test)\n",
    "prec = metrics.precision_score(y_test, y_hat_test)\n",
    "rec = metrics.recall_score(y_test, y_hat_test)\n",
    "\n",
    "print(\"Out of sample AUC is:\", auc)\n",
    "print(\"Out of sample accuracy is:\", acc)\n",
    "print(\"Out of sample F1 score is:\", f1)\n",
    "print(\"Out of sample precision is:\", prec)\n",
    "print(\"Out of sample recall is:\", rec)"
   ]
  },
  {
   "cell_type": "code",
   "execution_count": 74,
   "id": "e97c0217",
   "metadata": {},
   "outputs": [
    {
     "name": "stdout",
     "output_type": "stream",
     "text": [
      "Accuracy: 0.7175118045575857\n"
     ]
    }
   ],
   "source": [
    "logreg = LogisticRegression(C = 0.1)\n",
    "logreg.fit(X_train,y_train)\n",
    "y_pred = logreg.predict(X_test)\n",
    "print(\"Accuracy:\",logreg.score(X_test, y_test))"
   ]
  },
  {
   "cell_type": "markdown",
   "id": "d4995073",
   "metadata": {},
   "source": [
    "# Tuning History"
   ]
  },
  {
   "cell_type": "code",
   "execution_count": null,
   "id": "4ba0c8ac",
   "metadata": {},
   "outputs": [],
   "source": [
    "# Without scaling, same parameters\n",
    "\n",
    "# Out of sample AUC is: 0.5\n",
    "# Out of sample accuracy is: 0.6660849928146171\n",
    "# Out of sample F1 score is: 0.0\n",
    "# Out of sample precision is: 0.0\n",
    "# Out of sample recall is: 0.0"
   ]
  }
 ],
 "metadata": {
  "kernelspec": {
   "display_name": "Python 3 (ipykernel)",
   "language": "python",
   "name": "python3"
  },
  "language_info": {
   "codemirror_mode": {
    "name": "ipython",
    "version": 3
   },
   "file_extension": ".py",
   "mimetype": "text/x-python",
   "name": "python",
   "nbconvert_exporter": "python",
   "pygments_lexer": "ipython3",
   "version": "3.9.13"
  }
 },
 "nbformat": 4,
 "nbformat_minor": 5
}
