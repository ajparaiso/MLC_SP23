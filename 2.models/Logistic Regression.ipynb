{
 "cells": [
  {
   "cell_type": "code",
   "execution_count": 1,
   "id": "fb53b8ea",
   "metadata": {},
   "outputs": [
    {
     "data": {
      "text/html": [
       "<div>\n",
       "<style scoped>\n",
       "    .dataframe tbody tr th:only-of-type {\n",
       "        vertical-align: middle;\n",
       "    }\n",
       "\n",
       "    .dataframe tbody tr th {\n",
       "        vertical-align: top;\n",
       "    }\n",
       "\n",
       "    .dataframe thead th {\n",
       "        text-align: right;\n",
       "    }\n",
       "</style>\n",
       "<table border=\"1\" class=\"dataframe\">\n",
       "  <thead>\n",
       "    <tr style=\"text-align: right;\">\n",
       "      <th></th>\n",
       "      <th>bbl</th>\n",
       "      <th>total_units_19</th>\n",
       "      <th>year_built</th>\n",
       "      <th>ejectment_count</th>\n",
       "      <th>possession_count</th>\n",
       "      <th>eviction_count</th>\n",
       "      <th>aleration_count</th>\n",
       "      <th>altered_lessthan5yrs</th>\n",
       "      <th>altered_morethan5yrs</th>\n",
       "      <th>classanet_avg</th>\n",
       "      <th>...</th>\n",
       "      <th>boro_3</th>\n",
       "      <th>boro_4</th>\n",
       "      <th>boro_5</th>\n",
       "      <th>rs_share_diff_new</th>\n",
       "      <th>hpd_call_2017_19</th>\n",
       "      <th>hh_inc_avg_19_log1</th>\n",
       "      <th>pop_race_asian_pct_19_log1</th>\n",
       "      <th>pop_race_black_pct_19_log1</th>\n",
       "      <th>pop16_unemp_pct_19_log1</th>\n",
       "      <th>pop_mobile1_diff_state_pct_19_log1</th>\n",
       "    </tr>\n",
       "  </thead>\n",
       "  <tbody>\n",
       "    <tr>\n",
       "      <th>0</th>\n",
       "      <td>1000780047</td>\n",
       "      <td>483</td>\n",
       "      <td>2016</td>\n",
       "      <td>0.0</td>\n",
       "      <td>0.0</td>\n",
       "      <td>0.0</td>\n",
       "      <td>0.0</td>\n",
       "      <td>0.0</td>\n",
       "      <td>0.0</td>\n",
       "      <td>0.0</td>\n",
       "      <td>...</td>\n",
       "      <td>0</td>\n",
       "      <td>0</td>\n",
       "      <td>0</td>\n",
       "      <td>0.0</td>\n",
       "      <td>4.0</td>\n",
       "      <td>12.276639</td>\n",
       "      <td>0.150551</td>\n",
       "      <td>0.018246</td>\n",
       "      <td>0.035008</td>\n",
       "      <td>0.074674</td>\n",
       "    </tr>\n",
       "    <tr>\n",
       "      <th>1</th>\n",
       "      <td>1001350019</td>\n",
       "      <td>4</td>\n",
       "      <td>1915</td>\n",
       "      <td>0.0</td>\n",
       "      <td>0.0</td>\n",
       "      <td>0.0</td>\n",
       "      <td>0.0</td>\n",
       "      <td>0.0</td>\n",
       "      <td>0.0</td>\n",
       "      <td>0.0</td>\n",
       "      <td>...</td>\n",
       "      <td>0</td>\n",
       "      <td>0</td>\n",
       "      <td>0</td>\n",
       "      <td>0.0</td>\n",
       "      <td>0.0</td>\n",
       "      <td>12.897523</td>\n",
       "      <td>0.096864</td>\n",
       "      <td>0.055298</td>\n",
       "      <td>0.002253</td>\n",
       "      <td>0.014341</td>\n",
       "    </tr>\n",
       "    <tr>\n",
       "      <th>2</th>\n",
       "      <td>1001620013</td>\n",
       "      <td>20</td>\n",
       "      <td>1915</td>\n",
       "      <td>0.0</td>\n",
       "      <td>0.0</td>\n",
       "      <td>0.0</td>\n",
       "      <td>0.0</td>\n",
       "      <td>0.0</td>\n",
       "      <td>0.0</td>\n",
       "      <td>0.0</td>\n",
       "      <td>...</td>\n",
       "      <td>0</td>\n",
       "      <td>0</td>\n",
       "      <td>0</td>\n",
       "      <td>1.0</td>\n",
       "      <td>2.0</td>\n",
       "      <td>10.973689</td>\n",
       "      <td>0.461379</td>\n",
       "      <td>0.096629</td>\n",
       "      <td>0.037102</td>\n",
       "      <td>0.008935</td>\n",
       "    </tr>\n",
       "    <tr>\n",
       "      <th>3</th>\n",
       "      <td>1001630024</td>\n",
       "      <td>16</td>\n",
       "      <td>1915</td>\n",
       "      <td>0.0</td>\n",
       "      <td>0.0</td>\n",
       "      <td>0.0</td>\n",
       "      <td>0.0</td>\n",
       "      <td>0.0</td>\n",
       "      <td>0.0</td>\n",
       "      <td>0.0</td>\n",
       "      <td>...</td>\n",
       "      <td>0</td>\n",
       "      <td>0</td>\n",
       "      <td>0</td>\n",
       "      <td>0.0</td>\n",
       "      <td>1.0</td>\n",
       "      <td>10.973689</td>\n",
       "      <td>0.461379</td>\n",
       "      <td>0.096629</td>\n",
       "      <td>0.037102</td>\n",
       "      <td>0.008935</td>\n",
       "    </tr>\n",
       "    <tr>\n",
       "      <th>4</th>\n",
       "      <td>1001630033</td>\n",
       "      <td>11</td>\n",
       "      <td>1915</td>\n",
       "      <td>0.0</td>\n",
       "      <td>0.0</td>\n",
       "      <td>0.0</td>\n",
       "      <td>1.0</td>\n",
       "      <td>0.0</td>\n",
       "      <td>1.0</td>\n",
       "      <td>0.0</td>\n",
       "      <td>...</td>\n",
       "      <td>0</td>\n",
       "      <td>0</td>\n",
       "      <td>0</td>\n",
       "      <td>0.0</td>\n",
       "      <td>0.0</td>\n",
       "      <td>10.973689</td>\n",
       "      <td>0.461379</td>\n",
       "      <td>0.096629</td>\n",
       "      <td>0.037102</td>\n",
       "      <td>0.008935</td>\n",
       "    </tr>\n",
       "  </tbody>\n",
       "</table>\n",
       "<p>5 rows × 75 columns</p>\n",
       "</div>"
      ],
      "text/plain": [
       "          bbl  total_units_19  year_built  ejectment_count  possession_count  \\\n",
       "0  1000780047             483        2016              0.0               0.0   \n",
       "1  1001350019               4        1915              0.0               0.0   \n",
       "2  1001620013              20        1915              0.0               0.0   \n",
       "3  1001630024              16        1915              0.0               0.0   \n",
       "4  1001630033              11        1915              0.0               0.0   \n",
       "\n",
       "   eviction_count  aleration_count  altered_lessthan5yrs  \\\n",
       "0             0.0              0.0                   0.0   \n",
       "1             0.0              0.0                   0.0   \n",
       "2             0.0              0.0                   0.0   \n",
       "3             0.0              0.0                   0.0   \n",
       "4             0.0              1.0                   0.0   \n",
       "\n",
       "   altered_morethan5yrs  classanet_avg  ...  boro_3  boro_4  boro_5  \\\n",
       "0                   0.0            0.0  ...       0       0       0   \n",
       "1                   0.0            0.0  ...       0       0       0   \n",
       "2                   0.0            0.0  ...       0       0       0   \n",
       "3                   0.0            0.0  ...       0       0       0   \n",
       "4                   1.0            0.0  ...       0       0       0   \n",
       "\n",
       "   rs_share_diff_new  hpd_call_2017_19  hh_inc_avg_19_log1  \\\n",
       "0                0.0               4.0           12.276639   \n",
       "1                0.0               0.0           12.897523   \n",
       "2                1.0               2.0           10.973689   \n",
       "3                0.0               1.0           10.973689   \n",
       "4                0.0               0.0           10.973689   \n",
       "\n",
       "   pop_race_asian_pct_19_log1  pop_race_black_pct_19_log1  \\\n",
       "0                    0.150551                    0.018246   \n",
       "1                    0.096864                    0.055298   \n",
       "2                    0.461379                    0.096629   \n",
       "3                    0.461379                    0.096629   \n",
       "4                    0.461379                    0.096629   \n",
       "\n",
       "   pop16_unemp_pct_19_log1  pop_mobile1_diff_state_pct_19_log1  \n",
       "0                 0.035008                            0.074674  \n",
       "1                 0.002253                            0.014341  \n",
       "2                 0.037102                            0.008935  \n",
       "3                 0.037102                            0.008935  \n",
       "4                 0.037102                            0.008935  \n",
       "\n",
       "[5 rows x 75 columns]"
      ]
     },
     "execution_count": 1,
     "metadata": {},
     "output_type": "execute_result"
    }
   ],
   "source": [
    "import pandas as pd\n",
    "import numpy as np\n",
    "df = pd.read_csv(\"/Users/cpreeldumas/Documents/GitHub/MLC_SP23/clean_data/merged_data_v3.csv\", low_memory=False, index_col=[0])\n",
    "df.head()\n"
   ]
  },
  {
   "cell_type": "code",
   "execution_count": 124,
   "id": "74435759",
   "metadata": {},
   "outputs": [
    {
     "data": {
      "text/plain": [
       "count    1353.000000\n",
       "mean     1938.560237\n",
       "std        88.946710\n",
       "min         0.000000\n",
       "25%      1910.000000\n",
       "50%      1930.000000\n",
       "75%      2003.000000\n",
       "max      2020.000000\n",
       "Name: year_built, dtype: float64"
      ]
     },
     "execution_count": 124,
     "metadata": {},
     "output_type": "execute_result"
    }
   ],
   "source": [
    "df.query(\"`total_units_19` < 6\").loc[:,'year_built'].describe()"
   ]
  },
  {
   "cell_type": "code",
   "execution_count": 2,
   "id": "90529053",
   "metadata": {},
   "outputs": [
    {
     "data": {
      "text/plain": [
       "count    12.0\n",
       "mean      0.0\n",
       "std       0.0\n",
       "min       0.0\n",
       "25%       0.0\n",
       "50%       0.0\n",
       "75%       0.0\n",
       "max       0.0\n",
       "Name: year_built, dtype: float64"
      ]
     },
     "execution_count": 2,
     "metadata": {},
     "output_type": "execute_result"
    }
   ],
   "source": [
    "df.query(\"`year_built` == 0\").loc[:,'year_built'].describe()"
   ]
  },
  {
   "cell_type": "code",
   "execution_count": 146,
   "id": "d5856577",
   "metadata": {},
   "outputs": [
    {
     "data": {
      "text/plain": [
       "<AxesSubplot:>"
      ]
     },
     "execution_count": 146,
     "metadata": {},
     "output_type": "execute_result"
    },
    {
     "data": {
      "image/png": "[encoded data removed]",
      "text/plain": [
       "<Figure size 640x480 with 1 Axes>"
      ]
     },
     "metadata": {},
     "output_type": "display_data"
    }
   ],
   "source": [
    "df.query(\"`total_units_19` < 6 and `year_built` > 0 and rs_share_diff_new == 1\").loc[:,'year_built'].hist()"
   ]
  },
  {
   "cell_type": "code",
   "execution_count": 147,
   "id": "196c0ce5",
   "metadata": {},
   "outputs": [
    {
     "data": {
      "text/plain": [
       "<AxesSubplot:>"
      ]
     },
     "execution_count": 147,
     "metadata": {},
     "output_type": "execute_result"
    },
    {
     "data": {
      "image/png": "[encoded data removed]",
      "text/plain": [
       "<Figure size 640x480 with 1 Axes>"
      ]
     },
     "metadata": {},
     "output_type": "display_data"
    }
   ],
   "source": [
    "df.query(\"`total_units_19` > 6 and `year_built` > 0 and rs_share_diff_new == 1\").loc[:,'year_built'].hist()"
   ]
  },
  {
   "cell_type": "markdown",
   "id": "e9254501",
   "metadata": {},
   "source": [
    "# Plain Logistic Regression, statsmodel"
   ]
  },
  {
   "cell_type": "markdown",
   "id": "aa149c16",
   "metadata": {},
   "source": [
    "### Feature-importance variables"
   ]
  },
  {
   "cell_type": "code",
   "execution_count": 112,
   "id": "652afd96",
   "metadata": {},
   "outputs": [
    {
     "name": "stdout",
     "output_type": "stream",
     "text": [
      "Optimization terminated successfully.\n",
      "         Current function value: 0.603490\n",
      "         Iterations 6\n",
      "                           Logit Regression Results                           \n",
      "==============================================================================\n",
      "Dep. Variable:      rs_share_diff_new   No. Observations:                38967\n",
      "Model:                          Logit   Df Residuals:                    38952\n",
      "Method:                           MLE   Df Model:                           14\n",
      "Date:                Thu, 27 Apr 2023   Pseudo R-squ.:                 0.05765\n",
      "Time:                        17:21:44   Log-Likelihood:                -23516.\n",
      "converged:                       True   LL-Null:                       -24955.\n",
      "Covariance Type:            nonrobust   LLR p-value:                     0.000\n",
      "==================================================================================================\n",
      "                                     coef    std err          z      P>|z|      [0.025      0.975]\n",
      "--------------------------------------------------------------------------------------------------\n",
      "total_units_19                    -0.0029      0.000     -9.287      0.000      -0.003      -0.002\n",
      "year_built                        -0.0001      0.000     -0.706      0.480      -0.001       0.000\n",
      "hpd_call_2017_19                  -0.0019      0.000     -7.739      0.000      -0.002      -0.001\n",
      "pop_race_black_pct_19_log1        -0.3519      0.093     -3.783      0.000      -0.534      -0.170\n",
      "hh_alone_pct_19                   -2.0063      0.133    -15.068      0.000      -2.267      -1.745\n",
      "rent_contract_med_19           -7.552e-05   4.64e-05     -1.627      0.104      -0.000    1.54e-05\n",
      "pop_edu_hs_pct_19                  1.5217      0.249      6.121      0.000       1.034       2.009\n",
      "hh_inc_avg_19_log1                 0.0552      0.036      1.530      0.126      -0.016       0.126\n",
      "unit_rent_cash_mod_high_pct_19     1.0898      0.119      9.145      0.000       0.856       1.323\n",
      "hh_inc_pubasst_snap_pct_19        -3.1676      0.151    -21.016      0.000      -3.463      -2.872\n",
      "pop_edu_collp_pct_19              -1.3311      0.206     -6.468      0.000      -1.734      -0.928\n",
      "pop_rent_pct_19                    0.4775      0.081      5.920      0.000       0.319       0.636\n",
      "dob_calls_2018                     0.0100      0.006      1.715      0.086      -0.001       0.022\n",
      "dob_calls_2019                    -0.0021      0.006     -0.370      0.711      -0.013       0.009\n",
      "pop_race_white_pct_19              0.7045      0.090      7.871      0.000       0.529       0.880\n",
      "==================================================================================================\n"
     ]
    }
   ],
   "source": [
    "import statsmodels.api as sm\n",
    "import pandas as pd\n",
    "from sklearn.model_selection import train_test_split\n",
    "\n",
    "X = df[[\"total_units_19\",\"year_built\",\"hpd_call_2017_19\", \"pop_race_black_pct_19_log1\", \"hh_alone_pct_19\", \"rent_contract_med_19\", \"pop_edu_hs_pct_19\", \"hh_inc_avg_19_log1\", \"unit_rent_cash_mod_high_pct_19\", \"hh_inc_pubasst_snap_pct_19\", \"pop_edu_collp_pct_19\", \"pop_rent_pct_19\", \"dob_calls_2018\", \"dob_calls_2019\", \"pop_race_white_pct_19\"]]\n",
    "y = df['rs_share_diff_new']\n",
    "\n",
    "\n",
    "logreg = sm.Logit(y, X).fit()\n",
    "print(logreg.summary())"
   ]
  },
  {
   "cell_type": "markdown",
   "id": "b8ccd39d",
   "metadata": {},
   "source": [
    "### All Variables"
   ]
  },
  {
   "cell_type": "code",
   "execution_count": 113,
   "id": "b4162de5",
   "metadata": {},
   "outputs": [
    {
     "name": "stdout",
     "output_type": "stream",
     "text": [
      "Warning: Maximum number of iterations has been exceeded.\n",
      "         Current function value: 0.580162\n",
      "         Iterations: 35\n",
      "                           Logit Regression Results                           \n",
      "==============================================================================\n",
      "Dep. Variable:      rs_share_diff_new   No. Observations:                38967\n",
      "Model:                          Logit   Df Residuals:                    38894\n",
      "Method:                           MLE   Df Model:                           72\n",
      "Date:                Thu, 27 Apr 2023   Pseudo R-squ.:                 0.09407\n",
      "Time:                        17:21:50   Log-Likelihood:                -22607.\n",
      "converged:                      False   LL-Null:                       -24955.\n",
      "Covariance Type:            nonrobust   LLR p-value:                     0.000\n",
      "======================================================================================================\n",
      "                                         coef    std err          z      P>|z|      [0.025      0.975]\n",
      "------------------------------------------------------------------------------------------------------\n",
      "total_units_19                     -5.321e-05      0.000     -0.219      0.827      -0.001       0.000\n",
      "year_built                            -0.0010      0.000     -3.639      0.000      -0.001      -0.000\n",
      "ejectment_count                       17.4086   2419.775      0.007      0.994   -4725.264    4760.081\n",
      "possession_count                      -0.1107      0.023     -4.719      0.000      -0.157      -0.065\n",
      "eviction_count                       -15.3778   4813.836     -0.003      0.997   -9450.322    9419.566\n",
      "aleration_count                        0.0671      0.207      0.324      0.746      -0.338       0.473\n",
      "altered_lessthan5yrs                  -0.0572      0.247     -0.231      0.817      -0.542       0.428\n",
      "altered_morethan5yrs                  -0.0112      0.227     -0.049      0.961      -0.456       0.434\n",
      "classanet_avg                         -0.0054      0.005     -1.020      0.308      -0.016       0.005\n",
      "enlargement_count                     -0.5997      0.329     -1.821      0.069      -1.245       0.046\n",
      "dob_calls_2017                         0.0057      0.005      1.095      0.273      -0.005       0.016\n",
      "dob_calls_2018                         0.0054      0.006      0.917      0.359      -0.006       0.017\n",
      "dob_calls_2019                         0.0015      0.005      0.287      0.774      -0.009       0.012\n",
      "b_violations_2017                     -0.1966      0.036     -5.481      0.000      -0.267      -0.126\n",
      "b_violations_2018                     -0.2049      0.036     -5.645      0.000      -0.276      -0.134\n",
      "b_violations_2019                     -0.1394      0.039     -3.561      0.000      -0.216      -0.063\n",
      "c_violations_2017                     -0.0518      0.038     -1.350      0.177      -0.127       0.023\n",
      "c_violations_2018                     -0.0022      0.038     -0.057      0.954      -0.077       0.072\n",
      "c_violations_2019                     -0.0850      0.040     -2.133      0.033      -0.163      -0.007\n",
      "cases_2017                             0.1115      0.048      2.312      0.021       0.017       0.206\n",
      "cases_2018                             0.0731      0.055      1.323      0.186      -0.035       0.181\n",
      "cases_2019                             0.1424      0.055      2.612      0.009       0.036       0.249\n",
      "Heat and Hot Water_2017               -0.0180      0.077     -0.235      0.815      -0.168       0.132\n",
      "Heat and Hot Water_2018               -0.0707      0.080     -0.889      0.374      -0.227       0.085\n",
      "Heat and Hot Water_2019               -0.0798      0.090     -0.888      0.374      -0.256       0.096\n",
      "Tenant Action_2017                    -0.0866      0.067     -1.296      0.195      -0.217       0.044\n",
      "Tenant Action_2018                     0.0150      0.071      0.210      0.833      -0.125       0.155\n",
      "Tenant Action_2019                    -0.1377      0.072     -1.917      0.055      -0.279       0.003\n",
      "CONH_2017                              0.5494      0.560      0.982      0.326      -0.547       1.646\n",
      "CONH_2018                             -0.1603      0.423     -0.379      0.705      -0.990       0.669\n",
      "CONH_2019                              0.7124      0.353      2.017      0.044       0.020       1.405\n",
      "Tenant Action/Harrassment_2017        -0.1952      0.122     -1.602      0.109      -0.434       0.044\n",
      "Tenant Action/Harrassment_2018        -0.1522      0.115     -1.328      0.184      -0.377       0.072\n",
      "Tenant Action/Harrassment_2019        -0.1432      0.104     -1.382      0.167      -0.346       0.060\n",
      "hh_inc_own_med_19                  -1.852e-07   3.98e-07     -0.466      0.641   -9.64e-07    5.94e-07\n",
      "own_cost_mort_med_19                 7.66e-05   2.16e-05      3.542      0.000    3.42e-05       0.000\n",
      "own_burden_mort_med_19                 0.0089      0.001      5.946      0.000       0.006       0.012\n",
      "rent_contract_med_19                  -0.0002   5.93e-05     -3.752      0.000      -0.000      -0.000\n",
      "rent_burden_med_19                     0.2713      0.487      0.557      0.577      -0.683       1.226\n",
      "pop_65p_pct_19                        -1.8604      0.385     -4.833      0.000      -2.615      -1.106\n",
      "pop_rent_pct_19                       -0.2694      0.116     -2.316      0.021      -0.497      -0.041\n",
      "pop_race_white_pct_19                 -0.4587      0.121     -3.778      0.000      -0.697      -0.221\n",
      "pop_lim_eng_pct_19                    -1.0765      0.208     -5.185      0.000      -1.483      -0.670\n",
      "pop_pov_pct_19                         0.2916      0.241      1.211      0.226      -0.180       0.764\n",
      "pop_edu_hs_pct_19                      0.3597      0.274      1.315      0.189      -0.177       0.896\n",
      "pop_edu_collp_pct_19                  -2.5107      0.240    -10.473      0.000      -2.981      -2.041\n",
      "pop_mobile1_same_home_pct_19           2.9820      0.601      4.961      0.000       1.804       4.160\n",
      "pop_mobile1_same_county_pct_19         2.2548      0.733      3.076      0.002       0.818       3.692\n",
      "pop_mobile1_abroad_pct_19              5.2173      1.159      4.502      0.000       2.946       7.489\n",
      "hh_family_pct_19                      -2.9353      0.310     -9.462      0.000      -3.543      -2.327\n",
      "hh_alone_pct_19                       -2.7029      0.282     -9.574      0.000      -3.256      -2.150\n",
      "hh_inc_wage_pct_19                    -1.0402      0.291     -3.572      0.000      -1.611      -0.469\n",
      "hh_inc_ssi_pct_19                     -1.2170      0.420     -2.900      0.004      -2.040      -0.394\n",
      "hh_inc_pubasst_snap_pct_19            -1.3415      0.240     -5.586      0.000      -1.812      -0.871\n",
      "hh_inc_retirement_pct_19               0.7282      0.363      2.006      0.045       0.017       1.440\n",
      "unit_vac_pct_19                        0.8975      0.266      3.373      0.001       0.376       1.419\n",
      "unit_vac_rent_pct_19                   0.1503      0.398      0.378      0.705      -0.629       0.930\n",
      "unit_occ_rent_crowd_pct_19            -1.6051      0.234     -6.850      0.000      -2.064      -1.146\n",
      "unit_occ_rent_child_pct_19             0.6853      0.234      2.928      0.003       0.227       1.144\n",
      "unit_rent_cash_mod_high_pct_19         0.9699      0.143      6.770      0.000       0.689       1.251\n",
      "unit_rent_cash_high_pct_19            -0.1146      0.194     -0.591      0.554      -0.495       0.265\n",
      "rent_burden_pct_19                    -0.0387      0.290     -0.133      0.894      -0.608       0.530\n",
      "pop_race_div_idx_19                    0.1024      0.113      0.907      0.364      -0.119       0.324\n",
      "boro_2                                -0.4426      0.058     -7.683      0.000      -0.556      -0.330\n",
      "boro_3                                 0.5936      0.045     13.094      0.000       0.505       0.683\n",
      "boro_4                                 0.4908      0.058      8.489      0.000       0.378       0.604\n",
      "boro_5                                -0.7253      0.178     -4.068      0.000      -1.075      -0.376\n",
      "hpd_call_2017_19                   -9.411e-05      0.000     -0.532      0.595      -0.000       0.000\n",
      "hh_inc_avg_19_log1                     0.3210      0.059      5.409      0.000       0.205       0.437\n",
      "pop_race_asian_pct_19_log1            -0.5151      0.174     -2.964      0.003      -0.856      -0.174\n",
      "pop_race_black_pct_19_log1            -2.2881      0.165    -13.856      0.000      -2.612      -1.964\n",
      "pop16_unemp_pct_19_log1               -1.5287      0.476     -3.210      0.001      -2.462      -0.595\n",
      "pop_mobile1_diff_state_pct_19_log1     0.9913      0.956      1.037      0.300      -0.883       2.865\n",
      "======================================================================================================\n"
     ]
    },
    {
     "name": "stderr",
     "output_type": "stream",
     "text": [
      "/Users/cpreeldumas/opt/anaconda3/lib/python3.9/site-packages/statsmodels/base/model.py:604: ConvergenceWarning: Maximum Likelihood optimization failed to converge. Check mle_retvals\n",
      "  warnings.warn(\"Maximum Likelihood optimization failed to \"\n"
     ]
    }
   ],
   "source": [
    "import statsmodels.api as sm\n",
    "import pandas as pd\n",
    "from sklearn.model_selection import train_test_split\n",
    "\n",
    "X = df.drop(['rs_share_diff_new', 'bbl'], axis = 1)\n",
    "y = df['rs_share_diff_new']\n",
    "\n",
    "logreg = sm.Logit(y, X).fit()\n",
    "print(logreg.summary())"
   ]
  },
  {
   "cell_type": "markdown",
   "id": "8ab1191e",
   "metadata": {},
   "source": [
    "# Train-test split"
   ]
  },
  {
   "cell_type": "code",
   "execution_count": 156,
   "id": "a84ba8d7",
   "metadata": {},
   "outputs": [],
   "source": [
    "from sklearn.model_selection import train_test_split\n",
    "\n",
    "X = df.drop(['rs_share_diff_new', 'bbl'], axis = 1)\n",
    "y = df['rs_share_diff_new']\n",
    "\n",
    "X_train, X_test, y_train, y_test = train_test_split(X, y, test_size=0.25, random_state=1)"
   ]
  },
  {
   "cell_type": "markdown",
   "id": "511ce052",
   "metadata": {},
   "source": [
    "# Plain Logistic Regression, sklearn"
   ]
  },
  {
   "cell_type": "code",
   "execution_count": 149,
   "id": "a9d1b2bd",
   "metadata": {},
   "outputs": [
    {
     "name": "stdout",
     "output_type": "stream",
     "text": [
      "Accuracy is 0.6707041675220694\n",
      "AUC is 0.6262983202626669\n"
     ]
    }
   ],
   "source": [
    "from sklearn.linear_model import LogisticRegression \n",
    "from sklearn.metrics import confusion_matrix, accuracy_score \n",
    "\n",
    "logreg = LogisticRegression()\n",
    "\n",
    "# Training\n",
    "logreg.fit(X_train, y_train)\n",
    "\n",
    "# Predict\n",
    "y_pred = logreg.predict(X_test)\n",
    "\n",
    "# Accuracy\n",
    "accuracy = accuracy_score(y_test,y_pred)\n",
    "\n",
    "# AUC\n",
    "y_pred_proba = logreg.predict_proba(X_test)[:,1]\n",
    "auc = metrics.roc_auc_score(y_test, y_pred_proba)\n",
    "\n",
    "# Printing the results\n",
    "print(\"Accuracy is\",accuracy)\n",
    "print(\"AUC is\", auc)"
   ]
  },
  {
   "cell_type": "markdown",
   "id": "1cfaa0f5",
   "metadata": {},
   "source": [
    "# Scaling"
   ]
  },
  {
   "cell_type": "code",
   "execution_count": 161,
   "id": "d90cd9fa",
   "metadata": {},
   "outputs": [],
   "source": [
    "# scaling to have mean = 0 and std = 1\n",
    "from sklearn import preprocessing\n",
    "scaler = preprocessing.StandardScaler()\n",
    "X_train = scaler.fit_transform(X_train)\n",
    "X_test = scaler.fit_transform(X_test)"
   ]
  },
  {
   "cell_type": "markdown",
   "id": "08c84424",
   "metadata": {},
   "source": [
    "# GridSearchCV with Ridge & Lasso"
   ]
  },
  {
   "cell_type": "code",
   "execution_count": 172,
   "id": "06c290d6",
   "metadata": {},
   "outputs": [
    {
     "name": "stdout",
     "output_type": "stream",
     "text": [
      "Tuned Hyperparameters : {'C': 0.1, 'penalty': 'l2'}\n",
      "Best Score : 0.7011034075577105\n"
     ]
    }
   ],
   "source": [
    "from sklearn.linear_model import LogisticRegression\n",
    "from sklearn.model_selection import GridSearchCV\n",
    "import warnings\n",
    "warnings.filterwarnings('ignore')\n",
    "\n",
    "scoring = {'Accuracy':'accuracy',\n",
    "           'F1 Score':'f1',\n",
    "           'Precision':'precision',\n",
    "           'Recall':'recall',\n",
    "           'AUC':'roc_auc'}\n",
    "\n",
    "# l1 = lasso l2 = ridge\n",
    "parameters = {'penalty':['l1','l2'],\n",
    "              'C':[0.001, 0.01, 0.1, 1, 10, 100]}\n",
    "\n",
    "logreg = LogisticRegression()\n",
    "clf = GridSearchCV(logreg,                   \n",
    "                   param_grid = parameters,  \n",
    "                   scoring= scoring,  \n",
    "                   refit = \"AUC\",\n",
    "                   cv=5)                    \n",
    "\n",
    "\n",
    "# Training\n",
    "fit = clf.fit(X_train,y_train)\n",
    "\n",
    "print(\"Tuned Hyperparameters :\", clf.best_params_) # why is there no best param for penalty? \n",
    "print(\"Best Score :\", clf.best_score_)"
   ]
  },
  {
   "cell_type": "code",
   "execution_count": 179,
   "id": "abb8094c",
   "metadata": {},
   "outputs": [
    {
     "name": "stdout",
     "output_type": "stream",
     "text": [
      "Best model AUC: nan\n",
      "Best model accuracy: nan\n",
      "Best model F1 score: nan\n",
      "Best model precision: nan\n",
      "Best model recall: nan\n"
     ]
    }
   ],
   "source": [
    "# All CV metrics for best model\n",
    "\n",
    "best_params_index = fit.cv_results_['rank_test_AUC'][0] - 1\n",
    "print(\"Best model AUC:\", fit.cv_results_['mean_test_AUC'][best_params_index])\n",
    "print(\"Best model accuracy:\", fit.cv_results_['mean_test_Accuracy'][best_params_index])\n",
    "print(\"Best model F1 score:\", fit.cv_results_['mean_test_F1 Score'][best_params_index])\n",
    "print(\"Best model precision:\", fit.cv_results_['mean_test_Precision'][best_params_index])\n",
    "print(\"Best model recall:\", fit.cv_results_['mean_test_Recall'][best_params_index])"
   ]
  },
  {
   "cell_type": "code",
   "execution_count": 180,
   "id": "340ffa88",
   "metadata": {},
   "outputs": [
    {
     "name": "stdout",
     "output_type": "stream",
     "text": [
      "Out of sample AUC is: 0.6334942573724401\n",
      "Out of sample accuracy is: 0.7166906179429275\n",
      "Out of sample F1 score is: 0.47448591012947444\n",
      "Out of sample precision is: 0.6233116558279139\n",
      "Out of sample recall is: 0.3830310482631417\n"
     ]
    }
   ],
   "source": [
    "# test set\n",
    "from sklearn import metrics\n",
    "\n",
    "y_hat_test = fit.predict(X_test) \n",
    "auc = metrics.roc_auc_score(y_test, y_hat_test)\n",
    "acc = metrics.accuracy_score(y_test, y_hat_test)\n",
    "f1 = metrics.f1_score(y_test, y_hat_test)\n",
    "prec = metrics.precision_score(y_test, y_hat_test)\n",
    "rec = metrics.recall_score(y_test, y_hat_test)\n",
    "\n",
    "print(\"Out of sample AUC is:\", auc)\n",
    "print(\"Out of sample accuracy is:\", acc)\n",
    "print(\"Out of sample F1 score is:\", f1)\n",
    "print(\"Out of sample precision is:\", prec)\n",
    "print(\"Out of sample recall is:\", rec)"
   ]
  },
  {
   "cell_type": "code",
   "execution_count": 181,
   "id": "e97c0217",
   "metadata": {},
   "outputs": [
    {
     "name": "stdout",
     "output_type": "stream",
     "text": [
      "Accuracy: 0.7166906179429275\n"
     ]
    }
   ],
   "source": [
    "logreg = LogisticRegression(C = 0.1, penalty = 'l2')\n",
    "logreg.fit(X_train,y_train)\n",
    "y_pred = logreg.predict(X_test)\n",
    "print(\"Accuracy:\",logreg.score(X_test, y_test))"
   ]
  },
  {
   "cell_type": "markdown",
   "id": "d4995073",
   "metadata": {},
   "source": [
    "# Tuning History"
   ]
  },
  {
   "cell_type": "code",
   "execution_count": null,
   "id": "4ba0c8ac",
   "metadata": {},
   "outputs": [],
   "source": [
    "# Without scaling, same parameters\n",
    "\n",
    "# Out of sample AUC is: 0.5\n",
    "# Out of sample accuracy is: 0.6660849928146171\n",
    "# Out of sample F1 score is: 0.0\n",
    "# Out of sample precision is: 0.0\n",
    "# Out of sample recall is: 0.0"
   ]
  }
 ],
 "metadata": {
  "kernelspec": {
   "display_name": "Python 3 (ipykernel)",
   "language": "python",
   "name": "python3"
  },
  "language_info": {
   "codemirror_mode": {
    "name": "ipython",
    "version": 3
   },
   "file_extension": ".py",
   "mimetype": "text/x-python",
   "name": "python",
   "nbconvert_exporter": "python",
   "pygments_lexer": "ipython3",
   "version": "3.7.16"
  }
 },
 "nbformat": 4,
 "nbformat_minor": 5
}
