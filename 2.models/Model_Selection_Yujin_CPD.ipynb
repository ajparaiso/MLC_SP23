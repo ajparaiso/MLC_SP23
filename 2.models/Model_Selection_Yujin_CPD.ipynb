{
 "cells": [
  {
   "cell_type": "code",
   "execution_count": 12,
   "id": "572340ff",
   "metadata": {},
   "outputs": [],
   "source": [
    "import pandas as pd\n",
    "import numpy as np\n",
    "df = pd.read_csv(\"/Users/cpreeldumas/Documents/GitHub/MLC_SP23/clean_data/regression_data.csv\", low_memory=False, index_col=[0])"
   ]
  },
  {
   "cell_type": "code",
   "execution_count": 13,
   "id": "92f0e880",
   "metadata": {},
   "outputs": [
    {
     "data": {
      "text/html": [
       "<div>\n",
       "<style scoped>\n",
       "    .dataframe tbody tr th:only-of-type {\n",
       "        vertical-align: middle;\n",
       "    }\n",
       "\n",
       "    .dataframe tbody tr th {\n",
       "        vertical-align: top;\n",
       "    }\n",
       "\n",
       "    .dataframe thead th {\n",
       "        text-align: right;\n",
       "    }\n",
       "</style>\n",
       "<table border=\"1\" class=\"dataframe\">\n",
       "  <thead>\n",
       "    <tr style=\"text-align: right;\">\n",
       "      <th></th>\n",
       "      <th>bbl</th>\n",
       "      <th>rs_share_diff</th>\n",
       "      <th>total_units_19</th>\n",
       "      <th>year_built</th>\n",
       "      <th>ejectment_count</th>\n",
       "      <th>possession_count</th>\n",
       "      <th>eviction_count</th>\n",
       "      <th>aleration_count</th>\n",
       "      <th>altered_lessthan5yrs</th>\n",
       "      <th>altered_morethan5yrs</th>\n",
       "      <th>...</th>\n",
       "      <th>pop_race_div_idx_19</th>\n",
       "      <th>boro_2</th>\n",
       "      <th>boro_3</th>\n",
       "      <th>boro_4</th>\n",
       "      <th>boro_5</th>\n",
       "      <th>hh_inc_avg_19_log1</th>\n",
       "      <th>pop_race_asian_pct_19_log1</th>\n",
       "      <th>pop_race_black_pct_19_log1</th>\n",
       "      <th>pop16_unemp_pct_19_log1</th>\n",
       "      <th>pop_mobile1_diff_state_pct_19_log1</th>\n",
       "    </tr>\n",
       "  </thead>\n",
       "  <tbody>\n",
       "    <tr>\n",
       "      <th>0</th>\n",
       "      <td>1000780047</td>\n",
       "      <td>0.0000</td>\n",
       "      <td>483</td>\n",
       "      <td>2016</td>\n",
       "      <td>0.0</td>\n",
       "      <td>0.0</td>\n",
       "      <td>0.0</td>\n",
       "      <td>0.0</td>\n",
       "      <td>0.0</td>\n",
       "      <td>0.0</td>\n",
       "      <td>...</td>\n",
       "      <td>0.450691</td>\n",
       "      <td>0</td>\n",
       "      <td>0</td>\n",
       "      <td>0</td>\n",
       "      <td>0</td>\n",
       "      <td>12.276639</td>\n",
       "      <td>0.150551</td>\n",
       "      <td>0.018246</td>\n",
       "      <td>0.035008</td>\n",
       "      <td>0.074674</td>\n",
       "    </tr>\n",
       "    <tr>\n",
       "      <th>1</th>\n",
       "      <td>1001350019</td>\n",
       "      <td>0.0000</td>\n",
       "      <td>4</td>\n",
       "      <td>1915</td>\n",
       "      <td>0.0</td>\n",
       "      <td>0.0</td>\n",
       "      <td>0.0</td>\n",
       "      <td>0.0</td>\n",
       "      <td>0.0</td>\n",
       "      <td>0.0</td>\n",
       "      <td>...</td>\n",
       "      <td>0.457072</td>\n",
       "      <td>0</td>\n",
       "      <td>0</td>\n",
       "      <td>0</td>\n",
       "      <td>0</td>\n",
       "      <td>12.897523</td>\n",
       "      <td>0.096864</td>\n",
       "      <td>0.055298</td>\n",
       "      <td>0.002253</td>\n",
       "      <td>0.014341</td>\n",
       "    </tr>\n",
       "    <tr>\n",
       "      <th>2</th>\n",
       "      <td>1001620013</td>\n",
       "      <td>-0.0500</td>\n",
       "      <td>20</td>\n",
       "      <td>1915</td>\n",
       "      <td>0.0</td>\n",
       "      <td>0.0</td>\n",
       "      <td>0.0</td>\n",
       "      <td>0.0</td>\n",
       "      <td>0.0</td>\n",
       "      <td>0.0</td>\n",
       "      <td>...</td>\n",
       "      <td>0.612518</td>\n",
       "      <td>0</td>\n",
       "      <td>0</td>\n",
       "      <td>0</td>\n",
       "      <td>0</td>\n",
       "      <td>10.973689</td>\n",
       "      <td>0.461379</td>\n",
       "      <td>0.096629</td>\n",
       "      <td>0.037102</td>\n",
       "      <td>0.008935</td>\n",
       "    </tr>\n",
       "    <tr>\n",
       "      <th>3</th>\n",
       "      <td>1001630024</td>\n",
       "      <td>0.1875</td>\n",
       "      <td>16</td>\n",
       "      <td>1915</td>\n",
       "      <td>0.0</td>\n",
       "      <td>0.0</td>\n",
       "      <td>0.0</td>\n",
       "      <td>0.0</td>\n",
       "      <td>0.0</td>\n",
       "      <td>0.0</td>\n",
       "      <td>...</td>\n",
       "      <td>0.612518</td>\n",
       "      <td>0</td>\n",
       "      <td>0</td>\n",
       "      <td>0</td>\n",
       "      <td>0</td>\n",
       "      <td>10.973689</td>\n",
       "      <td>0.461379</td>\n",
       "      <td>0.096629</td>\n",
       "      <td>0.037102</td>\n",
       "      <td>0.008935</td>\n",
       "    </tr>\n",
       "    <tr>\n",
       "      <th>4</th>\n",
       "      <td>1001630033</td>\n",
       "      <td>0.0000</td>\n",
       "      <td>11</td>\n",
       "      <td>1915</td>\n",
       "      <td>0.0</td>\n",
       "      <td>0.0</td>\n",
       "      <td>0.0</td>\n",
       "      <td>1.0</td>\n",
       "      <td>0.0</td>\n",
       "      <td>1.0</td>\n",
       "      <td>...</td>\n",
       "      <td>0.612518</td>\n",
       "      <td>0</td>\n",
       "      <td>0</td>\n",
       "      <td>0</td>\n",
       "      <td>0</td>\n",
       "      <td>10.973689</td>\n",
       "      <td>0.461379</td>\n",
       "      <td>0.096629</td>\n",
       "      <td>0.037102</td>\n",
       "      <td>0.008935</td>\n",
       "    </tr>\n",
       "  </tbody>\n",
       "</table>\n",
       "<p>5 rows × 77 columns</p>\n",
       "</div>"
      ],
      "text/plain": [
       "          bbl  rs_share_diff  total_units_19  year_built  ejectment_count  \\\n",
       "0  1000780047         0.0000             483        2016              0.0   \n",
       "1  1001350019         0.0000               4        1915              0.0   \n",
       "2  1001620013        -0.0500              20        1915              0.0   \n",
       "3  1001630024         0.1875              16        1915              0.0   \n",
       "4  1001630033         0.0000              11        1915              0.0   \n",
       "\n",
       "   possession_count  eviction_count  aleration_count  altered_lessthan5yrs  \\\n",
       "0               0.0             0.0              0.0                   0.0   \n",
       "1               0.0             0.0              0.0                   0.0   \n",
       "2               0.0             0.0              0.0                   0.0   \n",
       "3               0.0             0.0              0.0                   0.0   \n",
       "4               0.0             0.0              1.0                   0.0   \n",
       "\n",
       "   altered_morethan5yrs  ...  pop_race_div_idx_19  boro_2  boro_3  boro_4  \\\n",
       "0                   0.0  ...             0.450691       0       0       0   \n",
       "1                   0.0  ...             0.457072       0       0       0   \n",
       "2                   0.0  ...             0.612518       0       0       0   \n",
       "3                   0.0  ...             0.612518       0       0       0   \n",
       "4                   1.0  ...             0.612518       0       0       0   \n",
       "\n",
       "   boro_5  hh_inc_avg_19_log1  pop_race_asian_pct_19_log1  \\\n",
       "0       0           12.276639                    0.150551   \n",
       "1       0           12.897523                    0.096864   \n",
       "2       0           10.973689                    0.461379   \n",
       "3       0           10.973689                    0.461379   \n",
       "4       0           10.973689                    0.461379   \n",
       "\n",
       "   pop_race_black_pct_19_log1  pop16_unemp_pct_19_log1  \\\n",
       "0                    0.018246                 0.035008   \n",
       "1                    0.055298                 0.002253   \n",
       "2                    0.096629                 0.037102   \n",
       "3                    0.096629                 0.037102   \n",
       "4                    0.096629                 0.037102   \n",
       "\n",
       "   pop_mobile1_diff_state_pct_19_log1  \n",
       "0                            0.074674  \n",
       "1                            0.014341  \n",
       "2                            0.008935  \n",
       "3                            0.008935  \n",
       "4                            0.008935  \n",
       "\n",
       "[5 rows x 77 columns]"
      ]
     },
     "execution_count": 13,
     "metadata": {},
     "output_type": "execute_result"
    }
   ],
   "source": [
    "df.head()"
   ]
  },
  {
   "cell_type": "code",
   "execution_count": 14,
   "id": "14166bc9",
   "metadata": {},
   "outputs": [
    {
     "data": {
      "text/plain": [
       "['bbl',\n",
       " 'rs_share_diff',\n",
       " 'total_units_19',\n",
       " 'year_built',\n",
       " 'ejectment_count',\n",
       " 'possession_count',\n",
       " 'eviction_count',\n",
       " 'aleration_count',\n",
       " 'altered_lessthan5yrs',\n",
       " 'altered_morethan5yrs',\n",
       " 'classanet_avg',\n",
       " 'enlargement_count',\n",
       " 'hpd_calls_2017',\n",
       " 'hpd_calls_2018',\n",
       " 'hpd_calls_2019',\n",
       " 'dob_calls_2017',\n",
       " 'dob_calls_2018',\n",
       " 'dob_calls_2019',\n",
       " 'b_violations_2017',\n",
       " 'b_violations_2018',\n",
       " 'b_violations_2019',\n",
       " 'c_violations_2017',\n",
       " 'c_violations_2018',\n",
       " 'c_violations_2019',\n",
       " 'cases_2017',\n",
       " 'cases_2018',\n",
       " 'cases_2019',\n",
       " 'Heat and Hot Water_2017',\n",
       " 'Heat and Hot Water_2018',\n",
       " 'Heat and Hot Water_2019',\n",
       " 'Tenant Action_2017',\n",
       " 'Tenant Action_2018',\n",
       " 'Tenant Action_2019',\n",
       " 'CONH_2017',\n",
       " 'CONH_2018',\n",
       " 'CONH_2019',\n",
       " 'Tenant Action/Harrassment_2017',\n",
       " 'Tenant Action/Harrassment_2018',\n",
       " 'Tenant Action/Harrassment_2019',\n",
       " 'hh_inc_own_med_19',\n",
       " 'own_cost_mort_med_19',\n",
       " 'own_burden_mort_med_19',\n",
       " 'rent_contract_med_19',\n",
       " 'rent_burden_med_19',\n",
       " 'pop_65p_pct_19',\n",
       " 'pop_rent_pct_19',\n",
       " 'pop_race_white_pct_19',\n",
       " 'pop_lim_eng_pct_19',\n",
       " 'pop_pov_pct_19',\n",
       " 'pop_edu_hs_pct_19',\n",
       " 'pop_edu_collp_pct_19',\n",
       " 'pop_mobile1_same_home_pct_19',\n",
       " 'pop_mobile1_same_county_pct_19',\n",
       " 'pop_mobile1_abroad_pct_19',\n",
       " 'hh_family_pct_19',\n",
       " 'hh_alone_pct_19',\n",
       " 'hh_inc_wage_pct_19',\n",
       " 'hh_inc_ssi_pct_19',\n",
       " 'hh_inc_pubasst_snap_pct_19',\n",
       " 'hh_inc_retirement_pct_19',\n",
       " 'unit_vac_pct_19',\n",
       " 'unit_vac_rent_pct_19',\n",
       " 'unit_occ_rent_crowd_pct_19',\n",
       " 'unit_occ_rent_child_pct_19',\n",
       " 'unit_rent_cash_mod_high_pct_19',\n",
       " 'unit_rent_cash_high_pct_19',\n",
       " 'rent_burden_pct_19',\n",
       " 'pop_race_div_idx_19',\n",
       " 'boro_2',\n",
       " 'boro_3',\n",
       " 'boro_4',\n",
       " 'boro_5',\n",
       " 'hh_inc_avg_19_log1',\n",
       " 'pop_race_asian_pct_19_log1',\n",
       " 'pop_race_black_pct_19_log1',\n",
       " 'pop16_unemp_pct_19_log1',\n",
       " 'pop_mobile1_diff_state_pct_19_log1']"
      ]
     },
     "execution_count": 14,
     "metadata": {},
     "output_type": "execute_result"
    }
   ],
   "source": [
    "df.columns.values.tolist()"
   ]
  },
  {
   "cell_type": "code",
   "execution_count": 15,
   "id": "05626baf",
   "metadata": {},
   "outputs": [
    {
     "data": {
      "text/plain": [
       "1229713"
      ]
     },
     "execution_count": 15,
     "metadata": {},
     "output_type": "execute_result"
    }
   ],
   "source": [
    "df['total_units_19'].sum()"
   ]
  },
  {
   "cell_type": "code",
   "execution_count": 16,
   "id": "0abd379d",
   "metadata": {},
   "outputs": [],
   "source": [
    "import matplotlib\n",
    "import matplotlib.pyplot as plt\n",
    "from matplotlib.pyplot import cm\n",
    "\n",
    "%matplotlib inline "
   ]
  },
  {
   "cell_type": "code",
   "execution_count": 17,
   "id": "fc6e743c",
   "metadata": {},
   "outputs": [],
   "source": [
    "# df['total_units_19'].quantile([0.1,0.2,0.3,0.4,0.5])"
   ]
  },
  {
   "cell_type": "code",
   "execution_count": 18,
   "id": "1f68d215",
   "metadata": {},
   "outputs": [
    {
     "data": {
      "text/plain": [
       "array([1.000e+00, 6.000e+00, 6.000e+00, 6.000e+00, 6.000e+00, 8.000e+00,\n",
       "       8.000e+00, 9.000e+00, 1.000e+01, 1.300e+01, 1.600e+01, 1.800e+01,\n",
       "       2.000e+01, 2.400e+01, 2.900e+01, 3.600e+01, 4.400e+01, 5.400e+01,\n",
       "       6.800e+01, 1.000e+02, 8.764e+03])"
      ]
     },
     "execution_count": 18,
     "metadata": {},
     "output_type": "execute_result"
    }
   ],
   "source": [
    "df['total_units_19'].quantile(np.arange(0,1.05,0.05)).values"
   ]
  },
  {
   "cell_type": "code",
   "execution_count": 19,
   "id": "4c7e3a15",
   "metadata": {},
   "outputs": [
    {
     "data": {
      "text/plain": [
       "unit_bin\n",
       "(0.999, 6.0]      -0.737279\n",
       "(6.0, 8.0]        -0.066438\n",
       "(8.0, 9.0]        -0.073007\n",
       "(9.0, 10.0]       -0.069239\n",
       "(10.0, 13.0]      -0.074030\n",
       "(13.0, 16.0]      -0.036127\n",
       "(16.0, 18.0]      -0.055126\n",
       "(18.0, 20.0]      -0.022528\n",
       "(20.0, 24.0]      -0.047281\n",
       "(24.0, 29.0]      -0.044308\n",
       "(29.0, 36.0]      -0.043829\n",
       "(36.0, 44.0]      -0.039904\n",
       "(44.0, 54.0]      -0.025300\n",
       "(54.0, 68.0]      -0.028644\n",
       "(68.0, 100.0]     -0.019473\n",
       "(100.0, 8764.0]   -0.010605\n",
       "Name: rs_share_diff, dtype: float64"
      ]
     },
     "execution_count": 19,
     "metadata": {},
     "output_type": "execute_result"
    }
   ],
   "source": [
    "df['unit_bin'] = pd.cut(df['total_units_19'], \n",
    "                          bins=df['total_units_19'].quantile(np.arange(0,1.05,0.05)).values, \n",
    "                          include_lowest=True,\n",
    "                          duplicates='drop') \n",
    "df.groupby('unit_bin')['rs_share_diff'].mean()"
   ]
  },
  {
   "cell_type": "code",
   "execution_count": 20,
   "id": "1695aeb8",
   "metadata": {},
   "outputs": [],
   "source": [
    "# df.loc[df['total_units_19'] <= 6.0, ['rs_share_diff']]"
   ]
  },
  {
   "cell_type": "code",
   "execution_count": 21,
   "id": "7c9fbfc9",
   "metadata": {},
   "outputs": [],
   "source": [
    "# df.groupby(['unit_bin'])['total_units_19','rs_share_diff'].mean()"
   ]
  },
  {
   "cell_type": "markdown",
   "id": "4c9a6383",
   "metadata": {},
   "source": [
    "### 1. Gradient Boosting Regressor - all buildings"
   ]
  },
  {
   "cell_type": "code",
   "execution_count": 22,
   "id": "d28de632",
   "metadata": {},
   "outputs": [],
   "source": [
    "X = df.drop(['rs_share_diff','bbl'], axis = 1)\n",
    "y = df['rs_share_diff']"
   ]
  },
  {
   "cell_type": "code",
   "execution_count": 23,
   "id": "c3357634",
   "metadata": {},
   "outputs": [],
   "source": [
    "from sklearn.model_selection import train_test_split\n",
    "X_train, X_test, y_train, y_test = train_test_split(X, y, test_size=0.25, random_state=1)"
   ]
  },
  {
   "cell_type": "code",
   "execution_count": 24,
   "id": "8bbf0704",
   "metadata": {},
   "outputs": [],
   "source": [
    "from sklearn.ensemble import GradientBoostingRegressor\n",
    "from sklearn.model_selection import GridSearchCV\n"
   ]
  },
  {
   "cell_type": "code",
   "execution_count": 25,
   "id": "27399406",
   "metadata": {},
   "outputs": [
    {
     "name": "stderr",
     "output_type": "stream",
     "text": [
      "/Users/cpreeldumas/opt/anaconda3/envs/pgmpy2/lib/python3.7/site-packages/sklearn/model_selection/_validation.py:372: FitFailedWarning: \n",
      "4 fits failed out of a total of 4.\n",
      "The score on these train-test partitions for these parameters will be set to nan.\n",
      "If these failures are not expected, you can try to debug them by setting error_score='raise'.\n",
      "\n",
      "Below are more details about the failures:\n",
      "--------------------------------------------------------------------------------\n",
      "4 fits failed with the following error:\n",
      "Traceback (most recent call last):\n",
      "  File \"/Users/cpreeldumas/opt/anaconda3/envs/pgmpy2/lib/python3.7/site-packages/sklearn/model_selection/_validation.py\", line 680, in _fit_and_score\n",
      "    estimator.fit(X_train, y_train, **fit_params)\n",
      "  File \"/Users/cpreeldumas/opt/anaconda3/envs/pgmpy2/lib/python3.7/site-packages/sklearn/ensemble/_gb.py\", line 487, in fit\n",
      "    X, y, accept_sparse=[\"csr\", \"csc\", \"coo\"], dtype=DTYPE, multi_output=True\n",
      "  File \"/Users/cpreeldumas/opt/anaconda3/envs/pgmpy2/lib/python3.7/site-packages/sklearn/base.py\", line 581, in _validate_data\n",
      "    X, y = check_X_y(X, y, **check_params)\n",
      "  File \"/Users/cpreeldumas/opt/anaconda3/envs/pgmpy2/lib/python3.7/site-packages/sklearn/utils/validation.py\", line 976, in check_X_y\n",
      "    estimator=estimator,\n",
      "  File \"/Users/cpreeldumas/opt/anaconda3/envs/pgmpy2/lib/python3.7/site-packages/sklearn/utils/validation.py\", line 746, in check_array\n",
      "    array = np.asarray(array, order=order, dtype=dtype)\n",
      "  File \"/Users/cpreeldumas/opt/anaconda3/envs/pgmpy2/lib/python3.7/site-packages/pandas/core/generic.py\", line 1993, in __array__\n",
      "    return np.asarray(self._values, dtype=dtype)\n",
      "TypeError: float() argument must be a string or a number, not 'pandas._libs.interval.Interval'\n",
      "\n",
      "  warnings.warn(some_fits_failed_message, FitFailedWarning)\n",
      "/Users/cpreeldumas/opt/anaconda3/envs/pgmpy2/lib/python3.7/site-packages/sklearn/model_selection/_search.py:972: UserWarning: One or more of the test scores are non-finite: [nan]\n",
      "  category=UserWarning,\n"
     ]
    },
    {
     "ename": "TypeError",
     "evalue": "float() argument must be a string or a number, not 'pandas._libs.interval.Interval'",
     "output_type": "error",
     "traceback": [
      "\u001b[0;31m---------------------------------------------------------------------------\u001b[0m",
      "\u001b[0;31mTypeError\u001b[0m                                 Traceback (most recent call last)",
      "\u001b[0;32m/var/folders/38/qjw178n95d16kdsh80f0sl9r0000gn/T/ipykernel_80617/2308726989.py\u001b[0m in \u001b[0;36m<module>\u001b[0;34m\u001b[0m\n\u001b[1;32m      7\u001b[0m \u001b[0mmodel_gb\u001b[0m \u001b[0;34m=\u001b[0m \u001b[0mGradientBoostingRegressor\u001b[0m\u001b[0;34m(\u001b[0m\u001b[0;34m)\u001b[0m\u001b[0;34m\u001b[0m\u001b[0;34m\u001b[0m\u001b[0m\n\u001b[1;32m      8\u001b[0m \u001b[0mgr_gb\u001b[0m \u001b[0;34m=\u001b[0m \u001b[0mGridSearchCV\u001b[0m\u001b[0;34m(\u001b[0m\u001b[0mmodel_gb\u001b[0m\u001b[0;34m,\u001b[0m \u001b[0mparam_grid\u001b[0m \u001b[0;34m=\u001b[0m \u001b[0mgbr_params\u001b[0m\u001b[0;34m,\u001b[0m \u001b[0mcv\u001b[0m \u001b[0;34m=\u001b[0m \u001b[0;36m4\u001b[0m\u001b[0;34m)\u001b[0m\u001b[0;34m\u001b[0m\u001b[0;34m\u001b[0m\u001b[0m\n\u001b[0;32m----> 9\u001b[0;31m \u001b[0mfit_gb\u001b[0m \u001b[0;34m=\u001b[0m \u001b[0mgr_gb\u001b[0m\u001b[0;34m.\u001b[0m\u001b[0mfit\u001b[0m\u001b[0;34m(\u001b[0m\u001b[0mX_train\u001b[0m\u001b[0;34m,\u001b[0m \u001b[0my_train\u001b[0m\u001b[0;34m)\u001b[0m\u001b[0;34m\u001b[0m\u001b[0;34m\u001b[0m\u001b[0m\n\u001b[0m\u001b[1;32m     10\u001b[0m \u001b[0mprint\u001b[0m\u001b[0;34m(\u001b[0m\u001b[0mfit_gb\u001b[0m\u001b[0;34m.\u001b[0m\u001b[0mbest_estimator_\u001b[0m\u001b[0;34m)\u001b[0m\u001b[0;34m\u001b[0m\u001b[0;34m\u001b[0m\u001b[0m\n",
      "\u001b[0;32m~/opt/anaconda3/envs/pgmpy2/lib/python3.7/site-packages/sklearn/model_selection/_search.py\u001b[0m in \u001b[0;36mfit\u001b[0;34m(self, X, y, groups, **fit_params)\u001b[0m\n\u001b[1;32m    924\u001b[0m             \u001b[0mrefit_start_time\u001b[0m \u001b[0;34m=\u001b[0m \u001b[0mtime\u001b[0m\u001b[0;34m.\u001b[0m\u001b[0mtime\u001b[0m\u001b[0;34m(\u001b[0m\u001b[0;34m)\u001b[0m\u001b[0;34m\u001b[0m\u001b[0;34m\u001b[0m\u001b[0m\n\u001b[1;32m    925\u001b[0m             \u001b[0;32mif\u001b[0m \u001b[0my\u001b[0m \u001b[0;32mis\u001b[0m \u001b[0;32mnot\u001b[0m \u001b[0;32mNone\u001b[0m\u001b[0;34m:\u001b[0m\u001b[0;34m\u001b[0m\u001b[0;34m\u001b[0m\u001b[0m\n\u001b[0;32m--> 926\u001b[0;31m                 \u001b[0mself\u001b[0m\u001b[0;34m.\u001b[0m\u001b[0mbest_estimator_\u001b[0m\u001b[0;34m.\u001b[0m\u001b[0mfit\u001b[0m\u001b[0;34m(\u001b[0m\u001b[0mX\u001b[0m\u001b[0;34m,\u001b[0m \u001b[0my\u001b[0m\u001b[0;34m,\u001b[0m \u001b[0;34m**\u001b[0m\u001b[0mfit_params\u001b[0m\u001b[0;34m)\u001b[0m\u001b[0;34m\u001b[0m\u001b[0;34m\u001b[0m\u001b[0m\n\u001b[0m\u001b[1;32m    927\u001b[0m             \u001b[0;32melse\u001b[0m\u001b[0;34m:\u001b[0m\u001b[0;34m\u001b[0m\u001b[0;34m\u001b[0m\u001b[0m\n\u001b[1;32m    928\u001b[0m                 \u001b[0mself\u001b[0m\u001b[0;34m.\u001b[0m\u001b[0mbest_estimator_\u001b[0m\u001b[0;34m.\u001b[0m\u001b[0mfit\u001b[0m\u001b[0;34m(\u001b[0m\u001b[0mX\u001b[0m\u001b[0;34m,\u001b[0m \u001b[0;34m**\u001b[0m\u001b[0mfit_params\u001b[0m\u001b[0;34m)\u001b[0m\u001b[0;34m\u001b[0m\u001b[0;34m\u001b[0m\u001b[0m\n",
      "\u001b[0;32m~/opt/anaconda3/envs/pgmpy2/lib/python3.7/site-packages/sklearn/ensemble/_gb.py\u001b[0m in \u001b[0;36mfit\u001b[0;34m(self, X, y, sample_weight, monitor)\u001b[0m\n\u001b[1;32m    485\u001b[0m \u001b[0;34m\u001b[0m\u001b[0m\n\u001b[1;32m    486\u001b[0m         X, y = self._validate_data(\n\u001b[0;32m--> 487\u001b[0;31m             \u001b[0mX\u001b[0m\u001b[0;34m,\u001b[0m \u001b[0my\u001b[0m\u001b[0;34m,\u001b[0m \u001b[0maccept_sparse\u001b[0m\u001b[0;34m=\u001b[0m\u001b[0;34m[\u001b[0m\u001b[0;34m\"csr\"\u001b[0m\u001b[0;34m,\u001b[0m \u001b[0;34m\"csc\"\u001b[0m\u001b[0;34m,\u001b[0m \u001b[0;34m\"coo\"\u001b[0m\u001b[0;34m]\u001b[0m\u001b[0;34m,\u001b[0m \u001b[0mdtype\u001b[0m\u001b[0;34m=\u001b[0m\u001b[0mDTYPE\u001b[0m\u001b[0;34m,\u001b[0m \u001b[0mmulti_output\u001b[0m\u001b[0;34m=\u001b[0m\u001b[0;32mTrue\u001b[0m\u001b[0;34m\u001b[0m\u001b[0;34m\u001b[0m\u001b[0m\n\u001b[0m\u001b[1;32m    488\u001b[0m         )\n\u001b[1;32m    489\u001b[0m \u001b[0;34m\u001b[0m\u001b[0m\n",
      "\u001b[0;32m~/opt/anaconda3/envs/pgmpy2/lib/python3.7/site-packages/sklearn/base.py\u001b[0m in \u001b[0;36m_validate_data\u001b[0;34m(self, X, y, reset, validate_separately, **check_params)\u001b[0m\n\u001b[1;32m    579\u001b[0m                 \u001b[0my\u001b[0m \u001b[0;34m=\u001b[0m \u001b[0mcheck_array\u001b[0m\u001b[0;34m(\u001b[0m\u001b[0my\u001b[0m\u001b[0;34m,\u001b[0m \u001b[0;34m**\u001b[0m\u001b[0mcheck_y_params\u001b[0m\u001b[0;34m)\u001b[0m\u001b[0;34m\u001b[0m\u001b[0;34m\u001b[0m\u001b[0m\n\u001b[1;32m    580\u001b[0m             \u001b[0;32melse\u001b[0m\u001b[0;34m:\u001b[0m\u001b[0;34m\u001b[0m\u001b[0;34m\u001b[0m\u001b[0m\n\u001b[0;32m--> 581\u001b[0;31m                 \u001b[0mX\u001b[0m\u001b[0;34m,\u001b[0m \u001b[0my\u001b[0m \u001b[0;34m=\u001b[0m \u001b[0mcheck_X_y\u001b[0m\u001b[0;34m(\u001b[0m\u001b[0mX\u001b[0m\u001b[0;34m,\u001b[0m \u001b[0my\u001b[0m\u001b[0;34m,\u001b[0m \u001b[0;34m**\u001b[0m\u001b[0mcheck_params\u001b[0m\u001b[0;34m)\u001b[0m\u001b[0;34m\u001b[0m\u001b[0;34m\u001b[0m\u001b[0m\n\u001b[0m\u001b[1;32m    582\u001b[0m             \u001b[0mout\u001b[0m \u001b[0;34m=\u001b[0m \u001b[0mX\u001b[0m\u001b[0;34m,\u001b[0m \u001b[0my\u001b[0m\u001b[0;34m\u001b[0m\u001b[0;34m\u001b[0m\u001b[0m\n\u001b[1;32m    583\u001b[0m \u001b[0;34m\u001b[0m\u001b[0m\n",
      "\u001b[0;32m~/opt/anaconda3/envs/pgmpy2/lib/python3.7/site-packages/sklearn/utils/validation.py\u001b[0m in \u001b[0;36mcheck_X_y\u001b[0;34m(X, y, accept_sparse, accept_large_sparse, dtype, order, copy, force_all_finite, ensure_2d, allow_nd, multi_output, ensure_min_samples, ensure_min_features, y_numeric, estimator)\u001b[0m\n\u001b[1;32m    974\u001b[0m         \u001b[0mensure_min_samples\u001b[0m\u001b[0;34m=\u001b[0m\u001b[0mensure_min_samples\u001b[0m\u001b[0;34m,\u001b[0m\u001b[0;34m\u001b[0m\u001b[0;34m\u001b[0m\u001b[0m\n\u001b[1;32m    975\u001b[0m         \u001b[0mensure_min_features\u001b[0m\u001b[0;34m=\u001b[0m\u001b[0mensure_min_features\u001b[0m\u001b[0;34m,\u001b[0m\u001b[0;34m\u001b[0m\u001b[0;34m\u001b[0m\u001b[0m\n\u001b[0;32m--> 976\u001b[0;31m         \u001b[0mestimator\u001b[0m\u001b[0;34m=\u001b[0m\u001b[0mestimator\u001b[0m\u001b[0;34m,\u001b[0m\u001b[0;34m\u001b[0m\u001b[0;34m\u001b[0m\u001b[0m\n\u001b[0m\u001b[1;32m    977\u001b[0m     )\n\u001b[1;32m    978\u001b[0m \u001b[0;34m\u001b[0m\u001b[0m\n",
      "\u001b[0;32m~/opt/anaconda3/envs/pgmpy2/lib/python3.7/site-packages/sklearn/utils/validation.py\u001b[0m in \u001b[0;36mcheck_array\u001b[0;34m(array, accept_sparse, accept_large_sparse, dtype, order, copy, force_all_finite, ensure_2d, allow_nd, ensure_min_samples, ensure_min_features, estimator)\u001b[0m\n\u001b[1;32m    744\u001b[0m                     \u001b[0marray\u001b[0m \u001b[0;34m=\u001b[0m \u001b[0marray\u001b[0m\u001b[0;34m.\u001b[0m\u001b[0mastype\u001b[0m\u001b[0;34m(\u001b[0m\u001b[0mdtype\u001b[0m\u001b[0;34m,\u001b[0m \u001b[0mcasting\u001b[0m\u001b[0;34m=\u001b[0m\u001b[0;34m\"unsafe\"\u001b[0m\u001b[0;34m,\u001b[0m \u001b[0mcopy\u001b[0m\u001b[0;34m=\u001b[0m\u001b[0;32mFalse\u001b[0m\u001b[0;34m)\u001b[0m\u001b[0;34m\u001b[0m\u001b[0;34m\u001b[0m\u001b[0m\n\u001b[1;32m    745\u001b[0m                 \u001b[0;32melse\u001b[0m\u001b[0;34m:\u001b[0m\u001b[0;34m\u001b[0m\u001b[0;34m\u001b[0m\u001b[0m\n\u001b[0;32m--> 746\u001b[0;31m                     \u001b[0marray\u001b[0m \u001b[0;34m=\u001b[0m \u001b[0mnp\u001b[0m\u001b[0;34m.\u001b[0m\u001b[0masarray\u001b[0m\u001b[0;34m(\u001b[0m\u001b[0marray\u001b[0m\u001b[0;34m,\u001b[0m \u001b[0morder\u001b[0m\u001b[0;34m=\u001b[0m\u001b[0morder\u001b[0m\u001b[0;34m,\u001b[0m \u001b[0mdtype\u001b[0m\u001b[0;34m=\u001b[0m\u001b[0mdtype\u001b[0m\u001b[0;34m)\u001b[0m\u001b[0;34m\u001b[0m\u001b[0;34m\u001b[0m\u001b[0m\n\u001b[0m\u001b[1;32m    747\u001b[0m             \u001b[0;32mexcept\u001b[0m \u001b[0mComplexWarning\u001b[0m \u001b[0;32mas\u001b[0m \u001b[0mcomplex_warning\u001b[0m\u001b[0;34m:\u001b[0m\u001b[0;34m\u001b[0m\u001b[0;34m\u001b[0m\u001b[0m\n\u001b[1;32m    748\u001b[0m                 raise ValueError(\n",
      "\u001b[0;32m~/opt/anaconda3/envs/pgmpy2/lib/python3.7/site-packages/pandas/core/generic.py\u001b[0m in \u001b[0;36m__array__\u001b[0;34m(self, dtype)\u001b[0m\n\u001b[1;32m   1991\u001b[0m \u001b[0;34m\u001b[0m\u001b[0m\n\u001b[1;32m   1992\u001b[0m     \u001b[0;32mdef\u001b[0m \u001b[0m__array__\u001b[0m\u001b[0;34m(\u001b[0m\u001b[0mself\u001b[0m\u001b[0;34m,\u001b[0m \u001b[0mdtype\u001b[0m\u001b[0;34m:\u001b[0m \u001b[0mNpDtype\u001b[0m \u001b[0;34m|\u001b[0m \u001b[0;32mNone\u001b[0m \u001b[0;34m=\u001b[0m \u001b[0;32mNone\u001b[0m\u001b[0;34m)\u001b[0m \u001b[0;34m->\u001b[0m \u001b[0mnp\u001b[0m\u001b[0;34m.\u001b[0m\u001b[0mndarray\u001b[0m\u001b[0;34m:\u001b[0m\u001b[0;34m\u001b[0m\u001b[0;34m\u001b[0m\u001b[0m\n\u001b[0;32m-> 1993\u001b[0;31m         \u001b[0;32mreturn\u001b[0m \u001b[0mnp\u001b[0m\u001b[0;34m.\u001b[0m\u001b[0masarray\u001b[0m\u001b[0;34m(\u001b[0m\u001b[0mself\u001b[0m\u001b[0;34m.\u001b[0m\u001b[0m_values\u001b[0m\u001b[0;34m,\u001b[0m \u001b[0mdtype\u001b[0m\u001b[0;34m=\u001b[0m\u001b[0mdtype\u001b[0m\u001b[0;34m)\u001b[0m\u001b[0;34m\u001b[0m\u001b[0;34m\u001b[0m\u001b[0m\n\u001b[0m\u001b[1;32m   1994\u001b[0m \u001b[0;34m\u001b[0m\u001b[0m\n\u001b[1;32m   1995\u001b[0m     def __array_wrap__(\n",
      "\u001b[0;31mTypeError\u001b[0m: float() argument must be a string or a number, not 'pandas._libs.interval.Interval'"
     ]
    }
   ],
   "source": [
    "# Fit model\n",
    "\n",
    "gbr_params = {'n_estimators' : [200],\n",
    "            'max_depth'    : [4],\n",
    "             }\n",
    "\n",
    "model_gb = GradientBoostingRegressor()\n",
    "gr_gb = GridSearchCV(model_gb, param_grid = gbr_params, cv = 4)\n",
    "fit_gb = gr_gb.fit(X_train, y_train)\n",
    "print(fit_gb.best_estimator_)"
   ]
  },
  {
   "cell_type": "code",
   "execution_count": null,
   "id": "42bd6c3f",
   "metadata": {},
   "outputs": [],
   "source": [
    "# Test set prediction\n",
    "\n",
    "from sklearn.metrics import mean_squared_error\n",
    "\n",
    "y_hat_gb_test = fit_gb.predict(X_test)\n",
    "rmse = mean_squared_error(y_test, y_hat_gb_test, squared=False)\n",
    "\n",
    "print(\"RMSE: \", rmse)"
   ]
  },
  {
   "cell_type": "code",
   "execution_count": null,
   "id": "047671bb",
   "metadata": {},
   "outputs": [],
   "source": [
    "# Path Dependency\n",
    "\n",
    "from sklearn.inspection import partial_dependence\n",
    "from sklearn.inspection import plot_partial_dependence\n",
    "\n",
    "print('Computing partial dependence plots...')\n",
    "features = ['total_units_19']\n",
    "plot_partial_dependence(fit_gb, X_train, features,\n",
    "                        n_jobs=3, grid_resolution=20)\n",
    "\n",
    "fig = plt.gcf()"
   ]
  },
  {
   "cell_type": "code",
   "execution_count": null,
   "id": "442d3a37",
   "metadata": {},
   "outputs": [],
   "source": [
    "# Get Feature importance data using feature_importances_attribute\n",
    "\n",
    "plt.figure(figsize=(5,10))\n",
    "importances = pd.Series(fit_gb.best_estimator_.feature_importances_, X_train.columns)\n",
    "importances.sort_values().tail(10).plot.barh(color = '#6a79f7')\n",
    "plt.title('Feature Importance in the Gradient Boosting Regressor Model for All Buildings',fontsize=15)\n",
    "plt.xlabel('Feature Importance',fontsize = 15)\n",
    "plt.ylabel('Features',fontsize = 15)\n",
    "plt.show()\n"
   ]
  },
  {
   "cell_type": "code",
   "execution_count": null,
   "id": "9fb5f1d0",
   "metadata": {},
   "outputs": [],
   "source": [
    "# save prediction on all dataset \n",
    "\n",
    "y_hat_gb = fit_gb.predict(X)\n",
    "df_copy = df.copy()\n",
    "df_copy['preds'] = y_hat_gb\n",
    "#df_copy.to_csv('./MLC_SP23/clean_data/df_pred_all.csv',index = False)\n",
    "df_copy"
   ]
  },
  {
   "cell_type": "code",
   "execution_count": null,
   "id": "78b2ded6",
   "metadata": {},
   "outputs": [],
   "source": [
    "# "
   ]
  },
  {
   "cell_type": "markdown",
   "id": "dd7b70ba",
   "metadata": {},
   "source": [
    "### 2. Gradient Boosting Regressor - buildings <= 6 units"
   ]
  },
  {
   "cell_type": "code",
   "execution_count": null,
   "id": "61fd5619",
   "metadata": {},
   "outputs": [],
   "source": [
    "df_small = df[df['total_units_19'] <= 6].reset_index(drop=True)"
   ]
  },
  {
   "cell_type": "code",
   "execution_count": null,
   "id": "e94ee237",
   "metadata": {},
   "outputs": [],
   "source": [
    "X = df_small.drop(['rs_share_diff','bbl'], axis = 1)\n",
    "y = df_small['rs_share_diff']"
   ]
  },
  {
   "cell_type": "code",
   "execution_count": null,
   "id": "967fde6e",
   "metadata": {},
   "outputs": [],
   "source": [
    "from sklearn.model_selection import train_test_split\n",
    "X_train, X_test, y_train, y_test = train_test_split(X, y, test_size=0.25, random_state=1)"
   ]
  },
  {
   "cell_type": "code",
   "execution_count": null,
   "id": "9de2a343",
   "metadata": {},
   "outputs": [],
   "source": [
    "# Fit model\n",
    "\n",
    "gbr_params = {'n_estimators' : [200],\n",
    "            'max_depth'    : [4],\n",
    "             }\n",
    "\n",
    "model_gb = GradientBoostingRegressor()\n",
    "gr_gb = GridSearchCV(model_gb, param_grid = gbr_params, cv = 4)\n",
    "fit_gb_small = gr_gb.fit(X_train, y_train)\n",
    "print(fit_gb.best_estimator_)"
   ]
  },
  {
   "cell_type": "code",
   "execution_count": null,
   "id": "9aa479ef",
   "metadata": {},
   "outputs": [],
   "source": [
    "# Test set prediction\n",
    "\n",
    "from sklearn.metrics import mean_squared_error\n",
    "\n",
    "y_hat_gb_test_small = fit_gb_small.predict(X_test)\n",
    "rmse_small = mean_squared_error(y_test, y_hat_gb_test_small, squared=False)\n",
    "\n",
    "print(\"RMSE_small: \", rmse_small)"
   ]
  },
  {
   "cell_type": "code",
   "execution_count": null,
   "id": "273e8ba6",
   "metadata": {},
   "outputs": [],
   "source": [
    "# Path Dependency\n",
    "\n",
    "from sklearn.inspection import partial_dependence\n",
    "from sklearn.inspection import plot_partial_dependence\n",
    "\n",
    "features = ['total_units_19']\n",
    "plot_partial_dependence(fit_gb_small, X_train, features,\n",
    "                        n_jobs=3, grid_resolution=20)\n",
    "\n",
    "fig = plt.gcf()\n"
   ]
  },
  {
   "cell_type": "code",
   "execution_count": null,
   "id": "2fe663e4",
   "metadata": {},
   "outputs": [],
   "source": [
    "# Get Feature importance data using feature_importances_attribute\n",
    "\n",
    "plt.figure(figsize=(5,10))\n",
    "importances = pd.Series(fit_gb_small.best_estimator_.feature_importances_, X_train.columns)\n",
    "importances.sort_values().tail(10).plot.barh(color = '#6a79f7')\n",
    "plt.title('Feature Importance in the Gradient Boosting Regressor Model for Small Buildings',fontsize=15)\n",
    "plt.xlabel('Feature Importance',fontsize = 15)\n",
    "plt.ylabel('Features',fontsize = 15)\n",
    "plt.show()\n"
   ]
  },
  {
   "cell_type": "code",
   "execution_count": null,
   "id": "f02b5a91",
   "metadata": {},
   "outputs": [],
   "source": [
    "# save prediction on all dataset \n",
    "\n",
    "y_hat_gb_small = fit_gb_small.predict(X)\n",
    "df_copy = df_small.copy()\n",
    "df_copy['preds_small'] = y_hat_gb_small\n",
    "#df_copy.to_csv('./MLC_SP23/clean_data/df_pred_small.csv',index = False)\n",
    "df_copy"
   ]
  },
  {
   "cell_type": "code",
   "execution_count": null,
   "id": "99e541c4",
   "metadata": {},
   "outputs": [],
   "source": [
    "# mean rs_share_diff prediction by borough\n",
    "df_pred_small = pd.read_csv(\"./MLC_SP23/clean_data/df_pred_small.csv\", low_memory=False, index_col=[0])\n",
    "df_pred_small.groupby(['boro_2','boro_3','boro_4','boro_5'])['preds_small'].mean()"
   ]
  },
  {
   "cell_type": "code",
   "execution_count": null,
   "id": "9bc3a903",
   "metadata": {},
   "outputs": [],
   "source": [
    "# sum of units by borough\n",
    "\n",
    "df_pred_small.groupby(['boro_2','boro_3','boro_4','boro_5'])['total_units_19'].sum()"
   ]
  },
  {
   "cell_type": "code",
   "execution_count": null,
   "id": "9f3cd14f",
   "metadata": {},
   "outputs": [],
   "source": [
    "# change in rs units by borough (multiplication of the two tables above)\n",
    "df_pred_small.groupby(['boro_2','boro_3','boro_4','boro_5'])['preds_small'].mean()*(df_pred_small.groupby(['boro_2','boro_3','boro_4','boro_5'])['total_units_19'].sum())"
   ]
  },
  {
   "cell_type": "code",
   "execution_count": null,
   "id": "8d4b4649",
   "metadata": {},
   "outputs": [],
   "source": [
    "# mean rs_share_diff prediction by pop_edu_hs_pct_19\n",
    " \n",
    "df_pred_small['edu_bin'] = pd.cut(df_pred_small['pop_edu_hs_pct_19'], \n",
    "                          bins=4, \n",
    "                          include_lowest=True,\n",
    "                          duplicates='drop') \n",
    "df_pred_small.groupby('edu_bin')['preds_small'].mean()"
   ]
  },
  {
   "cell_type": "code",
   "execution_count": null,
   "id": "60bff893",
   "metadata": {},
   "outputs": [],
   "source": [
    "# sum of units by pop_edu_hs_pct\n",
    "\n",
    "df_pred_small.groupby(['edu_bin'])['total_units_19'].sum()"
   ]
  },
  {
   "cell_type": "code",
   "execution_count": null,
   "id": "5b65206a",
   "metadata": {},
   "outputs": [],
   "source": [
    "# change in rs units by pop_edu_hs_pct (multiplication of the two tables above)\n",
    "   # ignore the negative sign in the first edu bin. There's no negative value, it's just how pandas chose to bin. \n",
    "   # https://pandas.pydata.org/docs/reference/api/pandas.cut.html\n",
    "\n",
    "df_pred_small.groupby('edu_bin')['preds_small'].mean()*(df_pred_small.groupby(['edu_bin'])['total_units_19'].sum())\n"
   ]
  },
  {
   "cell_type": "code",
   "execution_count": null,
   "id": "7247727a",
   "metadata": {},
   "outputs": [],
   "source": [
    "df_pred_small['pop_edu_hs_pct_19'].describe()"
   ]
  },
  {
   "cell_type": "code",
   "execution_count": null,
   "id": "43cbd2e6",
   "metadata": {},
   "outputs": [],
   "source": [
    "# mean rs_share_diff prediction by total units\n",
    " \n",
    "df_pred_small['unit_bin'] = pd.cut(df_pred_small['total_units_19'], \n",
    "                          bins=5, \n",
    "                          include_lowest=True,\n",
    "                          duplicates='drop') \n",
    "df_pred_small.groupby('unit_bin')['preds_small'].mean()"
   ]
  },
  {
   "cell_type": "code",
   "execution_count": null,
   "id": "7d2b7e91",
   "metadata": {},
   "outputs": [],
   "source": [
    "# sum of units by total units in the building\n",
    "\n",
    "df_pred_small.groupby(['unit_bin'])['total_units_19'].sum()"
   ]
  },
  {
   "cell_type": "code",
   "execution_count": null,
   "id": "5bd2c9f7",
   "metadata": {},
   "outputs": [],
   "source": [
    "# change in rs units by total_unit (multiplication of the two tables above)\n",
    "\n",
    "df_pred_small.groupby('unit_bin')['preds_small'].mean() * (df_pred_small.groupby(['unit_bin'])['total_units_19'].sum())\n"
   ]
  },
  {
   "cell_type": "markdown",
   "id": "aaaba4b3",
   "metadata": {},
   "source": [
    "### 3. Gradient Boosting Regressor - buildings > 6 units"
   ]
  },
  {
   "cell_type": "code",
   "execution_count": null,
   "id": "b80368c3",
   "metadata": {},
   "outputs": [],
   "source": [
    "df_big = df[df['total_units_19'] > 6].reset_index(drop=True)"
   ]
  },
  {
   "cell_type": "code",
   "execution_count": null,
   "id": "10359707",
   "metadata": {},
   "outputs": [],
   "source": [
    "X = df_big.drop(['rs_share_diff','bbl'], axis = 1)\n",
    "y = df_big['rs_share_diff']"
   ]
  },
  {
   "cell_type": "code",
   "execution_count": null,
   "id": "a34b9637",
   "metadata": {},
   "outputs": [],
   "source": [
    "X_train, X_test, y_train, y_test = train_test_split(X, y, test_size=0.25, random_state=1)"
   ]
  },
  {
   "cell_type": "code",
   "execution_count": null,
   "id": "56327363",
   "metadata": {},
   "outputs": [],
   "source": [
    "# Fit model\n",
    "\n",
    "gbr_params = {'n_estimators' : [200],\n",
    "            'max_depth'    : [5],\n",
    "             }\n",
    "\n",
    "model_gb = GradientBoostingRegressor()\n",
    "gr_gb = GridSearchCV(model_gb, param_grid = gbr_params, cv = 4)\n",
    "fit_gb_big = gr_gb.fit(X_train, y_train)\n",
    "print(fit_gb.best_estimator_)"
   ]
  },
  {
   "cell_type": "code",
   "execution_count": null,
   "id": "904a5e26",
   "metadata": {},
   "outputs": [],
   "source": [
    "# Test set prediction\n",
    "\n",
    "y_hat_gb_test_big = fit_gb_big.predict(X_test)\n",
    "rmse_big = mean_squared_error(y_test, y_hat_gb_test_big, squared=False)\n",
    "\n",
    "print(\"RMSE_big: \", rmse_big)"
   ]
  },
  {
   "cell_type": "code",
   "execution_count": null,
   "id": "5742bb8a",
   "metadata": {},
   "outputs": [],
   "source": [
    "# Path Dependency\n",
    "\n",
    "features = ['total_units_19']\n",
    "plot_partial_dependence(fit_gb_big, X_train, features,\n",
    "                        n_jobs=3, grid_resolution=20)\n",
    "\n",
    "fig = plt.gcf()\n"
   ]
  },
  {
   "cell_type": "code",
   "execution_count": null,
   "id": "9144b737",
   "metadata": {},
   "outputs": [],
   "source": [
    "# Get Feature importance data using feature_importances_attribute\n",
    "import matplotlib.pyplot as plt\n",
    "from matplotlib.pyplot import cm\n",
    "\n",
    "plt.figure(figsize=(5,10))\n",
    "importances = pd.Series(fit_gb_big.best_estimator_.feature_importances_, X_train.columns)\n",
    "importances.sort_values().tail(10).plot.barh(color = '#6a79f7')\n",
    "plt.title('Feature Importance in the Gradient Boosting Regressor Model for Big Buildings',fontsize=15)\n",
    "plt.xlabel('Feature Importance',fontsize = 15)\n",
    "plt.ylabel('Features',fontsize = 15)\n",
    "plt.show()\n"
   ]
  },
  {
   "cell_type": "code",
   "execution_count": null,
   "id": "638ae667",
   "metadata": {},
   "outputs": [],
   "source": [
    "# save prediction on all dataset \n",
    "\n",
    "y_hat_gb_big = fit_gb_big.predict(X)\n",
    "df_copy = df_big.copy()\n",
    "df_copy['preds_big'] = y_hat_gb_big\n",
    "#df_copy.to_csv('./MLC_SP23/clean_data/df_pred_big.csv',index = False)\n",
    "df_copy"
   ]
  },
  {
   "cell_type": "code",
   "execution_count": null,
   "id": "b6d4e119",
   "metadata": {},
   "outputs": [],
   "source": [
    "# mean rs_share_diff pred by borough\n",
    "\n",
    "df_pred_big = pd.read_csv(\"./MLC_SP23/clean_data/df_pred_big.csv\", low_memory=False, index_col=[0])\n",
    "df_pred_big.groupby(['boro_2','boro_3','boro_4','boro_5'])['preds_big'].mean()"
   ]
  },
  {
   "cell_type": "code",
   "execution_count": null,
   "id": "1bf08690",
   "metadata": {},
   "outputs": [],
   "source": [
    "# sum of units by borough\n",
    "\n",
    "df_pred_big.groupby(['boro_2','boro_3','boro_4','boro_5'])['total_units_19'].sum()"
   ]
  },
  {
   "cell_type": "code",
   "execution_count": null,
   "id": "e76aa8bd",
   "metadata": {},
   "outputs": [],
   "source": [
    "# change in rs units by borough\n",
    "\n",
    "df_pred_big.groupby(['boro_2','boro_3','boro_4','boro_5'])['preds_big'].mean() * (df_pred_big.groupby(['boro_2','boro_3','boro_4','boro_5'])['total_units_19'].sum())"
   ]
  },
  {
   "cell_type": "code",
   "execution_count": null,
   "id": "a648dee4",
   "metadata": {},
   "outputs": [],
   "source": [
    "# mean rs_share_diff prediction by year_built\n",
    " \n",
    "df_pred_big['year_bin'] = pd.cut(df_pred_big['year_built'], \n",
    "                          bins=4, \n",
    "                          include_lowest=True,\n",
    "                          duplicates='drop') \n",
    "df_pred_big.groupby('year_bin')['preds_big'].mean()"
   ]
  },
  {
   "cell_type": "code",
   "execution_count": null,
   "id": "7929f97f",
   "metadata": {},
   "outputs": [],
   "source": [
    "# sum of units by year_built\n",
    "\n",
    "df_pred_big.groupby(['year_bin'])['total_units_19'].sum()"
   ]
  },
  {
   "cell_type": "code",
   "execution_count": null,
   "id": "e4949317",
   "metadata": {},
   "outputs": [],
   "source": [
    "# change in rs units by year_built \n",
    "\n",
    "df_pred_big.groupby('year_bin')['preds_big'].mean() * (df_pred_big.groupby(['year_bin'])['total_units_19'].sum())"
   ]
  },
  {
   "cell_type": "code",
   "execution_count": 106,
   "id": "c832acd2",
   "metadata": {},
   "outputs": [
    {
     "data": {
      "text/plain": [
       "unit_bin\n",
       "(-1.757, 1758.4]   -0.045466\n",
       "(1758.4, 3509.8]    0.030143\n",
       "(3509.8, 5261.2]         NaN\n",
       "(5261.2, 7012.6]         NaN\n",
       "(7012.6, 8764.0]    0.027571\n",
       "Name: preds_big, dtype: float64"
      ]
     },
     "execution_count": 106,
     "metadata": {},
     "output_type": "execute_result"
    }
   ],
   "source": [
    "# mean rs_share_diff prediction by total units \n",
    " \n",
    "df_pred_big['unit_bin'] = pd.cut(df_pred_big['total_units_19'], \n",
    "                          bins=5,\n",
    "                          duplicates='drop') \n",
    "df_pred_big.groupby('unit_bin')['preds_big'].mean()"
   ]
  },
  {
   "cell_type": "code",
   "execution_count": 88,
   "id": "941b1cd1",
   "metadata": {},
   "outputs": [
    {
     "data": {
      "text/plain": [
       "count    30853.000000\n",
       "mean        38.351603\n",
       "std         77.948874\n",
       "min          7.000000\n",
       "25%         10.000000\n",
       "50%         20.000000\n",
       "75%         45.000000\n",
       "max       8764.000000\n",
       "Name: total_units_19, dtype: float64"
      ]
     },
     "execution_count": 88,
     "metadata": {},
     "output_type": "execute_result"
    }
   ],
   "source": [
    "df_pred_big['total_units_19'].describe() # confirming the min total unit in this dataset is 7"
   ]
  },
  {
   "cell_type": "code",
   "execution_count": 107,
   "id": "8b8cf773",
   "metadata": {},
   "outputs": [
    {
     "data": {
      "text/plain": [
       "unit_bin\n",
       "(-1.757, 1758.4]    1168259\n",
       "(1758.4, 3509.8]       6239\n",
       "(3509.8, 5261.2]          0\n",
       "(5261.2, 7012.6]          0\n",
       "(7012.6, 8764.0]       8764\n",
       "Name: total_units_19, dtype: int64"
      ]
     },
     "execution_count": 107,
     "metadata": {},
     "output_type": "execute_result"
    }
   ],
   "source": [
    "# sum of units by total units in the building\n",
    "\n",
    "df_pred_big.groupby(['unit_bin'])['total_units_19'].sum()"
   ]
  },
  {
   "cell_type": "code",
   "execution_count": 108,
   "id": "540d076f",
   "metadata": {},
   "outputs": [
    {
     "data": {
      "text/plain": [
       "unit_bin\n",
       "(-1.757, 1758.4]   -53115.976949\n",
       "(1758.4, 3509.8]      188.064020\n",
       "(3509.8, 5261.2]             NaN\n",
       "(5261.2, 7012.6]             NaN\n",
       "(7012.6, 8764.0]      241.636083\n",
       "dtype: float64"
      ]
     },
     "execution_count": 108,
     "metadata": {},
     "output_type": "execute_result"
    }
   ],
   "source": [
    "# change in rs unit by year_built\n",
    "\n",
    "df_pred_big.groupby('unit_bin')['preds_big'].mean() * (df_pred_big.groupby(['unit_bin'])['total_units_19'].sum())"
   ]
  },
  {
   "cell_type": "code",
   "execution_count": null,
   "id": "b2a26896",
   "metadata": {},
   "outputs": [],
   "source": []
  }
 ],
 "metadata": {
  "kernelspec": {
   "display_name": "Python 3 (ipykernel)",
   "language": "python",
   "name": "python3"
  },
  "language_info": {
   "codemirror_mode": {
    "name": "ipython",
    "version": 3
   },
   "file_extension": ".py",
   "mimetype": "text/x-python",
   "name": "python",
   "nbconvert_exporter": "python",
   "pygments_lexer": "ipython3",
   "version": "3.7.16"
  }
 },
 "nbformat": 4,
 "nbformat_minor": 5
}
